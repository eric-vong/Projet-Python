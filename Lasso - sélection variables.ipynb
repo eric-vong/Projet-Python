{
 "cells": [
  {
   "cell_type": "markdown",
   "metadata": {},
   "source": [
    "# Essai application modèle Lasso\n",
    "\n",
    "## Principe :\n",
    "\n",
    "En adoptant le principe d'une fonction objectif pénalisée, le LASSO permet de fixer un certain nombre de coefficients à 0. Les variables dont la norme est non nulle passent ainsi le test de sélection. \n",
    "\n",
    "Le LASSO est un programme d'optimisation sous contrainte. On cherche à trouver l'estimateur $\\beta$ qui minimise l'erreur quadratique (régression linéaire) sous une contrainte additionnelle régularisant les paramètres:\n",
    "$$\n",
    "\\min_{\\beta} \\frac{1}{2}\\mathbb{E}\\bigg( \\big( X\\beta - y  \\big)^2 \\bigg) \\\\\n",
    "\\text{s.c. } \\sum_{j=1}^p |\\beta_j| \\leq t\n",
    "$$\n",
    "Ce programme se reformule grâce au Lagrangien est permet ainsi d'obtenir un programme de minimisation plus maniable: \n",
    "$$\n",
    "\\beta^{\\text{LASSO}} = \\arg \\min_{\\beta} \\bigg\\{ \\frac{1}{2}\\mathbb{E}\\bigg( \\big( X\\beta - y  \\big)^2 \\bigg) + \\alpha \\sum_{j=1}^p |\\beta_j| \\bigg\\} = \\arg \\min_{\\beta} \\big\\{ ||y-X\\beta||_{2}^{2} + \\alpha ||\\beta||_1 \\big\\}\n",
    "$$\n",
    "où $\\lambda$ est une réécriture de la régularisation précédente. \n",
    "\n",
    "## warning: sélection de variables corrélées\n"
   ]
  },
  {
   "cell_type": "code",
   "execution_count": 113,
   "metadata": {},
   "outputs": [],
   "source": [
    "import numpy as np\n",
    "import pandas as pd\n",
    "import geopandas as gpd\n",
    "\n",
    "df = gpd.read_file(\"donnees_augmentees.geojson\")"
   ]
  },
  {
   "cell_type": "code",
   "execution_count": 114,
   "metadata": {},
   "outputs": [
    {
     "data": {
      "text/html": [
       "<div>\n",
       "<style scoped>\n",
       "    .dataframe tbody tr th:only-of-type {\n",
       "        vertical-align: middle;\n",
       "    }\n",
       "\n",
       "    .dataframe tbody tr th {\n",
       "        vertical-align: top;\n",
       "    }\n",
       "\n",
       "    .dataframe thead th {\n",
       "        text-align: right;\n",
       "    }\n",
       "</style>\n",
       "<table border=\"1\" class=\"dataframe\">\n",
       "  <thead>\n",
       "    <tr style=\"text-align: right;\">\n",
       "      <th></th>\n",
       "      <th>nom_quartier</th>\n",
       "      <th>id_quartier</th>\n",
       "      <th>ref</th>\n",
       "      <th>min</th>\n",
       "      <th>max</th>\n",
       "      <th>epoque</th>\n",
       "      <th>meuble_txt</th>\n",
       "      <th>piece</th>\n",
       "      <th>distance_centre_paris</th>\n",
       "      <th>superficie_quartier</th>\n",
       "      <th>score_metro</th>\n",
       "      <th>geometry</th>\n",
       "    </tr>\n",
       "  </thead>\n",
       "  <tbody>\n",
       "    <tr>\n",
       "      <th>0</th>\n",
       "      <td>Saint-Fargeau</td>\n",
       "      <td>78</td>\n",
       "      <td>23.1</td>\n",
       "      <td>16.17</td>\n",
       "      <td>27.72</td>\n",
       "      <td>Avant 1946</td>\n",
       "      <td>meublé</td>\n",
       "      <td>3</td>\n",
       "      <td>4.643464</td>\n",
       "      <td>1.486971</td>\n",
       "      <td>0.186527</td>\n",
       "      <td>POLYGON ((2.41381 48.87081, 2.41383 48.87066, ...</td>\n",
       "    </tr>\n",
       "    <tr>\n",
       "      <th>1</th>\n",
       "      <td>Villette</td>\n",
       "      <td>73</td>\n",
       "      <td>16.4</td>\n",
       "      <td>11.48</td>\n",
       "      <td>19.68</td>\n",
       "      <td>Apres 1990</td>\n",
       "      <td>non meublé</td>\n",
       "      <td>4</td>\n",
       "      <td>4.249599</td>\n",
       "      <td>1.285705</td>\n",
       "      <td>0.468929</td>\n",
       "      <td>POLYGON ((2.37050 48.87820, 2.37028 48.87799, ...</td>\n",
       "    </tr>\n",
       "    <tr>\n",
       "      <th>2</th>\n",
       "      <td>Belleville</td>\n",
       "      <td>77</td>\n",
       "      <td>21.6</td>\n",
       "      <td>15.12</td>\n",
       "      <td>25.92</td>\n",
       "      <td>1946-1970</td>\n",
       "      <td>non meublé</td>\n",
       "      <td>4</td>\n",
       "      <td>3.485188</td>\n",
       "      <td>0.806569</td>\n",
       "      <td>0.038651</td>\n",
       "      <td>POLYGON ((2.38323 48.86710, 2.38314 48.86708, ...</td>\n",
       "    </tr>\n",
       "  </tbody>\n",
       "</table>\n",
       "</div>"
      ],
      "text/plain": [
       "    nom_quartier  id_quartier   ref    min    max      epoque  meuble_txt  \\\n",
       "0  Saint-Fargeau           78  23.1  16.17  27.72  Avant 1946      meublé   \n",
       "1       Villette           73  16.4  11.48  19.68  Apres 1990  non meublé   \n",
       "2     Belleville           77  21.6  15.12  25.92   1946-1970  non meublé   \n",
       "\n",
       "   piece  distance_centre_paris  superficie_quartier  score_metro  \\\n",
       "0      3               4.643464             1.486971     0.186527   \n",
       "1      4               4.249599             1.285705     0.468929   \n",
       "2      4               3.485188             0.806569     0.038651   \n",
       "\n",
       "                                            geometry  \n",
       "0  POLYGON ((2.41381 48.87081, 2.41383 48.87066, ...  \n",
       "1  POLYGON ((2.37050 48.87820, 2.37028 48.87799, ...  \n",
       "2  POLYGON ((2.38323 48.86710, 2.38314 48.86708, ...  "
      ]
     },
     "execution_count": 114,
     "metadata": {},
     "output_type": "execute_result"
    }
   ],
   "source": [
    "df.head(3)"
   ]
  },
  {
   "cell_type": "markdown",
   "metadata": {},
   "source": [
    "## Preprocessing\n",
    "\n",
    "Les variables doivent toutes être numériques et standardisées \n",
    "\n",
    "### Variables numériques :\n",
    "\n",
    "- On commence par supprimer les variables inutiles pour la régression linéaire : `min`, `max`et `geometry` :"
   ]
  },
  {
   "cell_type": "code",
   "execution_count": 115,
   "metadata": {},
   "outputs": [],
   "source": [
    "df.drop(['min','max','geometry'],axis=1,inplace=True)"
   ]
  },
  {
   "cell_type": "markdown",
   "metadata": {},
   "source": [
    "- La variable `meuble_txt` peut facilement étre convertie en une variable binaire `meuble_bin`. Comme on n'a que deux modalités, on peut utiliser `LabelEncoder` :"
   ]
  },
  {
   "cell_type": "code",
   "execution_count": 116,
   "metadata": {},
   "outputs": [],
   "source": [
    "from sklearn.preprocessing import LabelEncoder\n",
    "\n",
    "df['meuble_bin'] = LabelEncoder().fit_transform(df['meuble_txt'])\n",
    "df.drop('meuble_txt',axis=1,inplace=True)"
   ]
  },
  {
   "cell_type": "code",
   "execution_count": 117,
   "metadata": {},
   "outputs": [
    {
     "data": {
      "text/html": [
       "<div>\n",
       "<style scoped>\n",
       "    .dataframe tbody tr th:only-of-type {\n",
       "        vertical-align: middle;\n",
       "    }\n",
       "\n",
       "    .dataframe tbody tr th {\n",
       "        vertical-align: top;\n",
       "    }\n",
       "\n",
       "    .dataframe thead th {\n",
       "        text-align: right;\n",
       "    }\n",
       "</style>\n",
       "<table border=\"1\" class=\"dataframe\">\n",
       "  <thead>\n",
       "    <tr style=\"text-align: right;\">\n",
       "      <th></th>\n",
       "      <th>nom_quartier</th>\n",
       "      <th>id_quartier</th>\n",
       "      <th>ref</th>\n",
       "      <th>epoque</th>\n",
       "      <th>piece</th>\n",
       "      <th>distance_centre_paris</th>\n",
       "      <th>superficie_quartier</th>\n",
       "      <th>score_metro</th>\n",
       "      <th>meuble_bin</th>\n",
       "    </tr>\n",
       "  </thead>\n",
       "  <tbody>\n",
       "    <tr>\n",
       "      <th>0</th>\n",
       "      <td>Saint-Fargeau</td>\n",
       "      <td>78</td>\n",
       "      <td>23.1</td>\n",
       "      <td>Avant 1946</td>\n",
       "      <td>3</td>\n",
       "      <td>4.643464</td>\n",
       "      <td>1.486971</td>\n",
       "      <td>0.186527</td>\n",
       "      <td>0</td>\n",
       "    </tr>\n",
       "    <tr>\n",
       "      <th>1</th>\n",
       "      <td>Villette</td>\n",
       "      <td>73</td>\n",
       "      <td>16.4</td>\n",
       "      <td>Apres 1990</td>\n",
       "      <td>4</td>\n",
       "      <td>4.249599</td>\n",
       "      <td>1.285705</td>\n",
       "      <td>0.468929</td>\n",
       "      <td>1</td>\n",
       "    </tr>\n",
       "    <tr>\n",
       "      <th>2</th>\n",
       "      <td>Belleville</td>\n",
       "      <td>77</td>\n",
       "      <td>21.6</td>\n",
       "      <td>1946-1970</td>\n",
       "      <td>4</td>\n",
       "      <td>3.485188</td>\n",
       "      <td>0.806569</td>\n",
       "      <td>0.038651</td>\n",
       "      <td>1</td>\n",
       "    </tr>\n",
       "  </tbody>\n",
       "</table>\n",
       "</div>"
      ],
      "text/plain": [
       "    nom_quartier  id_quartier   ref      epoque  piece  distance_centre_paris  \\\n",
       "0  Saint-Fargeau           78  23.1  Avant 1946      3               4.643464   \n",
       "1       Villette           73  16.4  Apres 1990      4               4.249599   \n",
       "2     Belleville           77  21.6   1946-1970      4               3.485188   \n",
       "\n",
       "   superficie_quartier  score_metro  meuble_bin  \n",
       "0             1.486971     0.186527           0  \n",
       "1             1.285705     0.468929           1  \n",
       "2             0.806569     0.038651           1  "
      ]
     },
     "execution_count": 117,
     "metadata": {},
     "output_type": "execute_result"
    }
   ],
   "source": [
    "df.head(3)"
   ]
  },
  {
   "cell_type": "markdown",
   "metadata": {},
   "source": [
    "$\\hookrightarrow$ `meuble_bin` vaut donc ici 0 si l'appartement est meublé, et 1 sinon.\n",
    "\n",
    "- Pour la variable `id_quartier`, il y a 80 modalités. On peut donc, si on veut prendre en compte cette variable, utiliser `OneHotEncoder`. On va alors créer 80 nouvelles variables, et il faudra enlever l'une d'elle (peu importe laquelle) pour ne pas avoir de problème de colinéarité lorsqu'on réalisera des régressions linéaires."
   ]
  },
  {
   "cell_type": "code",
   "execution_count": 119,
   "metadata": {},
   "outputs": [],
   "source": [
    "from sklearn.preprocessing import LabelBinarizer\n",
    "\n",
    "ohe_id_quartier = pd.DataFrame(LabelBinarizer().fit_transform(df['id_quartier'].sort_values()))\n",
    "\n",
    "# On renomme les colonnes sous la forme : q_[0-79]\n",
    "colonnes = {}\n",
    "for i in range(80) :\n",
    "    colonnes[i] = 'q_'+str(i+1)\n",
    "ohe_id_quartier.rename(columns=colonnes, inplace=True)"
   ]
  },
  {
   "cell_type": "code",
   "execution_count": 120,
   "metadata": {},
   "outputs": [],
   "source": [
    "# On ajoute les nouvelles variables et supprime celles devenues inutiles ('nom_quartier','id_quartier' et 'q_80')\n",
    "\n",
    "df = df.join(ohe_id_quartier)\n",
    "df.drop(['nom_quartier','id_quartier','q_80'],axis=1,inplace=True)"
   ]
  },
  {
   "cell_type": "markdown",
   "metadata": {},
   "source": [
    "$\\hookrightarrow$ Chaque variable `q_i` vaut 1 si l'appartement est situé dans le quartier numéro i, et 0 sinon.\n",
    "\n",
    "- On fait pareil que précédemment pour la variable `epoque`. Cette fois, on a 4 modalités différentes (epoque_0 : 'Avant 1946' , epoque_1 : '1946-1970', epoque_2 : '1971-1990' et epoque_3 : 'Apres 1990')."
   ]
  },
  {
   "cell_type": "code",
   "execution_count": 122,
   "metadata": {},
   "outputs": [],
   "source": [
    "ohe_epoque = pd.DataFrame(LabelBinarizer().fit_transform(df['epoque']))\n",
    "\n",
    "# On renomme les colonnes sous la forme : epoque_[0-79]\n",
    "colonnes = {0 : 'epoque_0', 1 : 'epoque_3', 2 : 'epoque_1', 3 : 'epoque_2'}  #faire df.head() pour comprendre quelle colonne correspond à quelle période de temps\n",
    "ohe_epoque.rename(columns=colonnes, inplace=True)"
   ]
  },
  {
   "cell_type": "code",
   "execution_count": 123,
   "metadata": {},
   "outputs": [],
   "source": [
    "# On ajoute les nouvelles variables et supprime celles devenues inutiles ('epoque' et 'epoque_0')\n",
    "\n",
    "df = df.join(ohe_epoque)\n",
    "df.drop(['epoque','epoque_0'],axis=1,inplace=True)"
   ]
  },
  {
   "cell_type": "markdown",
   "metadata": {},
   "source": [
    "$\\hookrightarrow$ Chaque variable `epoque_i` vaut 1 si l'appartement se trouve dans un immeuble datant de l'époque epoque_i. "
   ]
  },
  {
   "cell_type": "markdown",
   "metadata": {},
   "source": [
    "### Standardisation : \n",
    "\n",
    "Pour appliquer un modèle LASSO, il faut que toutes les variables numériques soient standardisées."
   ]
  },
  {
   "cell_type": "code",
   "execution_count": 124,
   "metadata": {},
   "outputs": [],
   "source": [
    "from sklearn.preprocessing import StandardScaler\n",
    "\n",
    "data = StandardScaler().fit(df).transform(df.fillna(0))"
   ]
  },
  {
   "cell_type": "markdown",
   "metadata": {},
   "source": [
    "## Choix de la valeur de l'hyperparamètre \n",
    "\n",
    "On va tester le modèle LASSO avec différentes valeurs pour l'hyper-paramètre $\\alpha$, et représenter le nombre de variables sélectionnées en fonction de $\\alpha$."
   ]
  },
  {
   "cell_type": "code",
   "execution_count": 125,
   "metadata": {},
   "outputs": [
    {
     "data": {
      "image/png": "[encoded data removed]",
      "text/plain": [
       "<Figure size 432x288 with 1 Axes>"
      ]
     },
     "metadata": {},
     "output_type": "display_data"
    }
   ],
   "source": [
    "import matplotlib.pyplot as plt\n",
    "from sklearn.linear_model import lasso_path\n",
    "import seaborn as sns\n",
    "\n",
    "yindex = df.columns.get_loc(\"ref\")\n",
    "alphas = np.array([0.001,0.01,0.02,0.025,0.05,0.1,0.25,0.5,0.8,1.0])\n",
    "\n",
    "alpha_for_path, coefs_lasso, _ = lasso_path(np.delete(data, yindex, axis = 1),data[:,yindex],alphas=alphas)\n",
    "nb_non_zero = np.apply_along_axis(func1d=np.count_nonzero,arr=coefs_lasso,axis=0)\n",
    "\n",
    "sns.set_style(\"whitegrid\")\n",
    "p = sns.lineplot(y=nb_non_zero, x=alpha_for_path).set(title = r\"Number variables and regularization parameter ($\\alpha$)\", xlabel=r'$\\alpha$', ylabel='Nb. de variables')\n",
    "p\n",
    "plt.show()"
   ]
  },
  {
   "cell_type": "markdown",
   "metadata": {},
   "source": [
    "$\\hookrightarrow$ On remarque que le nombre de variables sélectionnées décroit très rapidement. On peut supposer que cela est du au fait que si on établit que le quartier n'a pas d'influence sur le loyer, on peut directement écarter 79 variables..."
   ]
  },
  {
   "cell_type": "markdown",
   "metadata": {},
   "source": [
    "## Modèle Lasso avec $\\alpha=0.1$ "
   ]
  },
  {
   "cell_type": "markdown",
   "metadata": {},
   "source": [
    "Au vu du graphique précédent, on peut penser que la meilleur valeur de l'hyperparamètre soit $\\alpha = 0.1$, zone d'inflexion de la courbe. On va donc tester le modèle LASSO avec ce paramètre pour voir quelles variables sont retenues pour expliquer le loyer des appartements."
   ]
  },
  {
   "cell_type": "code",
   "execution_count": 126,
   "metadata": {},
   "outputs": [
    {
     "data": {
      "text/plain": [
       "Lasso(alpha=0.1, fit_intercept=False)"
      ]
     },
     "execution_count": 126,
     "metadata": {},
     "output_type": "execute_result"
    }
   ],
   "source": [
    "from sklearn.linear_model import Lasso\n",
    "\n",
    "alpha = 0.1\n",
    "\n",
    "lasso1 = Lasso(fit_intercept=False,normalize=False, alpha = alpha)\n",
    "lasso1.fit(np.delete(data, yindex, axis = 1),data[:,yindex])"
   ]
  },
  {
   "cell_type": "code",
   "execution_count": 127,
   "metadata": {},
   "outputs": [
    {
     "data": {
      "text/plain": [
       "array([0.4480399 , 0.18119295, 0.        , 0.        , 0.27604745,\n",
       "       0.        , 0.        , 0.        , 0.        , 0.        ,\n",
       "       0.        , 0.        , 0.        , 0.        , 0.        ,\n",
       "       0.        , 0.        , 0.        , 0.        , 0.        ,\n",
       "       0.        , 0.        , 0.        , 0.        , 0.        ,\n",
       "       0.        , 0.        , 0.        , 0.        , 0.        ,\n",
       "       0.        , 0.        , 0.        , 0.        , 0.        ,\n",
       "       0.        , 0.        , 0.        , 0.        , 0.        ,\n",
       "       0.        , 0.        , 0.        , 0.        , 0.        ,\n",
       "       0.        , 0.        , 0.        , 0.        , 0.        ,\n",
       "       0.        , 0.        , 0.        , 0.        , 0.        ,\n",
       "       0.        , 0.        , 0.        , 0.        , 0.        ,\n",
       "       0.        , 0.        , 0.        , 0.        , 0.        ,\n",
       "       0.        , 0.        , 0.        , 0.        , 0.        ,\n",
       "       0.        , 0.        , 0.        , 0.        , 0.        ,\n",
       "       0.        , 0.        , 0.        , 0.        , 0.        ,\n",
       "       0.        , 0.        , 0.        , 0.        , 0.        ,\n",
       "       0.02428343, 0.0946112 ])"
      ]
     },
     "execution_count": 127,
     "metadata": {},
     "output_type": "execute_result"
    }
   ],
   "source": [
    "np.abs(lasso1.coef_)"
   ]
  },
  {
   "cell_type": "markdown",
   "metadata": {},
   "source": [
    "Voici donc les colonnes sélectionnées par le modèle LASSO :"
   ]
  },
  {
   "cell_type": "code",
   "execution_count": 128,
   "metadata": {},
   "outputs": [
    {
     "data": {
      "text/plain": [
       "Index(['piece', 'distance_centre_paris', 'meuble_bin', 'epoque_1', 'epoque_2'], dtype='object')"
      ]
     },
     "execution_count": 128,
     "metadata": {},
     "output_type": "execute_result"
    }
   ],
   "source": [
    "df.drop(\"ref\", axis = 1).columns[np.abs(lasso1.coef_)>0]"
   ]
  },
  {
   "cell_type": "markdown",
   "metadata": {},
   "source": [
    "$\\hookrightarrow$ Le modèle LASSO avec $\\alpha = 0.1$ sélectionne donc le nombre de pièces comme ayant la plus grande incidence sur le loyer. Il sélectionne également la distance au centre de Paris, qui est une information sur les quartiers, et le fait que le logement soit proposé comme meublé ou non. Deux des variables correspondant à l'époque de construction sont également sélectionnées, mais obtiennent des coefficients beaucoup plus petits. "
   ]
  },
  {
   "cell_type": "code",
   "execution_count": null,
   "metadata": {},
   "outputs": [],
   "source": []
  }
 ],
 "metadata": {
  "kernelspec": {
   "display_name": "Python 3",
   "language": "python",
   "name": "python3"
  },
  "language_info": {
   "codemirror_mode": {
    "name": "ipython",
    "version": 3
   },
   "file_extension": ".py",
   "mimetype": "text/x-python",
   "name": "python",
   "nbconvert_exporter": "python",
   "pygments_lexer": "ipython3",
   "version": "3.8.3"
  }
 },
 "nbformat": 4,
 "nbformat_minor": 4
}
