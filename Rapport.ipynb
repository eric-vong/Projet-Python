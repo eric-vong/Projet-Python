{
 "cells": [
  {
   "cell_type": "markdown",
   "metadata": {},
   "source": [
    "# Projet Python pour le Data Scientist "
   ]
  },
  {
   "cell_type": "markdown",
   "metadata": {},
   "source": [
    "Projet réalisé par Eric Vong, Thibaut Valour et Solène Blasco Lopez\n",
    "\n",
    "Ce projet Python utilise les données de l'OpenData de Paris sur l'encadrement des loyers de 2019, enrichies par l'intermédiaire de données web-scrapées sur internet. Il expérimente différents modèles de régression entrainés sur ces données, dans le but de révéler les déterminants des loyers de référence des appartements parisiens, et d'être capable de les prédire. \n",
    "\n",
    "L'objet de ce projet est donc de répondre à la problématique suivante : \n",
    "**Quels sont les déterminants du loyer d'un bien immobilier parisien ?**\n",
    "\n",
    "Une première partie de ce projet est consacrée à la récupération des données, et à la création de nouvelles variables explicatives, à partir de la base initiale ou de webscraping. Dans un second temps, nous avons mené une analyse descriptive pour représenter les données et se faire une première idée de la manière dont les variables à notre disposition impactent les loyers parisiens. Enfin, nous avons implémenter des modèles de régressions pour tenter de prédire les loyers parisiens à partir des variables explicatives les plus pertinentes.\n",
    "\n",
    "*Import des modules nécessaires à la réalisation du projet :*"
   ]
  },
  {
   "cell_type": "code",
   "execution_count": 2,
   "metadata": {},
   "outputs": [],
   "source": [
    "import re\n",
    "\n",
    "# Manipulation des donneés :\n",
    "import pandas as pd\n",
    "import geopandas as gpd\n",
    "\n",
    "# Web-scraping :\n",
    "import urllib\n",
    "import bs4 \n",
    "\n",
    "#Traitement des données :\n",
    "from sklearn.preprocessing import LabelBinarizer, LabelEncoder, StandardScaler\n",
    "from sklearn.decomposition import PCA\n",
    "\n",
    "from sklearn.linear_model import Lasso, lasso_path\n",
    "\n",
    "# Représentations graphiques :\n",
    "import numpy as np\n",
    "import matplotlib.pyplot as plt\n",
    "import seaborn as sns"
   ]
  },
  {
   "cell_type": "markdown",
   "metadata": {},
   "source": [
    "## Partie 1 - Création de la base de données\n",
    "*(Les lignes de code qui suivent peuvent être trouvées dans le dossier `data` du dépôt git)*"
   ]
  },
  {
   "cell_type": "markdown",
   "metadata": {},
   "source": [
    "### 1. Récupération des données de la mairie de Paris concernant l'encadrement des loyers\n",
    "\n",
    "La mairie de Paris a mis en ligne une base de données concernant l'encadrement des loyers de ses logements en 2019. On y trouve une classification des logements, selon leur localisation (quartier administratif) et leur type (nombre de pièces, époque de construction, location meublée/non-meublée), accompagnée de leurs loyers de référence. \n",
    "\n",
    "*Lien contenant les informations de la mairie de Paris sur ces données : https://opendata.paris.fr/explore/dataset/logement-encadrement-des-loyers/information/?disjunctive.id_zone&disjunctive.nom_quartier&disjunctive.piece&disjunctive.epoque&disjunctive.meuble_txt&sort=-id_zone&location=15,48.84958,2.34691&basemap=jawg.streets*\n",
    "\n",
    "*Import des données :*"
   ]
  },
  {
   "cell_type": "code",
   "execution_count": 3,
   "metadata": {},
   "outputs": [],
   "source": [
    "donnees_brutes = gpd.read_file('https://opendata.paris.fr/explore/dataset/logement-encadrement-des-loyers/download/?format=geojson&timezone=Europe/Berlin&lang=fr')"
   ]
  },
  {
   "cell_type": "markdown",
   "metadata": {},
   "source": [
    "On ne sélectionne que les colonnes qui nous intérèssent : \n",
    "- `nom_quartier` et `id_quartier` : nom et id du quartier (administratif)\n",
    "- `ref` : loyer de référence (encadrement : `min` et `max`)\n",
    "- `epoque` : époque de construction de l'appartement\n",
    "- `meuble_txt` : location en tant que logement meublé ou non-meublé\n",
    "- `piece` : nombre de pièces\n",
    "- `geometry` : représentation graphique du quartier."
   ]
  },
  {
   "cell_type": "code",
   "execution_count": 4,
   "metadata": {},
   "outputs": [],
   "source": [
    "donnees = donnees_brutes[['nom_quartier','id_quartier','ref','min','max','epoque','meuble_txt','piece','geometry']]"
   ]
  },
  {
   "cell_type": "code",
   "execution_count": 5,
   "metadata": {},
   "outputs": [
    {
     "data": {
      "text/html": [
       "<div>\n",
       "<style scoped>\n",
       "    .dataframe tbody tr th:only-of-type {\n",
       "        vertical-align: middle;\n",
       "    }\n",
       "\n",
       "    .dataframe tbody tr th {\n",
       "        vertical-align: top;\n",
       "    }\n",
       "\n",
       "    .dataframe thead th {\n",
       "        text-align: right;\n",
       "    }\n",
       "</style>\n",
       "<table border=\"1\" class=\"dataframe\">\n",
       "  <thead>\n",
       "    <tr style=\"text-align: right;\">\n",
       "      <th></th>\n",
       "      <th>nom_quartier</th>\n",
       "      <th>id_quartier</th>\n",
       "      <th>ref</th>\n",
       "      <th>min</th>\n",
       "      <th>max</th>\n",
       "      <th>epoque</th>\n",
       "      <th>meuble_txt</th>\n",
       "      <th>piece</th>\n",
       "      <th>geometry</th>\n",
       "    </tr>\n",
       "  </thead>\n",
       "  <tbody>\n",
       "    <tr>\n",
       "      <th>0</th>\n",
       "      <td>Saint-Fargeau</td>\n",
       "      <td>78</td>\n",
       "      <td>23.1</td>\n",
       "      <td>16.17</td>\n",
       "      <td>27.72</td>\n",
       "      <td>Avant 1946</td>\n",
       "      <td>meublé</td>\n",
       "      <td>3</td>\n",
       "      <td>POLYGON ((2.41381 48.87081, 2.41383 48.87066, ...</td>\n",
       "    </tr>\n",
       "    <tr>\n",
       "      <th>1</th>\n",
       "      <td>Villette</td>\n",
       "      <td>73</td>\n",
       "      <td>16.4</td>\n",
       "      <td>11.48</td>\n",
       "      <td>19.68</td>\n",
       "      <td>Apres 1990</td>\n",
       "      <td>non meublé</td>\n",
       "      <td>4</td>\n",
       "      <td>POLYGON ((2.37050 48.87820, 2.37028 48.87799, ...</td>\n",
       "    </tr>\n",
       "    <tr>\n",
       "      <th>2</th>\n",
       "      <td>Belleville</td>\n",
       "      <td>77</td>\n",
       "      <td>21.6</td>\n",
       "      <td>15.12</td>\n",
       "      <td>25.92</td>\n",
       "      <td>1946-1970</td>\n",
       "      <td>non meublé</td>\n",
       "      <td>4</td>\n",
       "      <td>POLYGON ((2.38323 48.86710, 2.38314 48.86708, ...</td>\n",
       "    </tr>\n",
       "    <tr>\n",
       "      <th>3</th>\n",
       "      <td>Pont-de-Flandre</td>\n",
       "      <td>74</td>\n",
       "      <td>18.9</td>\n",
       "      <td>13.23</td>\n",
       "      <td>22.68</td>\n",
       "      <td>1971-1990</td>\n",
       "      <td>meublé</td>\n",
       "      <td>3</td>\n",
       "      <td>POLYGON ((2.38488 48.88663, 2.38483 48.88662, ...</td>\n",
       "    </tr>\n",
       "    <tr>\n",
       "      <th>4</th>\n",
       "      <td>Charonne</td>\n",
       "      <td>80</td>\n",
       "      <td>14.6</td>\n",
       "      <td>10.22</td>\n",
       "      <td>17.52</td>\n",
       "      <td>1946-1970</td>\n",
       "      <td>non meublé</td>\n",
       "      <td>4</td>\n",
       "      <td>POLYGON ((2.41602 48.84675, 2.41599 48.84661, ...</td>\n",
       "    </tr>\n",
       "  </tbody>\n",
       "</table>\n",
       "</div>"
      ],
      "text/plain": [
       "      nom_quartier  id_quartier   ref    min    max      epoque  meuble_txt  \\\n",
       "0    Saint-Fargeau           78  23.1  16.17  27.72  Avant 1946      meublé   \n",
       "1         Villette           73  16.4  11.48  19.68  Apres 1990  non meublé   \n",
       "2       Belleville           77  21.6  15.12  25.92   1946-1970  non meublé   \n",
       "3  Pont-de-Flandre           74  18.9  13.23  22.68   1971-1990      meublé   \n",
       "4         Charonne           80  14.6  10.22  17.52   1946-1970  non meublé   \n",
       "\n",
       "   piece                                           geometry  \n",
       "0      3  POLYGON ((2.41381 48.87081, 2.41383 48.87066, ...  \n",
       "1      4  POLYGON ((2.37050 48.87820, 2.37028 48.87799, ...  \n",
       "2      4  POLYGON ((2.38323 48.86710, 2.38314 48.86708, ...  \n",
       "3      3  POLYGON ((2.38488 48.88663, 2.38483 48.88662, ...  \n",
       "4      4  POLYGON ((2.41602 48.84675, 2.41599 48.84661, ...  "
      ]
     },
     "execution_count": 5,
     "metadata": {},
     "output_type": "execute_result"
    }
   ],
   "source": [
    "donnees.head(5)"
   ]
  },
  {
   "cell_type": "markdown",
   "metadata": {},
   "source": [
    "Cette base de données référence 2560 appartements. On vérifie qu'il n'y a pas de valeurs manquantes :"
   ]
  },
  {
   "cell_type": "code",
   "execution_count": 6,
   "metadata": {},
   "outputs": [
    {
     "data": {
      "text/plain": [
       "nom_quartier    2560\n",
       "id_quartier     2560\n",
       "ref             2560\n",
       "min             2560\n",
       "max             2560\n",
       "epoque          2560\n",
       "meuble_txt      2560\n",
       "piece           2560\n",
       "geometry        2560\n",
       "dtype: int64"
      ]
     },
     "execution_count": 6,
     "metadata": {},
     "output_type": "execute_result"
    }
   ],
   "source": [
    "donnees.count()"
   ]
  },
  {
   "cell_type": "markdown",
   "metadata": {},
   "source": [
    "### 2. Création de deux variables : superficie des quartiers et leur distance au centre de Paris\n"
   ]
  },
  {
   "cell_type": "markdown",
   "metadata": {},
   "source": [
    "Pour tenter de mieux comprendre l'impact que pourrait avoir le quartier de localisation sur le loyer de référence d'un appartement, on utilise la variable `geometry`, qui représente les quartiers, pour créer deux nouvelles variables :\n",
    "- une variable `superficie_quartier`, qui correspond à la superficie de chaque quartier. L'intuition derrière ce choix de variable est de représenter en partie l'\"offre\" d'appartements de chaque quartier. En effet, plus un quartier est petit (notamment dans le centre de Paris), plus les appartements mis à la location sont \"rares\" et donc prisés et chers.\n",
    "- une variable `distance_centre`, qui correspond à la distance du centre de chaque quartier au centre de Paris. L'intuition derrière ce choix de variable est de représenter en partie la \"demande\" d'appartements. En effet, plus un quartier est proche du centre de Paris, plus les appartements mis à la location sont attractifs, et donc chers, car mieux situés.\n",
    "\n",
    "*Remarque : Les données de la mairie de Paris utilisent le système de projection `epsg 4326`. Pour la création de ces variables, nous allons donc devoir passer par le système de projection `epsg 2154` pour pouvoir obtenir des distances en mètres et des aires en mètres carrés.*"
   ]
  },
  {
   "cell_type": "code",
   "execution_count": 7,
   "metadata": {},
   "outputs": [
    {
     "data": {
      "text/plain": [
       "{'init': 'epsg:4326'}"
      ]
     },
     "execution_count": 7,
     "metadata": {},
     "output_type": "execute_result"
    }
   ],
   "source": [
    "donnees.crs"
   ]
  },
  {
   "cell_type": "markdown",
   "metadata": {},
   "source": [
    "- Ajout de la variable `distance_centre_paris` :"
   ]
  },
  {
   "cell_type": "code",
   "execution_count": 8,
   "metadata": {},
   "outputs": [],
   "source": [
    "#Récupération des centres des quartiers :\n",
    "\n",
    "df = donnees.centroid \n",
    "df = df.to_crs(epsg=2154)"
   ]
  },
  {
   "cell_type": "code",
   "execution_count": 9,
   "metadata": {},
   "outputs": [],
   "source": [
    "#Centre de Paris (coordonnées trouvées sur internet): \n",
    "\n",
    "longitude = [2.3488 for i in range(2560)]\n",
    "latitude = [48.8534 for i in range(2560)]\n",
    "\n",
    "df2 = gpd.GeoDataFrame(geometry = gpd.points_from_xy(longitude, latitude),crs={'init': 'epsg:4326'})\n",
    "df2 = df2.to_crs(epsg=2154)"
   ]
  },
  {
   "cell_type": "code",
   "execution_count": 10,
   "metadata": {},
   "outputs": [],
   "source": [
    "# Tables des distances pour chaque appartement de la base de données :\n",
    "\n",
    "distances = pd.DataFrame(df.distance(df2)*10**(-3),columns=[\"distance_centre_paris\"])  #la multiplication par 10^3 convertit les mètres en kms"
   ]
  },
  {
   "cell_type": "code",
   "execution_count": 11,
   "metadata": {},
   "outputs": [],
   "source": [
    "# Ajout de la nouvelle variable à la base de données : \n",
    "\n",
    "donnees = donnees.join(distances)"
   ]
  },
  {
   "cell_type": "code",
   "execution_count": 12,
   "metadata": {},
   "outputs": [
    {
     "data": {
      "text/html": [
       "<div>\n",
       "<style scoped>\n",
       "    .dataframe tbody tr th:only-of-type {\n",
       "        vertical-align: middle;\n",
       "    }\n",
       "\n",
       "    .dataframe tbody tr th {\n",
       "        vertical-align: top;\n",
       "    }\n",
       "\n",
       "    .dataframe thead th {\n",
       "        text-align: right;\n",
       "    }\n",
       "</style>\n",
       "<table border=\"1\" class=\"dataframe\">\n",
       "  <thead>\n",
       "    <tr style=\"text-align: right;\">\n",
       "      <th></th>\n",
       "      <th>nom_quartier</th>\n",
       "      <th>id_quartier</th>\n",
       "      <th>ref</th>\n",
       "      <th>min</th>\n",
       "      <th>max</th>\n",
       "      <th>epoque</th>\n",
       "      <th>meuble_txt</th>\n",
       "      <th>piece</th>\n",
       "      <th>geometry</th>\n",
       "      <th>distance_centre_paris</th>\n",
       "    </tr>\n",
       "  </thead>\n",
       "  <tbody>\n",
       "    <tr>\n",
       "      <th>0</th>\n",
       "      <td>Saint-Fargeau</td>\n",
       "      <td>78</td>\n",
       "      <td>23.1</td>\n",
       "      <td>16.17</td>\n",
       "      <td>27.72</td>\n",
       "      <td>Avant 1946</td>\n",
       "      <td>meublé</td>\n",
       "      <td>3</td>\n",
       "      <td>POLYGON ((2.41381 48.87081, 2.41383 48.87066, ...</td>\n",
       "      <td>4.643464</td>\n",
       "    </tr>\n",
       "    <tr>\n",
       "      <th>1</th>\n",
       "      <td>Villette</td>\n",
       "      <td>73</td>\n",
       "      <td>16.4</td>\n",
       "      <td>11.48</td>\n",
       "      <td>19.68</td>\n",
       "      <td>Apres 1990</td>\n",
       "      <td>non meublé</td>\n",
       "      <td>4</td>\n",
       "      <td>POLYGON ((2.37050 48.87820, 2.37028 48.87799, ...</td>\n",
       "      <td>4.249599</td>\n",
       "    </tr>\n",
       "    <tr>\n",
       "      <th>2</th>\n",
       "      <td>Belleville</td>\n",
       "      <td>77</td>\n",
       "      <td>21.6</td>\n",
       "      <td>15.12</td>\n",
       "      <td>25.92</td>\n",
       "      <td>1946-1970</td>\n",
       "      <td>non meublé</td>\n",
       "      <td>4</td>\n",
       "      <td>POLYGON ((2.38323 48.86710, 2.38314 48.86708, ...</td>\n",
       "      <td>3.485188</td>\n",
       "    </tr>\n",
       "    <tr>\n",
       "      <th>3</th>\n",
       "      <td>Pont-de-Flandre</td>\n",
       "      <td>74</td>\n",
       "      <td>18.9</td>\n",
       "      <td>13.23</td>\n",
       "      <td>22.68</td>\n",
       "      <td>1971-1990</td>\n",
       "      <td>meublé</td>\n",
       "      <td>3</td>\n",
       "      <td>POLYGON ((2.38488 48.88663, 2.38483 48.88662, ...</td>\n",
       "      <td>5.379327</td>\n",
       "    </tr>\n",
       "    <tr>\n",
       "      <th>4</th>\n",
       "      <td>Charonne</td>\n",
       "      <td>80</td>\n",
       "      <td>14.6</td>\n",
       "      <td>10.22</td>\n",
       "      <td>17.52</td>\n",
       "      <td>1946-1970</td>\n",
       "      <td>non meublé</td>\n",
       "      <td>4</td>\n",
       "      <td>POLYGON ((2.41602 48.84675, 2.41599 48.84661, ...</td>\n",
       "      <td>4.304793</td>\n",
       "    </tr>\n",
       "  </tbody>\n",
       "</table>\n",
       "</div>"
      ],
      "text/plain": [
       "      nom_quartier  id_quartier   ref    min    max      epoque  meuble_txt  \\\n",
       "0    Saint-Fargeau           78  23.1  16.17  27.72  Avant 1946      meublé   \n",
       "1         Villette           73  16.4  11.48  19.68  Apres 1990  non meublé   \n",
       "2       Belleville           77  21.6  15.12  25.92   1946-1970  non meublé   \n",
       "3  Pont-de-Flandre           74  18.9  13.23  22.68   1971-1990      meublé   \n",
       "4         Charonne           80  14.6  10.22  17.52   1946-1970  non meublé   \n",
       "\n",
       "   piece                                           geometry  \\\n",
       "0      3  POLYGON ((2.41381 48.87081, 2.41383 48.87066, ...   \n",
       "1      4  POLYGON ((2.37050 48.87820, 2.37028 48.87799, ...   \n",
       "2      4  POLYGON ((2.38323 48.86710, 2.38314 48.86708, ...   \n",
       "3      3  POLYGON ((2.38488 48.88663, 2.38483 48.88662, ...   \n",
       "4      4  POLYGON ((2.41602 48.84675, 2.41599 48.84661, ...   \n",
       "\n",
       "   distance_centre_paris  \n",
       "0               4.643464  \n",
       "1               4.249599  \n",
       "2               3.485188  \n",
       "3               5.379327  \n",
       "4               4.304793  "
      ]
     },
     "execution_count": 12,
     "metadata": {},
     "output_type": "execute_result"
    }
   ],
   "source": [
    "donnees.head(5)"
   ]
  },
  {
   "cell_type": "markdown",
   "metadata": {},
   "source": [
    "- Ajout de la variable `superficie_quartier` :"
   ]
  },
  {
   "cell_type": "code",
   "execution_count": 13,
   "metadata": {},
   "outputs": [],
   "source": [
    "# On ne conserve que les géométries, pour les passer dans le système espg 2154 :\n",
    "df3 = donnees.geometry\n",
    "df3 = df3.to_crs(epsg=2154)"
   ]
  },
  {
   "cell_type": "code",
   "execution_count": 14,
   "metadata": {},
   "outputs": [],
   "source": [
    "#Création de la nouvelle variable :\n",
    "donnees['superficie_quartier'] = df3.area.div(10**6)  #La division convertit les m² en km²"
   ]
  },
  {
   "cell_type": "code",
   "execution_count": 15,
   "metadata": {},
   "outputs": [
    {
     "data": {
      "text/html": [
       "<div>\n",
       "<style scoped>\n",
       "    .dataframe tbody tr th:only-of-type {\n",
       "        vertical-align: middle;\n",
       "    }\n",
       "\n",
       "    .dataframe tbody tr th {\n",
       "        vertical-align: top;\n",
       "    }\n",
       "\n",
       "    .dataframe thead th {\n",
       "        text-align: right;\n",
       "    }\n",
       "</style>\n",
       "<table border=\"1\" class=\"dataframe\">\n",
       "  <thead>\n",
       "    <tr style=\"text-align: right;\">\n",
       "      <th></th>\n",
       "      <th>nom_quartier</th>\n",
       "      <th>id_quartier</th>\n",
       "      <th>ref</th>\n",
       "      <th>min</th>\n",
       "      <th>max</th>\n",
       "      <th>epoque</th>\n",
       "      <th>meuble_txt</th>\n",
       "      <th>piece</th>\n",
       "      <th>geometry</th>\n",
       "      <th>distance_centre_paris</th>\n",
       "      <th>superficie_quartier</th>\n",
       "    </tr>\n",
       "  </thead>\n",
       "  <tbody>\n",
       "    <tr>\n",
       "      <th>0</th>\n",
       "      <td>Saint-Fargeau</td>\n",
       "      <td>78</td>\n",
       "      <td>23.1</td>\n",
       "      <td>16.17</td>\n",
       "      <td>27.72</td>\n",
       "      <td>Avant 1946</td>\n",
       "      <td>meublé</td>\n",
       "      <td>3</td>\n",
       "      <td>POLYGON ((2.41381 48.87081, 2.41383 48.87066, ...</td>\n",
       "      <td>4.643464</td>\n",
       "      <td>1.486971</td>\n",
       "    </tr>\n",
       "    <tr>\n",
       "      <th>1</th>\n",
       "      <td>Villette</td>\n",
       "      <td>73</td>\n",
       "      <td>16.4</td>\n",
       "      <td>11.48</td>\n",
       "      <td>19.68</td>\n",
       "      <td>Apres 1990</td>\n",
       "      <td>non meublé</td>\n",
       "      <td>4</td>\n",
       "      <td>POLYGON ((2.37050 48.87820, 2.37028 48.87799, ...</td>\n",
       "      <td>4.249599</td>\n",
       "      <td>1.285705</td>\n",
       "    </tr>\n",
       "    <tr>\n",
       "      <th>2</th>\n",
       "      <td>Belleville</td>\n",
       "      <td>77</td>\n",
       "      <td>21.6</td>\n",
       "      <td>15.12</td>\n",
       "      <td>25.92</td>\n",
       "      <td>1946-1970</td>\n",
       "      <td>non meublé</td>\n",
       "      <td>4</td>\n",
       "      <td>POLYGON ((2.38323 48.86710, 2.38314 48.86708, ...</td>\n",
       "      <td>3.485188</td>\n",
       "      <td>0.806569</td>\n",
       "    </tr>\n",
       "    <tr>\n",
       "      <th>3</th>\n",
       "      <td>Pont-de-Flandre</td>\n",
       "      <td>74</td>\n",
       "      <td>18.9</td>\n",
       "      <td>13.23</td>\n",
       "      <td>22.68</td>\n",
       "      <td>1971-1990</td>\n",
       "      <td>meublé</td>\n",
       "      <td>3</td>\n",
       "      <td>POLYGON ((2.38488 48.88663, 2.38483 48.88662, ...</td>\n",
       "      <td>5.379327</td>\n",
       "      <td>2.376238</td>\n",
       "    </tr>\n",
       "    <tr>\n",
       "      <th>4</th>\n",
       "      <td>Charonne</td>\n",
       "      <td>80</td>\n",
       "      <td>14.6</td>\n",
       "      <td>10.22</td>\n",
       "      <td>17.52</td>\n",
       "      <td>1946-1970</td>\n",
       "      <td>non meublé</td>\n",
       "      <td>4</td>\n",
       "      <td>POLYGON ((2.41602 48.84675, 2.41599 48.84661, ...</td>\n",
       "      <td>4.304793</td>\n",
       "      <td>2.090904</td>\n",
       "    </tr>\n",
       "  </tbody>\n",
       "</table>\n",
       "</div>"
      ],
      "text/plain": [
       "      nom_quartier  id_quartier   ref    min    max      epoque  meuble_txt  \\\n",
       "0    Saint-Fargeau           78  23.1  16.17  27.72  Avant 1946      meublé   \n",
       "1         Villette           73  16.4  11.48  19.68  Apres 1990  non meublé   \n",
       "2       Belleville           77  21.6  15.12  25.92   1946-1970  non meublé   \n",
       "3  Pont-de-Flandre           74  18.9  13.23  22.68   1971-1990      meublé   \n",
       "4         Charonne           80  14.6  10.22  17.52   1946-1970  non meublé   \n",
       "\n",
       "   piece                                           geometry  \\\n",
       "0      3  POLYGON ((2.41381 48.87081, 2.41383 48.87066, ...   \n",
       "1      4  POLYGON ((2.37050 48.87820, 2.37028 48.87799, ...   \n",
       "2      4  POLYGON ((2.38323 48.86710, 2.38314 48.86708, ...   \n",
       "3      3  POLYGON ((2.38488 48.88663, 2.38483 48.88662, ...   \n",
       "4      4  POLYGON ((2.41602 48.84675, 2.41599 48.84661, ...   \n",
       "\n",
       "   distance_centre_paris  superficie_quartier  \n",
       "0               4.643464             1.486971  \n",
       "1               4.249599             1.285705  \n",
       "2               3.485188             0.806569  \n",
       "3               5.379327             2.376238  \n",
       "4               4.304793             2.090904  "
      ]
     },
     "execution_count": 15,
     "metadata": {},
     "output_type": "execute_result"
    }
   ],
   "source": [
    "donnees.head(5)"
   ]
  },
  {
   "cell_type": "markdown",
   "metadata": {},
   "source": [
    "### 3. Enrichissement des données : création d'un score lié aux stations de métro et de rer des quartiers\n",
    "\n",
    "Pour enrichir ces données et mieux comprendre l'effet du quartier sur le loyer d'un logement d'un point de vue \"demande\"/attractivité, nous avons essayé de créer un score `score_metro` pour chaque quartier lié aux lignes de métro et de rer. Il est calculé de la manière suivante : \n",
    "   - on liste les stations de métro/rer, et leurs lignes associées, qui appartiennent à chaque quartier\n",
    "   - on en déduit une liste des lignes distinctes de métro et de rer qui passent dans chaque quartier\n",
    "   - on attribue un score à chaque ligne, qui correspond à sa fréquentation annuelle \n",
    "   - on somme pour chaque quartier les scores de ses lignes de métro/rer\n",
    "   - le score de chaque quartier, qui correspond à cette somme, est enfin divisé par le plus grand score obtenu parmi les quartiers, pour être finalement compris entre 0 et 1.    \n",
    "\n",
    "Pour la première étape, on récupère la liste des stations de métro et de rer de Paris, ainsi que leurs positions géographiques et leurs lignes desservies. Ces données sont récupérées sur Wikipédia par web-scraping. Pour chaque station, on récupère son nom et on se rend sur sa page Wikipédia pour récupérer ses coordonnées géographiques. Cette station est dupliquée pour chaque ligne de métro qu'elle dessert. \n",
    "\n",
    "*Les liens utilisés sont les suivants :*\n",
    "- *Pour le métro : https://fr.wikipedia.org/wiki/Liste_des_stations_du_m%C3%A9tro_de_Paris*\n",
    "- *Pour le rer : https://fr.wikipedia.org/wiki/Liste_des_gares_du_RER_d%27%C3%8Ele-de-France*"
   ]
  },
  {
   "cell_type": "code",
   "execution_count": 16,
   "metadata": {},
   "outputs": [],
   "source": [
    "# Fonction pour transformer les coordonnées récoltées (sous format DMS nord-est) en format DD :\n",
    "\n",
    "dd = lambda d,m,s : float(d) + float(m)/60 + float(s)/(60*60)\n",
    "def dms_to_dd (dms):\n",
    "    parts = re.split('[^\\d\\w]+', dms)\n",
    "    lat = dd(parts[0], parts[1], parts[2])\n",
    "    lng = dd(parts[4], parts[5], parts[6])\n",
    "    return (lat, lng)"
   ]
  },
  {
   "cell_type": "code",
   "execution_count": 17,
   "metadata": {
    "scrolled": true
   },
   "outputs": [],
   "source": [
    "#Création de la base de données des stations de métro et de rer par web scraping : \n",
    "\n",
    "nom = []\n",
    "ligne = [] \n",
    "latitude = []\n",
    "longitude = []\n",
    "\n",
    "urls = ['https://fr.wikipedia.org/wiki/Liste_des_stations_du_m%C3%A9tro_de_Paris','https://fr.wikipedia.org/wiki/Liste_des_gares_du_RER_d%27%C3%8Ele-de-France']\n",
    "\n",
    "for url in urls : \n",
    "\n",
    "    sock = urllib.request.urlopen(url).read() \n",
    "    page=bs4.BeautifulSoup(sock)\n",
    "\n",
    "    liste_stations = page.find('table').findAll('tr')\n",
    "    \n",
    "    for station in liste_stations[1:] :\n",
    "    \n",
    "        #Nom de la station :    \n",
    "        nom_station = station.find('a').text\n",
    "    \n",
    "        #Coordonnées géographiques de la station :\n",
    "        url_station = \"http://fr.wikipedia.org\"+station.find('a').get('href')\n",
    "    \n",
    "        search = urllib.request.urlopen(url_station).read()\n",
    "        search_station=bs4.BeautifulSoup(search)\n",
    "    \n",
    "        coord = search_station.find('a',{'class': \"mw-kartographer-maplink\"}).text\n",
    "        lat,lng = dms_to_dd(coord)\n",
    "    \n",
    "        #Lignes desservies par la station :    \n",
    "        lignes = station.find('span',{'style' : \"white-space:nowrap\"}).findAll('span')\n",
    "    \n",
    "        for l in lignes : \n",
    "            nom.append(nom_station)\n",
    "            ligne.append(l.get('data-sort-value'))\n",
    "            latitude.append(lat)\n",
    "            longitude.append(lng)\n",
    "            \n",
    "stations = gpd.GeoDataFrame(pd.DataFrame({'nom' : nom, 'ligne' : ligne}),geometry=gpd.points_from_xy(longitude, latitude))"
   ]
  },
  {
   "cell_type": "code",
   "execution_count": 18,
   "metadata": {},
   "outputs": [
    {
     "data": {
      "text/html": [
       "<div>\n",
       "<style scoped>\n",
       "    .dataframe tbody tr th:only-of-type {\n",
       "        vertical-align: middle;\n",
       "    }\n",
       "\n",
       "    .dataframe tbody tr th {\n",
       "        vertical-align: top;\n",
       "    }\n",
       "\n",
       "    .dataframe thead th {\n",
       "        text-align: right;\n",
       "    }\n",
       "</style>\n",
       "<table border=\"1\" class=\"dataframe\">\n",
       "  <thead>\n",
       "    <tr style=\"text-align: right;\">\n",
       "      <th></th>\n",
       "      <th>nom</th>\n",
       "      <th>ligne</th>\n",
       "      <th>geometry</th>\n",
       "    </tr>\n",
       "  </thead>\n",
       "  <tbody>\n",
       "    <tr>\n",
       "      <th>0</th>\n",
       "      <td>Abbesses</td>\n",
       "      <td>12 !</td>\n",
       "      <td>POINT (2.33861 48.88444)</td>\n",
       "    </tr>\n",
       "    <tr>\n",
       "      <th>1</th>\n",
       "      <td>Alésia</td>\n",
       "      <td>04 !</td>\n",
       "      <td>POINT (2.32667 48.82833)</td>\n",
       "    </tr>\n",
       "    <tr>\n",
       "      <th>2</th>\n",
       "      <td>Alexandre Dumas</td>\n",
       "      <td>02 !</td>\n",
       "      <td>POINT (2.39500 48.85611)</td>\n",
       "    </tr>\n",
       "    <tr>\n",
       "      <th>3</th>\n",
       "      <td>Alma - Marceau</td>\n",
       "      <td>09 !</td>\n",
       "      <td>POINT (2.30028 48.86500)</td>\n",
       "    </tr>\n",
       "    <tr>\n",
       "      <th>4</th>\n",
       "      <td>Anatole France</td>\n",
       "      <td>03 !</td>\n",
       "      <td>POINT (2.28556 48.89194)</td>\n",
       "    </tr>\n",
       "  </tbody>\n",
       "</table>\n",
       "</div>"
      ],
      "text/plain": [
       "               nom ligne                  geometry\n",
       "0         Abbesses  12 !  POINT (2.33861 48.88444)\n",
       "1           Alésia  04 !  POINT (2.32667 48.82833)\n",
       "2  Alexandre Dumas  02 !  POINT (2.39500 48.85611)\n",
       "3   Alma - Marceau  09 !  POINT (2.30028 48.86500)\n",
       "4   Anatole France  03 !  POINT (2.28556 48.89194)"
      ]
     },
     "execution_count": 18,
     "metadata": {},
     "output_type": "execute_result"
    }
   ],
   "source": [
    "stations.head(5)"
   ]
  },
  {
   "cell_type": "markdown",
   "metadata": {},
   "source": [
    "On récupère ensuite une base de données de la mairie de Paris contenant la liste de ses quartiers administratifs et leur représentation graphique :"
   ]
  },
  {
   "cell_type": "code",
   "execution_count": 19,
   "metadata": {},
   "outputs": [],
   "source": [
    "quartiers_bruts = gpd.read_file('https://parisdata.opendatasoft.com/explore/dataset/quartier_paris/download/?format=geojson&timezone=Europe/Berlin&lang=fr')\n",
    "quartiers = quartiers_bruts[['l_qu','c_qu','geometry']]  #l_qu : nom du quartier ; c_qu : numéro du quartier"
   ]
  },
  {
   "cell_type": "code",
   "execution_count": 20,
   "metadata": {},
   "outputs": [
    {
     "data": {
      "text/html": [
       "<div>\n",
       "<style scoped>\n",
       "    .dataframe tbody tr th:only-of-type {\n",
       "        vertical-align: middle;\n",
       "    }\n",
       "\n",
       "    .dataframe tbody tr th {\n",
       "        vertical-align: top;\n",
       "    }\n",
       "\n",
       "    .dataframe thead th {\n",
       "        text-align: right;\n",
       "    }\n",
       "</style>\n",
       "<table border=\"1\" class=\"dataframe\">\n",
       "  <thead>\n",
       "    <tr style=\"text-align: right;\">\n",
       "      <th></th>\n",
       "      <th>l_qu</th>\n",
       "      <th>c_qu</th>\n",
       "      <th>geometry</th>\n",
       "    </tr>\n",
       "  </thead>\n",
       "  <tbody>\n",
       "    <tr>\n",
       "      <th>0</th>\n",
       "      <td>Rochechouart</td>\n",
       "      <td>36</td>\n",
       "      <td>POLYGON ((2.34971 48.88222, 2.34983 48.88109, ...</td>\n",
       "    </tr>\n",
       "    <tr>\n",
       "      <th>1</th>\n",
       "      <td>Bercy</td>\n",
       "      <td>47</td>\n",
       "      <td>POLYGON ((2.39114 48.82611, 2.39026 48.82573, ...</td>\n",
       "    </tr>\n",
       "    <tr>\n",
       "      <th>2</th>\n",
       "      <td>Halles</td>\n",
       "      <td>2</td>\n",
       "      <td>POLYGON ((2.34937 48.86058, 2.34822 48.85852, ...</td>\n",
       "    </tr>\n",
       "    <tr>\n",
       "      <th>3</th>\n",
       "      <td>Saint-Gervais</td>\n",
       "      <td>14</td>\n",
       "      <td>POLYGON ((2.36376 48.85568, 2.36294 48.85456, ...</td>\n",
       "    </tr>\n",
       "    <tr>\n",
       "      <th>4</th>\n",
       "      <td>Saint-Thomas-d'Aquin</td>\n",
       "      <td>25</td>\n",
       "      <td>POLYGON ((2.32213 48.84925, 2.32054 48.84842, ...</td>\n",
       "    </tr>\n",
       "  </tbody>\n",
       "</table>\n",
       "</div>"
      ],
      "text/plain": [
       "                   l_qu  c_qu  \\\n",
       "0          Rochechouart    36   \n",
       "1                 Bercy    47   \n",
       "2                Halles     2   \n",
       "3         Saint-Gervais    14   \n",
       "4  Saint-Thomas-d'Aquin    25   \n",
       "\n",
       "                                            geometry  \n",
       "0  POLYGON ((2.34971 48.88222, 2.34983 48.88109, ...  \n",
       "1  POLYGON ((2.39114 48.82611, 2.39026 48.82573, ...  \n",
       "2  POLYGON ((2.34937 48.86058, 2.34822 48.85852, ...  \n",
       "3  POLYGON ((2.36376 48.85568, 2.36294 48.85456, ...  \n",
       "4  POLYGON ((2.32213 48.84925, 2.32054 48.84842, ...  "
      ]
     },
     "execution_count": 20,
     "metadata": {},
     "output_type": "execute_result"
    }
   ],
   "source": [
    "quartiers.head(5)"
   ]
  },
  {
   "cell_type": "markdown",
   "metadata": {},
   "source": [
    "On associe ensuite à chaque station le quartier auquel elle appartient :"
   ]
  },
  {
   "cell_type": "code",
   "execution_count": 21,
   "metadata": {},
   "outputs": [
    {
     "name": "stderr",
     "output_type": "stream",
     "text": [
      "C:\\Users\\blasc\\Anaconda3\\lib\\site-packages\\geopandas\\tools\\sjoin.py:58: UserWarning: CRS of frames being joined does not match!(None != {'init': 'epsg:4326'})\n",
      "  warn(\n"
     ]
    }
   ],
   "source": [
    "stations_quartiers = gpd.sjoin(stations, quartiers, op='intersects')"
   ]
  },
  {
   "cell_type": "markdown",
   "metadata": {},
   "source": [
    "Il ne reste plus qu'à supprimer les doublons pour savoir quelles lignes de métro ou rer passent dans chaque quartier de Paris. "
   ]
  },
  {
   "cell_type": "code",
   "execution_count": 22,
   "metadata": {},
   "outputs": [],
   "source": [
    "lignes_quartiers = stations_quartiers[['c_qu','ligne']].drop_duplicates()"
   ]
  },
  {
   "cell_type": "code",
   "execution_count": 23,
   "metadata": {},
   "outputs": [
    {
     "data": {
      "text/html": [
       "<div>\n",
       "<style scoped>\n",
       "    .dataframe tbody tr th:only-of-type {\n",
       "        vertical-align: middle;\n",
       "    }\n",
       "\n",
       "    .dataframe tbody tr th {\n",
       "        vertical-align: top;\n",
       "    }\n",
       "\n",
       "    .dataframe thead th {\n",
       "        text-align: right;\n",
       "    }\n",
       "</style>\n",
       "<table border=\"1\" class=\"dataframe\">\n",
       "  <thead>\n",
       "    <tr style=\"text-align: right;\">\n",
       "      <th></th>\n",
       "      <th>c_qu</th>\n",
       "      <th>ligne</th>\n",
       "    </tr>\n",
       "  </thead>\n",
       "  <tbody>\n",
       "    <tr>\n",
       "      <th>346</th>\n",
       "      <td>11</td>\n",
       "      <td>08 !</td>\n",
       "    </tr>\n",
       "    <tr>\n",
       "      <th>349</th>\n",
       "      <td>7</td>\n",
       "      <td>03 !</td>\n",
       "    </tr>\n",
       "    <tr>\n",
       "      <th>361</th>\n",
       "      <td>15</td>\n",
       "      <td>07 !</td>\n",
       "    </tr>\n",
       "    <tr>\n",
       "      <th>369</th>\n",
       "      <td>4</td>\n",
       "      <td>01 !</td>\n",
       "    </tr>\n",
       "    <tr>\n",
       "      <th>453</th>\n",
       "      <td>19</td>\n",
       "      <td>B !</td>\n",
       "    </tr>\n",
       "  </tbody>\n",
       "</table>\n",
       "</div>"
      ],
      "text/plain": [
       "     c_qu ligne\n",
       "346    11  08 !\n",
       "349     7  03 !\n",
       "361    15  07 !\n",
       "369     4  01 !\n",
       "453    19   B !"
      ]
     },
     "execution_count": 23,
     "metadata": {},
     "output_type": "execute_result"
    }
   ],
   "source": [
    "lignes_quartiers.tail(5)"
   ]
  },
  {
   "cell_type": "markdown",
   "metadata": {},
   "source": [
    "Ensuite, on réalise un nouveau web scraping sur Wikipédia pour attribuer un score à chaque ligne : on va lister chaque ligne et sa fréquentation annuelle."
   ]
  },
  {
   "cell_type": "code",
   "execution_count": 24,
   "metadata": {},
   "outputs": [],
   "source": [
    "#Pour le rer, il faut aller sur chaque page Wikipédia de la ligne. Pour aller plus vite, on le fait manuellement (il n'y a que 5 lignes) :\n",
    "\n",
    "lignes = ['A !','B !','C !','D !','E !']\n",
    "frequentation = [309.36,165.5,140,145,60] \n",
    "\n",
    "\n",
    "#Pour le métro, il existe directement un classement sur Wikipédia :\n",
    "\n",
    "sock = urllib.request.urlopen(\"https://fr.wikipedia.org/wiki/Liste_des_lignes_de_m%C3%A9tro_parisiennes_par_fr%C3%A9quentation\").read() \n",
    "page=bs4.BeautifulSoup(sock)\n",
    "\n",
    "liste_lignes = page.find('table').findAll('tr')\n",
    "\n",
    "for ligne in liste_lignes[1:] :\n",
    "    \n",
    "    freq = ligne.find('bdi')\n",
    "    \n",
    "    for sous_ligne in ligne.findAll('span') :\n",
    "        lignes.append(sous_ligne.get('data-sort-value'))\n",
    "        frequentation.append(float(freq.text.replace(',','.')))\n",
    "        \n",
    "lignes_freq = pd.DataFrame({'ligne' : lignes,'fréquentation' : frequentation})"
   ]
  },
  {
   "cell_type": "code",
   "execution_count": 25,
   "metadata": {},
   "outputs": [
    {
     "data": {
      "text/html": [
       "<div>\n",
       "<style scoped>\n",
       "    .dataframe tbody tr th:only-of-type {\n",
       "        vertical-align: middle;\n",
       "    }\n",
       "\n",
       "    .dataframe tbody tr th {\n",
       "        vertical-align: top;\n",
       "    }\n",
       "\n",
       "    .dataframe thead th {\n",
       "        text-align: right;\n",
       "    }\n",
       "</style>\n",
       "<table border=\"1\" class=\"dataframe\">\n",
       "  <thead>\n",
       "    <tr style=\"text-align: right;\">\n",
       "      <th></th>\n",
       "      <th>ligne</th>\n",
       "      <th>fréquentation</th>\n",
       "    </tr>\n",
       "  </thead>\n",
       "  <tbody>\n",
       "    <tr>\n",
       "      <th>0</th>\n",
       "      <td>A !</td>\n",
       "      <td>309.36</td>\n",
       "    </tr>\n",
       "    <tr>\n",
       "      <th>1</th>\n",
       "      <td>B !</td>\n",
       "      <td>165.50</td>\n",
       "    </tr>\n",
       "    <tr>\n",
       "      <th>2</th>\n",
       "      <td>C !</td>\n",
       "      <td>140.00</td>\n",
       "    </tr>\n",
       "    <tr>\n",
       "      <th>3</th>\n",
       "      <td>D !</td>\n",
       "      <td>145.00</td>\n",
       "    </tr>\n",
       "    <tr>\n",
       "      <th>4</th>\n",
       "      <td>E !</td>\n",
       "      <td>60.00</td>\n",
       "    </tr>\n",
       "  </tbody>\n",
       "</table>\n",
       "</div>"
      ],
      "text/plain": [
       "  ligne  fréquentation\n",
       "0   A !         309.36\n",
       "1   B !         165.50\n",
       "2   C !         140.00\n",
       "3   D !         145.00\n",
       "4   E !          60.00"
      ]
     },
     "execution_count": 25,
     "metadata": {},
     "output_type": "execute_result"
    }
   ],
   "source": [
    "lignes_freq.head(5)"
   ]
  },
  {
   "cell_type": "markdown",
   "metadata": {},
   "source": [
    "Enfin, on attribue à chaque quartier son score, qui est la somme des scores de ses lignes, le tout divisé par le plus grand score obtenu par un quartier."
   ]
  },
  {
   "cell_type": "code",
   "execution_count": 26,
   "metadata": {},
   "outputs": [],
   "source": [
    "# Ajout du score des lignes pour chaque quartier : \n",
    "\n",
    "lignes_quartiers_freq = lignes_quartiers.merge(lignes_freq, on='ligne')"
   ]
  },
  {
   "cell_type": "code",
   "execution_count": 27,
   "metadata": {
    "scrolled": true
   },
   "outputs": [],
   "source": [
    "#Création du score des quartiers : \n",
    "\n",
    "quartiers_freq = lignes_quartiers_freq[['c_qu','fréquentation']].groupby('c_qu').sum()\n",
    "\n",
    "m = max(quartiers_freq['fréquentation'])\n",
    "\n",
    "quartiers_freq['fréquentation'] = quartiers_freq['fréquentation']/m"
   ]
  },
  {
   "cell_type": "markdown",
   "metadata": {},
   "source": [
    "Ajout du score obtenu à notre base de données :"
   ]
  },
  {
   "cell_type": "code",
   "execution_count": 28,
   "metadata": {},
   "outputs": [],
   "source": [
    "donnees_augmentees = donnees.join(quartiers_freq, on='id_quartier')\n",
    "donnees_augmentees.rename(columns={'fréquentation': 'score_metro'}, inplace=True)"
   ]
  },
  {
   "cell_type": "code",
   "execution_count": 29,
   "metadata": {
    "scrolled": false
   },
   "outputs": [
    {
     "data": {
      "text/html": [
       "<div>\n",
       "<style scoped>\n",
       "    .dataframe tbody tr th:only-of-type {\n",
       "        vertical-align: middle;\n",
       "    }\n",
       "\n",
       "    .dataframe tbody tr th {\n",
       "        vertical-align: top;\n",
       "    }\n",
       "\n",
       "    .dataframe thead th {\n",
       "        text-align: right;\n",
       "    }\n",
       "</style>\n",
       "<table border=\"1\" class=\"dataframe\">\n",
       "  <thead>\n",
       "    <tr style=\"text-align: right;\">\n",
       "      <th></th>\n",
       "      <th>nom_quartier</th>\n",
       "      <th>id_quartier</th>\n",
       "      <th>ref</th>\n",
       "      <th>min</th>\n",
       "      <th>max</th>\n",
       "      <th>epoque</th>\n",
       "      <th>meuble_txt</th>\n",
       "      <th>piece</th>\n",
       "      <th>geometry</th>\n",
       "      <th>distance_centre_paris</th>\n",
       "      <th>superficie_quartier</th>\n",
       "      <th>score_metro</th>\n",
       "    </tr>\n",
       "  </thead>\n",
       "  <tbody>\n",
       "    <tr>\n",
       "      <th>0</th>\n",
       "      <td>Saint-Fargeau</td>\n",
       "      <td>78</td>\n",
       "      <td>23.1</td>\n",
       "      <td>16.17</td>\n",
       "      <td>27.72</td>\n",
       "      <td>Avant 1946</td>\n",
       "      <td>meublé</td>\n",
       "      <td>3</td>\n",
       "      <td>POLYGON ((2.41381 48.87081, 2.41383 48.87066, ...</td>\n",
       "      <td>4.643464</td>\n",
       "      <td>1.486971</td>\n",
       "      <td>0.186527</td>\n",
       "    </tr>\n",
       "    <tr>\n",
       "      <th>1</th>\n",
       "      <td>Villette</td>\n",
       "      <td>73</td>\n",
       "      <td>16.4</td>\n",
       "      <td>11.48</td>\n",
       "      <td>19.68</td>\n",
       "      <td>Apres 1990</td>\n",
       "      <td>non meublé</td>\n",
       "      <td>4</td>\n",
       "      <td>POLYGON ((2.37050 48.87820, 2.37028 48.87799, ...</td>\n",
       "      <td>4.249599</td>\n",
       "      <td>1.285705</td>\n",
       "      <td>0.468929</td>\n",
       "    </tr>\n",
       "    <tr>\n",
       "      <th>2</th>\n",
       "      <td>Belleville</td>\n",
       "      <td>77</td>\n",
       "      <td>21.6</td>\n",
       "      <td>15.12</td>\n",
       "      <td>25.92</td>\n",
       "      <td>1946-1970</td>\n",
       "      <td>non meublé</td>\n",
       "      <td>4</td>\n",
       "      <td>POLYGON ((2.38323 48.86710, 2.38314 48.86708, ...</td>\n",
       "      <td>3.485188</td>\n",
       "      <td>0.806569</td>\n",
       "      <td>0.038651</td>\n",
       "    </tr>\n",
       "    <tr>\n",
       "      <th>3</th>\n",
       "      <td>Pont-de-Flandre</td>\n",
       "      <td>74</td>\n",
       "      <td>18.9</td>\n",
       "      <td>13.23</td>\n",
       "      <td>22.68</td>\n",
       "      <td>1971-1990</td>\n",
       "      <td>meublé</td>\n",
       "      <td>3</td>\n",
       "      <td>POLYGON ((2.38488 48.88663, 2.38483 48.88662, ...</td>\n",
       "      <td>5.379327</td>\n",
       "      <td>2.376238</td>\n",
       "      <td>0.298062</td>\n",
       "    </tr>\n",
       "    <tr>\n",
       "      <th>4</th>\n",
       "      <td>Charonne</td>\n",
       "      <td>80</td>\n",
       "      <td>14.6</td>\n",
       "      <td>10.22</td>\n",
       "      <td>17.52</td>\n",
       "      <td>1946-1970</td>\n",
       "      <td>non meublé</td>\n",
       "      <td>4</td>\n",
       "      <td>POLYGON ((2.41602 48.84675, 2.41599 48.84661, ...</td>\n",
       "      <td>4.304793</td>\n",
       "      <td>2.090904</td>\n",
       "      <td>0.239635</td>\n",
       "    </tr>\n",
       "  </tbody>\n",
       "</table>\n",
       "</div>"
      ],
      "text/plain": [
       "      nom_quartier  id_quartier   ref    min    max      epoque  meuble_txt  \\\n",
       "0    Saint-Fargeau           78  23.1  16.17  27.72  Avant 1946      meublé   \n",
       "1         Villette           73  16.4  11.48  19.68  Apres 1990  non meublé   \n",
       "2       Belleville           77  21.6  15.12  25.92   1946-1970  non meublé   \n",
       "3  Pont-de-Flandre           74  18.9  13.23  22.68   1971-1990      meublé   \n",
       "4         Charonne           80  14.6  10.22  17.52   1946-1970  non meublé   \n",
       "\n",
       "   piece                                           geometry  \\\n",
       "0      3  POLYGON ((2.41381 48.87081, 2.41383 48.87066, ...   \n",
       "1      4  POLYGON ((2.37050 48.87820, 2.37028 48.87799, ...   \n",
       "2      4  POLYGON ((2.38323 48.86710, 2.38314 48.86708, ...   \n",
       "3      3  POLYGON ((2.38488 48.88663, 2.38483 48.88662, ...   \n",
       "4      4  POLYGON ((2.41602 48.84675, 2.41599 48.84661, ...   \n",
       "\n",
       "   distance_centre_paris  superficie_quartier  score_metro  \n",
       "0               4.643464             1.486971     0.186527  \n",
       "1               4.249599             1.285705     0.468929  \n",
       "2               3.485188             0.806569     0.038651  \n",
       "3               5.379327             2.376238     0.298062  \n",
       "4               4.304793             2.090904     0.239635  "
      ]
     },
     "execution_count": 29,
     "metadata": {},
     "output_type": "execute_result"
    }
   ],
   "source": [
    "donnees_augmentees.head(5)"
   ]
  },
  {
   "cell_type": "markdown",
   "metadata": {},
   "source": [
    "### Eventuelles limites de ce score : \n",
    "\n",
    "On a ici créer par nous mêmes un score pour chaque quartier, d'autant plus élévé que les lignes de métro et rer qui passent dans un quartier sont nombreuses et importantes en terme de fréquentation.\n",
    "\n",
    "Cependant, il convient de noter les éventuelles limites de ce score : \n",
    "- on ne prend pas en compte les stations de vélib et les autres types de transports\n",
    "\n",
    "- les quartiers ont des tailles très diverses : les grands quartiers aux extrémités ouest (Auteuil (61), Muette (62), Porte-Dauphine (63)) et est (Pictus (46) et Bel-Air (45)) de Paris ne sont donc pas forcément très bien représentés en termes de transports via seulement le métro et le rer. On constate sur le graphique suivant qu'une majorité de la superficie de ces quartiers n'est pas désservie par le métro ou le rer.\n",
    "\n",
    "- on ne regarde ici que les lignes qui passent dans un quartier. Mais :\n",
    "    - pour les petits quartiers du centre de Paris par exemple, il est très facile d'accéder sans trop de temps aux stations des quartiers voisins. On note sur le graphique suivant que beaucoup de stations de métro sont situées sur les frontières des quartiers. Une éventuelle solution urait pu être d'essayer de prendre en compte pour chaque quartier le score des quartiers voisins, avec une pondération adaptée (liée à la superficie par exemple).\n",
    "    - pour les plus grand quartiers, si l'on habite proche des frontières on peut par exemple préférer les stations du quartier d'à côté, plus proches, que les stations à l'autre bout de son propre quartier. Pour faire un score plus fin, il aurait donc fallu que l'on ait par exemple une base de données avec des annonces réelles et des positions précises d'appartements. "
   ]
  },
  {
   "cell_type": "code",
   "execution_count": 40,
   "metadata": {},
   "outputs": [
    {
     "data": {
      "image/png": "[encoded data removed]",
      "text/plain": [
       "<Figure size 864x1080 with 1 Axes>"
      ]
     },
     "metadata": {
      "needs_background": "light"
     },
     "output_type": "display_data"
    }
   ],
   "source": [
    "axi = stations_quartiers.plot(figsize = (12,15), color = 'red', alpha = 0.4, zorder=2)\n",
    "quartiers.plot(ax = axi, zorder=1, edgecolor = \"black\", facecolor=\"none\",color = None)\n",
    "quartiers[quartiers['c_qu'].isin([10,52])].plot(ax=axi,alpha = 0.6,color='blue')\n",
    "\n",
    "plt.title(\"Stations de rer et de métro considérées pour réaliser le score des quartiers parisiens (points rouges) \\n et quartiers se voyant attribuer un score nul (en bleu)\")\n",
    "plt.show()"
   ]
  },
  {
   "cell_type": "markdown",
   "metadata": {},
   "source": [
    "* De plus, on remarque que deux quartiers (représentés en bleu sur le graphique ci-dessus) se voient attribués un score nul :"
   ]
  },
  {
   "cell_type": "code",
   "execution_count": 41,
   "metadata": {},
   "outputs": [
    {
     "data": {
      "text/html": [
       "<div>\n",
       "<style scoped>\n",
       "    .dataframe tbody tr th:only-of-type {\n",
       "        vertical-align: middle;\n",
       "    }\n",
       "\n",
       "    .dataframe tbody tr th {\n",
       "        vertical-align: top;\n",
       "    }\n",
       "\n",
       "    .dataframe thead th {\n",
       "        text-align: right;\n",
       "    }\n",
       "</style>\n",
       "<table border=\"1\" class=\"dataframe\">\n",
       "  <thead>\n",
       "    <tr style=\"text-align: right;\">\n",
       "      <th></th>\n",
       "      <th>nom_quartier</th>\n",
       "      <th>id_quartier</th>\n",
       "      <th>score_metro</th>\n",
       "    </tr>\n",
       "  </thead>\n",
       "  <tbody>\n",
       "    <tr>\n",
       "      <th>22</th>\n",
       "      <td>Enfants-Rouges</td>\n",
       "      <td>10</td>\n",
       "      <td>NaN</td>\n",
       "    </tr>\n",
       "    <tr>\n",
       "      <th>89</th>\n",
       "      <td>Croulebarbe</td>\n",
       "      <td>52</td>\n",
       "      <td>NaN</td>\n",
       "    </tr>\n",
       "  </tbody>\n",
       "</table>\n",
       "</div>"
      ],
      "text/plain": [
       "      nom_quartier  id_quartier  score_metro\n",
       "22  Enfants-Rouges           10          NaN\n",
       "89     Croulebarbe           52          NaN"
      ]
     },
     "execution_count": 41,
     "metadata": {},
     "output_type": "execute_result"
    }
   ],
   "source": [
    "donnees_augmentees[['nom_quartier','id_quartier','score_metro']][donnees_augmentees.isnull().any(axis=1)].drop_duplicates()"
   ]
  },
  {
   "cell_type": "markdown",
   "metadata": {},
   "source": [
    "Cela semble être du au fait que certaines stations de métro et de rer sont situées sur les limites ou proches de ces quartiers. Comme elles ne sont prises en compte que pour un seul quartier, les quartiers Enfants-Rouges (10) et Croulebarbe (52) se sont retrouvés sans score...\n",
    "\n",
    "On remarque sur le graphique qu'il serait incohérent de remplacer les valeurs manquantes par des $0$, car ces deux quartiers sont plutôt bien situés dans Paris, et à proximité de stations de métro et de rer. Nous avons donc fait le choix de remplacer les valeurs manquantes par la moyenne des scores obtenus par les quartiers parisiens (`0.3357002566419284`). Ce choix est du au fait que visuellement, les quartiers aux valeurs manquantes ont l'air d'avoir un niveau \"intermédiaire\" : ils ne sont pas dans le centre de Paris très desservi, mais pas non plus parmi les quartiers extérieurs les moins fréquentés."
   ]
  },
  {
   "cell_type": "code",
   "execution_count": 48,
   "metadata": {},
   "outputs": [
    {
     "name": "stderr",
     "output_type": "stream",
     "text": [
      "<ipython-input-48-7dff315c7377>:2: SettingWithCopyWarning: \n",
      "A value is trying to be set on a copy of a slice from a DataFrame\n",
      "\n",
      "See the caveats in the documentation: https://pandas.pydata.org/pandas-docs/stable/user_guide/indexing.html#returning-a-view-versus-a-copy\n",
      "  donnees_augmentees['score_metro'][donnees_augmentees['score_metro'].isnull()] = score_moy\n"
     ]
    }
   ],
   "source": [
    "score_moy = donnees_augmentees['score_metro'].mean()\n",
    "donnees_augmentees['score_metro'][donnees_augmentees['score_metro'].isnull()] = score_moy"
   ]
  },
  {
   "cell_type": "markdown",
   "metadata": {},
   "source": [
    "## Partie intermédiaire - Preprocessing des données\n",
    "\n",
    "*(Les fonctions de cette partie, ainsi que la nouvelle base créée, sont disponibles dans le dossier `preprocessing` du dépôt git)*\n",
    "\n",
    "### 1. Création d'une base de variables numériques \n",
    "\n",
    "Avant de passer à l'analyse descriptive et à la modélisation, et pour faciliter ces étapes, on commence par mettre en forme les données. \n",
    "\n",
    "On va créer une nouvelle base de données `donnees_num.geojson`dans laquelle toutes les variables sont sous forme numérique. "
   ]
  },
  {
   "cell_type": "code",
   "execution_count": 58,
   "metadata": {},
   "outputs": [],
   "source": [
    "donnees_num = donnees_augmentees.copy()"
   ]
  },
  {
   "cell_type": "markdown",
   "metadata": {},
   "source": [
    "- Variable `meuble_txt` :\n",
    "on la transforme en une variable binaire `meuble_bin` telle que :\n",
    "\n",
    "    - `meuble_bin` = 1 si l'appartement est meublé\n",
    "    - `meuble_bin` = 0 si l'appartement est non-meublé\n",
    "\n",
    "Comme on n'a que deux modalités, on peut utiliser `LabelEncoder`."
   ]
  },
  {
   "cell_type": "code",
   "execution_count": 59,
   "metadata": {},
   "outputs": [],
   "source": [
    "donnees_num['meuble_bin'] = 1 - LabelEncoder().fit_transform(donnees_num['meuble_txt'])\n",
    "\n",
    "#Suppression de 'meuble_txt' :\n",
    "donnees_num.drop('meuble_txt',axis=1,inplace=True)"
   ]
  },
  {
   "cell_type": "markdown",
   "metadata": {},
   "source": [
    "- Variable `id_quartier` : \n",
    "il y a 80 modalités, donc on crée 80 nouvelles variables `q_i` pour $1\\leq i \\leq80$ telles que : \n",
    "    - `q_i` = 1 si `id_quartier` $=$ i\n",
    "    - `q_i` = 0 si `id_quartier` `$\\neq$ i\n",
    "\n",
    "Comme on a 80 modalités, on utilise cette fois `OneHotEncoder`."
   ]
  },
  {
   "cell_type": "code",
   "execution_count": 60,
   "metadata": {},
   "outputs": [],
   "source": [
    "donnees_num = donnees_num.sort_values('id_quartier').reset_index()\n",
    "ohe_id_quartier = pd.DataFrame(LabelBinarizer().fit_transform(donnees_num['id_quartier']))\n",
    "\n",
    "# On renomme les colonnes sous la forme : q_[1-80]\n",
    "colonnes = {}\n",
    "for i in range(80) :\n",
    "    colonnes[i] = 'q_'+str(i+1)\n",
    "ohe_id_quartier.rename(columns=colonnes, inplace=True)\n",
    "\n",
    "# Ajout des nouvelles variables et suppression de 'nom_quartier' et 'id_quartier' :\n",
    "donnees_num = donnees_num.join(ohe_id_quartier)\n",
    "donnees_num.drop(['nom_quartier','id_quartier','index'],axis=1,inplace=True)"
   ]
  },
  {
   "cell_type": "markdown",
   "metadata": {},
   "source": [
    "- Variable `epoque` : \n",
    "il y a 4 modalités, donc on crée 4 nouvelles variables `epoque_i` pour $0 \\leq i\\leq 3$ telles que : \n",
    "    - `epoque_0` = 1 si `epoque` = 'Avant 1946', et 0 sinon\n",
    "    - `epoque_1` = 1 si `epoque` =  '1946-1970', et 0 sinon\n",
    "    - `epoque_2` = 1 si `epoque` = '1971-1990', et 0 sinon\n",
    "    - `epoque_3` = 1 si `epoque` =  'Apres 1990', et 0 sinon\n",
    "\n",
    "On utilise encore une fois `OneHotEncoder`."
   ]
  },
  {
   "cell_type": "code",
   "execution_count": 61,
   "metadata": {},
   "outputs": [],
   "source": [
    "ohe_epoque = pd.DataFrame(LabelBinarizer().fit_transform(donnees_num['epoque']))\n",
    "\n",
    "# On renomme les colonnes sous la forme : epoque_[0-79]\n",
    "\n",
    "#donnees[['epoque']].head(10) #pour savoir comment renommer chaque colonne\n",
    "colonnes = {0 : 'epoque_1', 1 : 'epoque_2', 2 : 'epoque_3', 3 : 'epoque_0'}  \n",
    "ohe_epoque.rename(columns=colonnes, inplace=True)\n",
    "\n",
    "# Ajout des nouvelles variables et suppression de 'epoque' :\n",
    "donnees_num = donnees_num.join(ohe_epoque)\n",
    "donnees_num.drop(['epoque'],axis=1,inplace=True)"
   ]
  },
  {
   "cell_type": "markdown",
   "metadata": {},
   "source": [
    "- Variable `piece` : même si cette variable peut être vue comme une variable catégorielle, nous avons choisi de la laisser telle quelle et de la considérer comme une variable numérique, car elle induit une relation d'ordre entre les appartements qui n'est pas incohérente et que nous souhaitons préserver."
   ]
  },
  {
   "cell_type": "markdown",
   "metadata": {},
   "source": [
    "Aperçu de la nouvelle base ainsi créée :"
   ]
  },
  {
   "cell_type": "code",
   "execution_count": 62,
   "metadata": {
    "scrolled": true
   },
   "outputs": [
    {
     "data": {
      "text/html": [
       "<div>\n",
       "<style scoped>\n",
       "    .dataframe tbody tr th:only-of-type {\n",
       "        vertical-align: middle;\n",
       "    }\n",
       "\n",
       "    .dataframe tbody tr th {\n",
       "        vertical-align: top;\n",
       "    }\n",
       "\n",
       "    .dataframe thead th {\n",
       "        text-align: right;\n",
       "    }\n",
       "</style>\n",
       "<table border=\"1\" class=\"dataframe\">\n",
       "  <thead>\n",
       "    <tr style=\"text-align: right;\">\n",
       "      <th></th>\n",
       "      <th>ref</th>\n",
       "      <th>min</th>\n",
       "      <th>max</th>\n",
       "      <th>piece</th>\n",
       "      <th>geometry</th>\n",
       "      <th>distance_centre_paris</th>\n",
       "      <th>superficie_quartier</th>\n",
       "      <th>score_metro</th>\n",
       "      <th>meuble_bin</th>\n",
       "      <th>q_1</th>\n",
       "      <th>...</th>\n",
       "      <th>q_75</th>\n",
       "      <th>q_76</th>\n",
       "      <th>q_77</th>\n",
       "      <th>q_78</th>\n",
       "      <th>q_79</th>\n",
       "      <th>q_80</th>\n",
       "      <th>epoque_1</th>\n",
       "      <th>epoque_2</th>\n",
       "      <th>epoque_3</th>\n",
       "      <th>epoque_0</th>\n",
       "    </tr>\n",
       "  </thead>\n",
       "  <tbody>\n",
       "    <tr>\n",
       "      <th>0</th>\n",
       "      <td>32.7</td>\n",
       "      <td>22.89</td>\n",
       "      <td>39.24</td>\n",
       "      <td>1</td>\n",
       "      <td>POLYGON ((2.34459 48.85405, 2.34459 48.85405, ...</td>\n",
       "      <td>1.299442</td>\n",
       "      <td>0.869001</td>\n",
       "      <td>0.603253</td>\n",
       "      <td>0</td>\n",
       "      <td>1</td>\n",
       "      <td>...</td>\n",
       "      <td>0</td>\n",
       "      <td>0</td>\n",
       "      <td>0</td>\n",
       "      <td>0</td>\n",
       "      <td>0</td>\n",
       "      <td>0</td>\n",
       "      <td>0</td>\n",
       "      <td>0</td>\n",
       "      <td>0</td>\n",
       "      <td>1</td>\n",
       "    </tr>\n",
       "    <tr>\n",
       "      <th>1</th>\n",
       "      <td>28.6</td>\n",
       "      <td>20.02</td>\n",
       "      <td>34.32</td>\n",
       "      <td>2</td>\n",
       "      <td>POLYGON ((2.34459 48.85405, 2.34459 48.85405, ...</td>\n",
       "      <td>1.299442</td>\n",
       "      <td>0.869001</td>\n",
       "      <td>0.603253</td>\n",
       "      <td>1</td>\n",
       "      <td>1</td>\n",
       "      <td>...</td>\n",
       "      <td>0</td>\n",
       "      <td>0</td>\n",
       "      <td>0</td>\n",
       "      <td>0</td>\n",
       "      <td>0</td>\n",
       "      <td>0</td>\n",
       "      <td>0</td>\n",
       "      <td>1</td>\n",
       "      <td>0</td>\n",
       "      <td>0</td>\n",
       "    </tr>\n",
       "  </tbody>\n",
       "</table>\n",
       "<p>2 rows × 93 columns</p>\n",
       "</div>"
      ],
      "text/plain": [
       "    ref    min    max  piece  \\\n",
       "0  32.7  22.89  39.24      1   \n",
       "1  28.6  20.02  34.32      2   \n",
       "\n",
       "                                            geometry  distance_centre_paris  \\\n",
       "0  POLYGON ((2.34459 48.85405, 2.34459 48.85405, ...               1.299442   \n",
       "1  POLYGON ((2.34459 48.85405, 2.34459 48.85405, ...               1.299442   \n",
       "\n",
       "   superficie_quartier  score_metro  meuble_bin  q_1  ...  q_75  q_76  q_77  \\\n",
       "0             0.869001     0.603253           0    1  ...     0     0     0   \n",
       "1             0.869001     0.603253           1    1  ...     0     0     0   \n",
       "\n",
       "   q_78  q_79  q_80  epoque_1  epoque_2  epoque_3  epoque_0  \n",
       "0     0     0     0         0         0         0         1  \n",
       "1     0     0     0         0         1         0         0  \n",
       "\n",
       "[2 rows x 93 columns]"
      ]
     },
     "execution_count": 62,
     "metadata": {},
     "output_type": "execute_result"
    }
   ],
   "source": [
    "donnees_num.head(2)"
   ]
  },
  {
   "cell_type": "markdown",
   "metadata": {},
   "source": [
    "### 2. Création de fonctions de preprocessing utilisables par la suite\n",
    "\n",
    "On crée ici une fonction permettant de standardiser une base de données numériques passée en argument. Nous en aurons notamment besoin par la suite lorsque nous ferons un modèle Lasso pour sélectionner les variables d'intérêt de notre base de données."
   ]
  },
  {
   "cell_type": "code",
   "execution_count": 63,
   "metadata": {},
   "outputs": [],
   "source": [
    "def standardisation(df) :\n",
    "    \"\"\"\n",
    "    Fonction qui renvoie une version standardisée d'une base de données passée en arguments. \n",
    "    \n",
    "    ! La standardisation est appliquée sur toutes les colonnes : df ne doit contenir que des variables numériques !\n",
    "    \"\"\"\n",
    "    \n",
    "    data = StandardScaler().fit(df).transform(df.fillna(0))\n",
    "    \n",
    "    return data"
   ]
  },
  {
   "cell_type": "markdown",
   "metadata": {},
   "source": [
    "## Partie 2 - Analyse descriptives et sélection des variables d'intérêt\n",
    "\n",
    "*(Les fonctions de cette partie sont disponibles dans les dossiers `visualization` (et `modelisation` pour le modèle Lasso) du dépôt git)*"
   ]
  },
  {
   "cell_type": "markdown",
   "metadata": {},
   "source": [
    "### 1. Analyse descriptives"
   ]
  },
  {
   "cell_type": "code",
   "execution_count": 43,
   "metadata": {},
   "outputs": [
    {
     "data": {
      "text/html": [
       "<div>\n",
       "<style scoped>\n",
       "    .dataframe tbody tr th:only-of-type {\n",
       "        vertical-align: middle;\n",
       "    }\n",
       "\n",
       "    .dataframe tbody tr th {\n",
       "        vertical-align: top;\n",
       "    }\n",
       "\n",
       "    .dataframe thead th {\n",
       "        text-align: right;\n",
       "    }\n",
       "</style>\n",
       "<table border=\"1\" class=\"dataframe\">\n",
       "  <thead>\n",
       "    <tr style=\"text-align: right;\">\n",
       "      <th></th>\n",
       "      <th></th>\n",
       "      <th></th>\n",
       "      <th>ref</th>\n",
       "      <th>piece</th>\n",
       "      <th>distance_centre_paris</th>\n",
       "      <th>superficie_quartier</th>\n",
       "      <th>score_metro</th>\n",
       "    </tr>\n",
       "    <tr>\n",
       "      <th>nom_quartier</th>\n",
       "      <th>meuble_txt</th>\n",
       "      <th>epoque</th>\n",
       "      <th></th>\n",
       "      <th></th>\n",
       "      <th></th>\n",
       "      <th></th>\n",
       "      <th></th>\n",
       "    </tr>\n",
       "  </thead>\n",
       "  <tbody>\n",
       "    <tr>\n",
       "      <th rowspan=\"8\" valign=\"top\">Amérique</th>\n",
       "      <th rowspan=\"4\" valign=\"top\">meublé</th>\n",
       "      <th>1946-1970</th>\n",
       "      <td>20.650</td>\n",
       "      <td>2.5</td>\n",
       "      <td>4.643892</td>\n",
       "      <td>1.835720</td>\n",
       "      <td>0.369742</td>\n",
       "    </tr>\n",
       "    <tr>\n",
       "      <th>1971-1990</th>\n",
       "      <td>20.025</td>\n",
       "      <td>2.5</td>\n",
       "      <td>4.643892</td>\n",
       "      <td>1.835720</td>\n",
       "      <td>0.369742</td>\n",
       "    </tr>\n",
       "    <tr>\n",
       "      <th>Apres 1990</th>\n",
       "      <td>22.150</td>\n",
       "      <td>2.5</td>\n",
       "      <td>4.643892</td>\n",
       "      <td>1.835720</td>\n",
       "      <td>0.369742</td>\n",
       "    </tr>\n",
       "    <tr>\n",
       "      <th>Avant 1946</th>\n",
       "      <td>25.050</td>\n",
       "      <td>2.5</td>\n",
       "      <td>4.643892</td>\n",
       "      <td>1.835720</td>\n",
       "      <td>0.369742</td>\n",
       "    </tr>\n",
       "    <tr>\n",
       "      <th rowspan=\"4\" valign=\"top\">non meublé</th>\n",
       "      <th>1946-1970</th>\n",
       "      <td>18.275</td>\n",
       "      <td>2.5</td>\n",
       "      <td>4.643892</td>\n",
       "      <td>1.835720</td>\n",
       "      <td>0.369742</td>\n",
       "    </tr>\n",
       "    <tr>\n",
       "      <th>1971-1990</th>\n",
       "      <td>17.700</td>\n",
       "      <td>2.5</td>\n",
       "      <td>4.643892</td>\n",
       "      <td>1.835720</td>\n",
       "      <td>0.369742</td>\n",
       "    </tr>\n",
       "    <tr>\n",
       "      <th>Apres 1990</th>\n",
       "      <td>19.625</td>\n",
       "      <td>2.5</td>\n",
       "      <td>4.643892</td>\n",
       "      <td>1.835720</td>\n",
       "      <td>0.369742</td>\n",
       "    </tr>\n",
       "    <tr>\n",
       "      <th>Avant 1946</th>\n",
       "      <td>22.150</td>\n",
       "      <td>2.5</td>\n",
       "      <td>4.643892</td>\n",
       "      <td>1.835720</td>\n",
       "      <td>0.369742</td>\n",
       "    </tr>\n",
       "    <tr>\n",
       "      <th rowspan=\"8\" valign=\"top\">Archives</th>\n",
       "      <th rowspan=\"4\" valign=\"top\">meublé</th>\n",
       "      <th>1946-1970</th>\n",
       "      <td>27.450</td>\n",
       "      <td>2.5</td>\n",
       "      <td>1.237744</td>\n",
       "      <td>0.367728</td>\n",
       "      <td>0.101295</td>\n",
       "    </tr>\n",
       "    <tr>\n",
       "      <th>1971-1990</th>\n",
       "      <td>28.250</td>\n",
       "      <td>2.5</td>\n",
       "      <td>1.237744</td>\n",
       "      <td>0.367728</td>\n",
       "      <td>0.101295</td>\n",
       "    </tr>\n",
       "    <tr>\n",
       "      <th>Apres 1990</th>\n",
       "      <td>28.725</td>\n",
       "      <td>2.5</td>\n",
       "      <td>1.237744</td>\n",
       "      <td>0.367728</td>\n",
       "      <td>0.101295</td>\n",
       "    </tr>\n",
       "    <tr>\n",
       "      <th>Avant 1946</th>\n",
       "      <td>30.775</td>\n",
       "      <td>2.5</td>\n",
       "      <td>1.237744</td>\n",
       "      <td>0.367728</td>\n",
       "      <td>0.101295</td>\n",
       "    </tr>\n",
       "    <tr>\n",
       "      <th rowspan=\"4\" valign=\"top\">non meublé</th>\n",
       "      <th>1946-1970</th>\n",
       "      <td>24.275</td>\n",
       "      <td>2.5</td>\n",
       "      <td>1.237744</td>\n",
       "      <td>0.367728</td>\n",
       "      <td>0.101295</td>\n",
       "    </tr>\n",
       "    <tr>\n",
       "      <th>1971-1990</th>\n",
       "      <td>25.000</td>\n",
       "      <td>2.5</td>\n",
       "      <td>1.237744</td>\n",
       "      <td>0.367728</td>\n",
       "      <td>0.101295</td>\n",
       "    </tr>\n",
       "    <tr>\n",
       "      <th>Apres 1990</th>\n",
       "      <td>25.425</td>\n",
       "      <td>2.5</td>\n",
       "      <td>1.237744</td>\n",
       "      <td>0.367728</td>\n",
       "      <td>0.101295</td>\n",
       "    </tr>\n",
       "    <tr>\n",
       "      <th>Avant 1946</th>\n",
       "      <td>27.225</td>\n",
       "      <td>2.5</td>\n",
       "      <td>1.237744</td>\n",
       "      <td>0.367728</td>\n",
       "      <td>0.101295</td>\n",
       "    </tr>\n",
       "  </tbody>\n",
       "</table>\n",
       "</div>"
      ],
      "text/plain": [
       "                                       ref  piece  distance_centre_paris  \\\n",
       "nom_quartier meuble_txt epoque                                             \n",
       "Amérique     meublé     1946-1970   20.650    2.5               4.643892   \n",
       "                        1971-1990   20.025    2.5               4.643892   \n",
       "                        Apres 1990  22.150    2.5               4.643892   \n",
       "                        Avant 1946  25.050    2.5               4.643892   \n",
       "             non meublé 1946-1970   18.275    2.5               4.643892   \n",
       "                        1971-1990   17.700    2.5               4.643892   \n",
       "                        Apres 1990  19.625    2.5               4.643892   \n",
       "                        Avant 1946  22.150    2.5               4.643892   \n",
       "Archives     meublé     1946-1970   27.450    2.5               1.237744   \n",
       "                        1971-1990   28.250    2.5               1.237744   \n",
       "                        Apres 1990  28.725    2.5               1.237744   \n",
       "                        Avant 1946  30.775    2.5               1.237744   \n",
       "             non meublé 1946-1970   24.275    2.5               1.237744   \n",
       "                        1971-1990   25.000    2.5               1.237744   \n",
       "                        Apres 1990  25.425    2.5               1.237744   \n",
       "                        Avant 1946  27.225    2.5               1.237744   \n",
       "\n",
       "                                    superficie_quartier  score_metro  \n",
       "nom_quartier meuble_txt epoque                                        \n",
       "Amérique     meublé     1946-1970              1.835720     0.369742  \n",
       "                        1971-1990              1.835720     0.369742  \n",
       "                        Apres 1990             1.835720     0.369742  \n",
       "                        Avant 1946             1.835720     0.369742  \n",
       "             non meublé 1946-1970              1.835720     0.369742  \n",
       "                        1971-1990              1.835720     0.369742  \n",
       "                        Apres 1990             1.835720     0.369742  \n",
       "                        Avant 1946             1.835720     0.369742  \n",
       "Archives     meublé     1946-1970              0.367728     0.101295  \n",
       "                        1971-1990              0.367728     0.101295  \n",
       "                        Apres 1990             0.367728     0.101295  \n",
       "                        Avant 1946             0.367728     0.101295  \n",
       "             non meublé 1946-1970              0.367728     0.101295  \n",
       "                        1971-1990              0.367728     0.101295  \n",
       "                        Apres 1990             0.367728     0.101295  \n",
       "                        Avant 1946             0.367728     0.101295  "
      ]
     },
     "execution_count": 43,
     "metadata": {},
     "output_type": "execute_result"
    }
   ],
   "source": [
    "analyse = donnees_augmentees.groupby(['nom_quartier','meuble_txt','epoque']).mean()\n",
    "todrop=['id_quartier','min','max']\n",
    "analyse.drop(todrop,axis=1,inplace=True)\n",
    "analyse.head(16)"
   ]
  },
  {
   "cell_type": "markdown",
   "metadata": {},
   "source": [
    "De façon attendue, lorsqu'on prend un bien immobilier situé dans le même quartier et datant de la même époque, le bien qui sera meublé coûtera plus cher que le bien non meublé. \n",
    "\n",
    "On peut remarquer que les appartements historiques (avant 1946) sont les plus chers suivi par les appartements très modernes (post 1990), cela peut s'expliquer par des raisons historiques : les appartements entre 1946 et 1990 ont été construits pendant la période (et peu après) des 30 glorieuses, il fallait loger beaucoup de monde rapidement, ils sont donc moins travaillés esthétiquements que ceux avant et après cette période. \n"
   ]
  },
  {
   "cell_type": "code",
   "execution_count": 66,
   "metadata": {},
   "outputs": [],
   "source": [
    "donnees_acp = donnees_num.copy()\n",
    "todrop = ['q_'+str(i+1) for i in range(80)]+['geometry','min','max']\n",
    "donnees_acp.drop(todrop,axis=1,inplace=True)"
   ]
  },
  {
   "cell_type": "markdown",
   "metadata": {},
   "source": [
    "On regénère les données utilisées et on les numérise afin de pouvoir effectuer une ACP sur les données. On ne prendra pas en compte les quartiers puisqu'ils vont avoir une contribution non nulle à chaque composante la rendant inutilisable. De plus, on peut justifier ce choix par le fait que les quartiers sont identifiables par le score du métro, la superficie et la distance au centre de Paris."
   ]
  },
  {
   "cell_type": "code",
   "execution_count": 67,
   "metadata": {},
   "outputs": [],
   "source": [
    "donnees_acp = donnees_acp.fillna(0)\n",
    "features = [donnees_acp.columns[i] for i in range(len(donnees_acp.columns))]\n",
    "x = donnees_acp.loc[:,features].values\n",
    "x = StandardScaler().fit_transform(x)"
   ]
  },
  {
   "cell_type": "markdown",
   "metadata": {},
   "source": [
    "Certains quartiers n'ont pas de score de métro, nous leur assignons donc 0 même si cela est discutable comme vu précédemment, nous prenons toutes les variables dans nos données et nous les normalisons pour pouvoir effectuer une ACP."
   ]
  },
  {
   "cell_type": "code",
   "execution_count": null,
   "metadata": {},
   "outputs": [],
   "source": [
    "n_components = len(donnee_acp.columns)\n",
    "pca = PCA(n_components=n_components)\n",
    "principalComponents = pca.fit_transform(x)\n",
    "principalDf = pd.DataFrame(data = principalComponents, columns = ['principal component' + str(i+1) for i in range(len(donnees_acp.columns))])"
   ]
  },
  {
   "cell_type": "markdown",
   "metadata": {},
   "source": [
    "On effectue l'ACP, on garde le même nombre de composantes principales que de variables, cela nous permettra d'avoir une variance explicative égale à 1, nous choissirons ensuite les variables les plus appropriées."
   ]
  },
  {
   "cell_type": "code",
   "execution_count": null,
   "metadata": {},
   "outputs": [],
   "source": [
    "pca.explained_variance_ratio_"
   ]
  },
  {
   "cell_type": "markdown",
   "metadata": {},
   "source": [
    "On voit que les 2 dernières variables de l'ACP expliquent peu (contribution de 2.5%), on peut prendre 6 composantes principales (même si cela est à discuter, la règle du coude étant inutilisable ici, on en prend 6 plutôt que 7 car la 7ème a une contribution inférieure à 1/9)"
   ]
  },
  {
   "cell_type": "code",
   "execution_count": null,
   "metadata": {},
   "outputs": [],
   "source": [
    "ind = np.arange(0, n_components)\n",
    "(fig, ax) = plt.subplots(figsize=(8, 6))\n",
    "sns.pointplot(x=ind, y=pca.explained_variance_ratio_)\n",
    "ax.set_title('Scree plot')\n",
    "ax.set_xticks(ind)\n",
    "ax.set_xticklabels(ind)\n",
    "ax.set_xlabel('Component Number')\n",
    "ax.set_ylabel('Explained Variance')\n",
    "plt.show()\n"
   ]
  },
  {
   "cell_type": "code",
   "execution_count": null,
   "metadata": {},
   "outputs": [],
   "source": [
    "(fig, ax) = plt.subplots(figsize=(8, 8))\n",
    "for i in range(0, pca.components_.shape[1]):\n",
    "    ax.arrow(0,0,pca.components_[0, i],pca.components_[1, i],head_length=0.1)\n",
    "    plt.text(pca.components_[0, i] + 0.05,pca.components_[1, i] + 0.05,donnees_acp.columns.values[i])\n",
    "\n",
    "an = np.linspace(0, 2 * np.pi, 100)\n",
    "plt.plot(np.cos(an), np.sin(an))  #Cercle unité pour référence\n",
    "plt.axis('equal')\n",
    "ax.set_title('Variable factor map')\n",
    "plt.show()\n"
   ]
  },
  {
   "cell_type": "markdown",
   "metadata": {},
   "source": [
    "Effectuons une ACP sur les variables obtenues par le modèle de Lasso pour voir si nous pouvons encore restreindre le nombre de variable."
   ]
  },
  {
   "cell_type": "code",
   "execution_count": 71,
   "metadata": {},
   "outputs": [],
   "source": [
    "features = ['piece','distance_centre_paris','meuble_bin']\n",
    "x = donnees_num.loc[:,features].values\n",
    "x = StandardScaler().fit_transform(x)"
   ]
  },
  {
   "cell_type": "code",
   "execution_count": 72,
   "metadata": {},
   "outputs": [],
   "source": [
    "n_components = 3\n",
    "pca = PCA(n_components=n_components)\n",
    "principalComponents = pca.fit_transform(x)\n",
    "principalDf = pd.DataFrame(data = principalComponents, columns = ['principal component' + str(i+1) for i in range(3)])"
   ]
  },
  {
   "cell_type": "code",
   "execution_count": 73,
   "metadata": {},
   "outputs": [
    {
     "data": {
      "text/plain": [
       "array([0.33333333, 0.33333333, 0.33333333])"
      ]
     },
     "execution_count": 73,
     "metadata": {},
     "output_type": "execute_result"
    }
   ],
   "source": [
    "pca.explained_variance_ratio_"
   ]
  },
  {
   "cell_type": "code",
   "execution_count": null,
   "metadata": {},
   "outputs": [],
   "source": [
    "ind = np.arange(0, n_components)\n",
    "(fig, ax) = plt.subplots(figsize=(8, 6))\n",
    "sns.pointplot(x=ind, y=pca.explained_variance_ratio_)\n",
    "ax.set_title('Scree plot')\n",
    "ax.set_xticks(ind)\n",
    "ax.set_xticklabels(ind)\n",
    "ax.set_xlabel('Component Number')\n",
    "ax.set_ylabel('Explained Variance')\n",
    "plt.show()"
   ]
  },
  {
   "cell_type": "markdown",
   "metadata": {},
   "source": [
    "On voit que chaque composante de l'ACP a pour valeur 1/3, on ne peut donc négliger aucune composante, les 3 séries de valeurs sont donc importantes pour représenter les données."
   ]
  },
  {
   "cell_type": "code",
   "execution_count": null,
   "metadata": {},
   "outputs": [],
   "source": []
  },
  {
   "cell_type": "code",
   "execution_count": null,
   "metadata": {},
   "outputs": [],
   "source": []
  },
  {
   "cell_type": "code",
   "execution_count": null,
   "metadata": {},
   "outputs": [],
   "source": []
  },
  {
   "cell_type": "code",
   "execution_count": null,
   "metadata": {},
   "outputs": [],
   "source": []
  },
  {
   "cell_type": "markdown",
   "metadata": {},
   "source": [
    "$\\Rightarrow$ **ici, mettre le reste de la stat desc : visualisation sur carte, matrice des correlations, (matrice de scatter plot ?), cercle des corrélations, ...**"
   ]
  },
  {
   "cell_type": "code",
   "execution_count": null,
   "metadata": {},
   "outputs": [],
   "source": []
  },
  {
   "cell_type": "code",
   "execution_count": null,
   "metadata": {},
   "outputs": [],
   "source": []
  },
  {
   "cell_type": "code",
   "execution_count": null,
   "metadata": {},
   "outputs": [],
   "source": []
  },
  {
   "cell_type": "code",
   "execution_count": null,
   "metadata": {},
   "outputs": [],
   "source": []
  },
  {
   "cell_type": "markdown",
   "metadata": {},
   "source": [
    "### 2. Modèle LASSO - sélection des variables d'intérêt\n",
    "\n",
    "Nous avons implémenté ici un modèle Lasso pour sélectionner les variables d'intérêt parmi les variables de notre base de données. Le but est de ne garder que les variables qui expliquent le mieux les loyers parisiens. \n",
    "\n",
    "Un autre avantage lié au fait de ne garder que les variables les plus importantes interviendra par la suite : la sélection de variables par le modèle Lasso, couplé au fait de découper notre base en échantillon d'entrainement et échantillon test dans les modèles de régression permettra d'éviter les phénomènes de surrapprentissage.  \n",
    "Ce modèle permet de sélectionner les variables d'intérêt. \n",
    "\n",
    "#### a) Preprocessing\n",
    "On utilise la base de données numérique `donnees_num`, à laquelle : \n",
    "   - on enlève les variables qui ne nous intérèssent pas : `min`, `max` et `geometry`\n",
    "   - on enlève l'une des variables de chaque groupe de variables corrélées :\n",
    "        - `q_80` pour le groupe de variables corrélées `q_i`, $1 \\leq i \\leq80$\n",
    "        - `epoque_0` pour le groupe de variables corrélées `epoque_i`, $0 \\leq i \\leq3$\n",
    "   - on standardise les variables restantes"
   ]
  },
  {
   "cell_type": "code",
   "execution_count": 64,
   "metadata": {},
   "outputs": [],
   "source": [
    "donnees_lasso = donnees_num.copy()\n",
    "\n",
    "donnees_lasso.drop(['min','max','geometry','q_80','epoque_0'],axis=1,inplace=True)\n",
    "\n",
    "data_lasso = standardisation(donnees_lasso)"
   ]
  },
  {
   "cell_type": "markdown",
   "metadata": {},
   "source": [
    "#### b) Choix de l'hyper-paramètre\n",
    "Pour choisir la valeur la plus pertinente pour l'hyper-paramètre $\\alpha$ du modèle, on teste le modèle LASSO avec différentes valeurs d'hyper-paramètre $\\alpha$, et on représente le nombre de variables sélectionnées en fonction de $\\alpha$ :"
   ]
  },
  {
   "cell_type": "code",
   "execution_count": 85,
   "metadata": {},
   "outputs": [
    {
     "data": {
      "image/png": "[encoded data removed]",
      "text/plain": [
       "<Figure size 432x288 with 1 Axes>"
      ]
     },
     "metadata": {},
     "output_type": "display_data"
    }
   ],
   "source": [
    "yindex = donnees_lasso.columns.get_loc(\"ref\")\n",
    "alphas = np.array([0.001,0.005]+[i/100 for i in range(1,30)]+[0.5,0.8,1.0])\n",
    "\n",
    "alpha_for_path, coefs_lasso, _ = lasso_path(np.delete(data_lasso, yindex, axis = 1),data_lasso[:,yindex],alphas=alphas)\n",
    "nb_non_zero = np.apply_along_axis(func1d=np.count_nonzero,arr=coefs_lasso,axis=0)\n",
    "\n",
    "sns.set_style(\"whitegrid\")\n",
    "sns.lineplot(y=nb_non_zero, x=alpha_for_path).set(title = r\"Nombres de variables sélectionnées par Lasso en fonction de l'hyper paramètre $\\alpha$ choisi\", xlabel=r'$\\alpha$', ylabel='Nombre de variables sélectionnées')\n",
    "plt.axvline(0.15, 0,80,color=\"red\",linestyle=\"--\",label = r\"$\\alpha$=0.15\")\n",
    "plt.legend(loc='upper right')\n",
    "plt.show()"
   ]
  },
  {
   "cell_type": "markdown",
   "metadata": {},
   "source": [
    "$\\hookrightarrow$ On remarque que le nombre de variables sélectionnées décroit très rapidement. On peut supposer que cela est du au fait que si on établit que le quartier n'a pas d'influence sur le loyer, on peut directement écarter 79 variables...\n",
    "\n",
    "$\\hookrightarrow$ Il y a un point d'inflexion sur la courbe précédente, pour la valeur d'hyper paramètre $\\alpha = 0.15$. On choisit donc cette valeur pour réaliser notre sélection de variables. "
   ]
  },
  {
   "cell_type": "markdown",
   "metadata": {},
   "source": [
    "#### c) Modèle Lasso avec $\\alpha = 0.15$"
   ]
  },
  {
   "cell_type": "code",
   "execution_count": 86,
   "metadata": {},
   "outputs": [
    {
     "name": "stdout",
     "output_type": "stream",
     "text": [
      "Coefficients estimés par modèle LASSO avec alpha = 0.15:\n",
      "[0.3980399  0.13119295 0.         0.         0.22604745 0.\n",
      " 0.         0.         0.         0.         0.         0.\n",
      " 0.         0.         0.         0.         0.         0.\n",
      " 0.         0.         0.         0.         0.         0.\n",
      " 0.         0.         0.         0.         0.         0.\n",
      " 0.         0.         0.         0.         0.         0.\n",
      " 0.         0.         0.         0.         0.         0.\n",
      " 0.         0.         0.         0.         0.         0.\n",
      " 0.         0.         0.         0.         0.         0.\n",
      " 0.         0.         0.         0.         0.         0.\n",
      " 0.         0.         0.         0.         0.         0.\n",
      " 0.         0.         0.         0.         0.         0.\n",
      " 0.         0.         0.         0.         0.         0.\n",
      " 0.         0.         0.         0.         0.         0.\n",
      " 0.         0.         0.        ]\n",
      "Variables sélectionnées par modèle LASSO avec alpha = 0.15:\n",
      "Index(['piece', 'distance_centre_paris', 'meuble_bin'], dtype='object')\n"
     ]
    }
   ],
   "source": [
    "alpha = 0.15\n",
    "\n",
    "lasso1 = Lasso(fit_intercept=False,normalize=False, alpha = alpha)\n",
    "lasso1.fit(np.delete(data_lasso, yindex, axis = 1),data_lasso[:,yindex])\n",
    "\n",
    "print(\"Coefficients estimés par modèle LASSO avec alpha = \"+str(alpha)+\":\")\n",
    "print(np.abs(lasso1.coef_))\n",
    "\n",
    "print(\"Variables sélectionnées par modèle LASSO avec alpha = \"+str(alpha)+\":\")\n",
    "print(donnees_lasso.drop(\"ref\", axis = 1).columns[np.abs(lasso1.coef_)>0])\n"
   ]
  },
  {
   "cell_type": "markdown",
   "metadata": {},
   "source": [
    "$\\hookrightarrow$ Le modèle LASSO avec $\\alpha = 0.15$ sélectionne donc le nombre de pièces comme ayant la plus grande incidence sur le loyer. Il sélectionne également la distance au centre de Paris, qui est une information sur les quartiers et représentae une partie de la \"demande\", et le fait que le logement soit proposé comme meublé ou non.\n",
    "\n",
    "Le fait que le nombre de pièces et le caractère meublé ou non d'un logement soient primordiales dans la détermination de son loyer n'est pas étonnant. Cela fait partie des premiers critères avec la localisation, qui est en partie prise en compte dans la distance au centre de Paris.\n",
    "\n",
    "En revanche, on ne retrouve pas la superficie des quartiers, considérée comme liée à la \"demande\". On ne retrouve pas non plus le score du métro/rer que nous avons créé. Peut être qu'il n'a pas été réalisé avec assez de précision pour rendre bien compte des capacités de chaque quartier... \n",
    "\n",
    "Avec un $\\alpha$ légèrement plus petit, on peut essayer de regarder qu'elles variables auraient pu être sélectionnées après ces trois variables principales :"
   ]
  },
  {
   "cell_type": "code",
   "execution_count": 88,
   "metadata": {},
   "outputs": [
    {
     "name": "stdout",
     "output_type": "stream",
     "text": [
      "Coefficients estimés par modèle LASSO : \n",
      "[0.4180399  0.1511576  0.         0.         0.24604745 0.\n",
      " 0.         0.         0.         0.         0.         0.\n",
      " 0.         0.         0.         0.         0.         0.\n",
      " 0.         0.         0.         0.         0.         0.\n",
      " 0.         0.         0.         0.         0.         0.\n",
      " 0.         0.         0.         0.         0.         0.\n",
      " 0.         0.         0.         0.         0.         0.\n",
      " 0.         0.         0.         0.         0.         0.\n",
      " 0.         0.         0.         0.         0.         0.\n",
      " 0.00141474 0.         0.         0.         0.         0.\n",
      " 0.         0.         0.         0.         0.         0.\n",
      " 0.         0.         0.         0.         0.         0.\n",
      " 0.         0.         0.         0.         0.         0.\n",
      " 0.         0.         0.         0.         0.         0.\n",
      " 0.01943677 0.00945549 0.        ]\n",
      "Colonnes sélectionnées par modèle LASSO : \n",
      "Index(['piece', 'distance_centre_paris', 'meuble_bin', 'q_50', 'epoque_1',\n",
      "       'epoque_2'],\n",
      "      dtype='object')\n"
     ]
    }
   ],
   "source": [
    "alpha = 0.13\n",
    "\n",
    "lasso1 = Lasso(fit_intercept=False,normalize=False, alpha = alpha)\n",
    "lasso1.fit(np.delete(data_lasso, yindex, axis = 1),data_lasso[:,yindex])\n",
    "\n",
    "print(\"Coefficients estimés par modèle LASSO : \")\n",
    "print(np.abs(lasso1.coef_))\n",
    "\n",
    "print(\"Colonnes sélectionnées par modèle LASSO : \")\n",
    "print(donnees_lasso.drop(\"ref\", axis = 1).columns[np.abs(lasso1.coef_)>0])"
   ]
  },
  {
   "cell_type": "markdown",
   "metadata": {},
   "source": [
    "$\\hookrightarrow$ Si on diminue légèrement $\\alpha$ pour prendre $\\alpha=0.13$, on remarque que deux des variables correspondant à l'époque de construction et la variable indicatrice du quartier Gare (50) sont également sélectionnées, mais obtiennent des coefficients beaucoup plus petits. Cela est dur à interpréter. Le fait que l'époque entre en jeu témoigne peut être de l'état des logements, ce qui influence leur prix à la baisse lorsque les appartements sont en mauvais état (ce qui n'est pas rare à Paris...). "
   ]
  },
  {
   "cell_type": "markdown",
   "metadata": {},
   "source": [
    "# Partie 3 - Modélisation \n",
    "\n",
    "*(Les fonctions de cette partie sont disponibles dans les dossiers `modelisation` du dépôt git)*"
   ]
  },
  {
   "cell_type": "code",
   "execution_count": null,
   "metadata": {},
   "outputs": [],
   "source": []
  },
  {
   "cell_type": "code",
   "execution_count": null,
   "metadata": {},
   "outputs": [],
   "source": []
  },
  {
   "cell_type": "code",
   "execution_count": null,
   "metadata": {},
   "outputs": [],
   "source": []
  },
  {
   "cell_type": "code",
   "execution_count": null,
   "metadata": {},
   "outputs": [],
   "source": []
  },
  {
   "cell_type": "markdown",
   "metadata": {},
   "source": [
    "$\\Rightarrow$ **ici, mettre les différents modèles implémentés**"
   ]
  },
  {
   "cell_type": "code",
   "execution_count": null,
   "metadata": {},
   "outputs": [],
   "source": []
  },
  {
   "cell_type": "code",
   "execution_count": null,
   "metadata": {},
   "outputs": [],
   "source": []
  },
  {
   "cell_type": "code",
   "execution_count": null,
   "metadata": {},
   "outputs": [],
   "source": []
  },
  {
   "cell_type": "code",
   "execution_count": null,
   "metadata": {},
   "outputs": [],
   "source": []
  }
 ],
 "metadata": {
  "kernelspec": {
   "display_name": "Python 3",
   "language": "python",
   "name": "python3"
  },
  "language_info": {
   "codemirror_mode": {
    "name": "ipython",
    "version": 3
   },
   "file_extension": ".py",
   "mimetype": "text/x-python",
   "name": "python",
   "nbconvert_exporter": "python",
   "pygments_lexer": "ipython3",
   "version": "3.8.3"
  }
 },
 "nbformat": 4,
 "nbformat_minor": 4
}
