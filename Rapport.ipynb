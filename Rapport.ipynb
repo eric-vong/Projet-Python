{
 "cells": [
  {
   "cell_type": "markdown",
   "metadata": {},
   "source": [
    "# Projet Python pour le Data Scientist "
   ]
  },
  {
   "cell_type": "markdown",
   "metadata": {},
   "source": [
    "Projet réalisé par Eric Vong, Thibaut Valour et Solène Blasco Lopez\n",
    "\n",
    "Ce projet Python utilise les données de l'OpenData de Paris sur l'encadrement des loyers de 2019, enrichies par l'intermédiaire de données web-scrapées sur internet. Il expérimente différents modèles de régression entrainés sur ces données dans le but de prédire les loyers de référence des appartements parisiens. L'objet de ce projet est donc de répondre à la problématique suivante : Quels sont les déterminants du loyer d'un bien immobilier parisien ?"
   ]
  },
  {
   "cell_type": "code",
   "execution_count": 66,
   "metadata": {},
   "outputs": [],
   "source": [
    "import re\n",
    "\n",
    "# Manipulation des donneés :\n",
    "import pandas as pd\n",
    "import geopandas as gpd\n",
    "\n",
    "# Web-scraping :\n",
    "import urllib\n",
    "import bs4 \n",
    "\n",
    "#Traitement des données :\n",
    "from sklearn.preprocessing import LabelBinarizer, LabelEncoder, StandardScaler\n",
    "from sklearn.decomposition import PCA\n",
    "\n",
    "from sklearn.linear_model import Lasso, lasso_path\n",
    "\n",
    "# Représentations graphiques :\n",
    "import numpy as np\n",
    "import matplotlib.pyplot as plt\n",
    "import seaborn as sns"
   ]
  },
  {
   "cell_type": "markdown",
   "metadata": {},
   "source": [
    "## Partie 1 - récupération et traitement des données\n",
    "*Les lignes de code qui suivent peuvent être trouvées dans le dossier `data` du dépôt git*"
   ]
  },
  {
   "cell_type": "markdown",
   "metadata": {},
   "source": [
    "### 1. Récupération des données de la mairie de Paris concernant l'encadrement des loyers\n",
    "\n",
    "La mairie de Paris a mis en ligne une base de données concernant l'encadrement des loyers de ses logements en 2019. On y trouve une classification des logements, selon leur secteur de localisation (quartier administratif) et leur type (nombre de pièces, époque de construction, meublé/non-meublé), accompagnée de leurs loyers de référence. \n",
    "\n",
    "*Lien contenant les informations sur ces données : https://opendata.paris.fr/explore/dataset/logement-encadrement-des-loyers/information/?disjunctive.id_zone&disjunctive.nom_quartier&disjunctive.piece&disjunctive.epoque&disjunctive.meuble_txt&sort=-id_zone&location=15,48.84958,2.34691&basemap=jawg.streets*"
   ]
  },
  {
   "cell_type": "code",
   "execution_count": 2,
   "metadata": {},
   "outputs": [],
   "source": [
    "donnees_brutes = gpd.read_file('https://opendata.paris.fr/explore/dataset/logement-encadrement-des-loyers/download/?format=geojson&timezone=Europe/Berlin&lang=fr')"
   ]
  },
  {
   "cell_type": "markdown",
   "metadata": {},
   "source": [
    "On ne sélectionne que les colonnes qui nous intérèssent : \n",
    "- `nom_quartier` et `id_quartier` : nom et id du quartier (administratif)\n",
    "- `ref` : loyer de référence (encadrement : `min` et `max`)\n",
    "- `epoque` : époque de construction de l'appartement\n",
    "- `meuble_txt` : location en tant que logement meublé ou non-meublé\n",
    "- `piece` : nombre de pièces\n",
    "- `geometry` : représentation graphique du quartier."
   ]
  },
  {
   "cell_type": "code",
   "execution_count": 3,
   "metadata": {},
   "outputs": [],
   "source": [
    "donnees = donnees_brutes[['nom_quartier','id_quartier','ref','min','max','epoque','meuble_txt','piece','geometry']]"
   ]
  },
  {
   "cell_type": "code",
   "execution_count": 4,
   "metadata": {},
   "outputs": [
    {
     "data": {
      "text/html": [
       "<div>\n",
       "<style scoped>\n",
       "    .dataframe tbody tr th:only-of-type {\n",
       "        vertical-align: middle;\n",
       "    }\n",
       "\n",
       "    .dataframe tbody tr th {\n",
       "        vertical-align: top;\n",
       "    }\n",
       "\n",
       "    .dataframe thead th {\n",
       "        text-align: right;\n",
       "    }\n",
       "</style>\n",
       "<table border=\"1\" class=\"dataframe\">\n",
       "  <thead>\n",
       "    <tr style=\"text-align: right;\">\n",
       "      <th></th>\n",
       "      <th>nom_quartier</th>\n",
       "      <th>id_quartier</th>\n",
       "      <th>ref</th>\n",
       "      <th>min</th>\n",
       "      <th>max</th>\n",
       "      <th>epoque</th>\n",
       "      <th>meuble_txt</th>\n",
       "      <th>piece</th>\n",
       "      <th>geometry</th>\n",
       "    </tr>\n",
       "  </thead>\n",
       "  <tbody>\n",
       "    <tr>\n",
       "      <th>0</th>\n",
       "      <td>Belleville</td>\n",
       "      <td>77</td>\n",
       "      <td>21.4</td>\n",
       "      <td>14.98</td>\n",
       "      <td>25.68</td>\n",
       "      <td>Avant 1946</td>\n",
       "      <td>non meublé</td>\n",
       "      <td>4</td>\n",
       "      <td>POLYGON ((2.38323 48.86710, 2.38314 48.86708, ...</td>\n",
       "    </tr>\n",
       "    <tr>\n",
       "      <th>1</th>\n",
       "      <td>Amérique</td>\n",
       "      <td>75</td>\n",
       "      <td>16.7</td>\n",
       "      <td>11.69</td>\n",
       "      <td>20.04</td>\n",
       "      <td>1971-1990</td>\n",
       "      <td>non meublé</td>\n",
       "      <td>3</td>\n",
       "      <td>POLYGON ((2.40940 48.88019, 2.40995 48.87952, ...</td>\n",
       "    </tr>\n",
       "    <tr>\n",
       "      <th>2</th>\n",
       "      <td>Pont-de-Flandre</td>\n",
       "      <td>74</td>\n",
       "      <td>20.2</td>\n",
       "      <td>14.14</td>\n",
       "      <td>24.24</td>\n",
       "      <td>1971-1990</td>\n",
       "      <td>meublé</td>\n",
       "      <td>2</td>\n",
       "      <td>POLYGON ((2.38488 48.88663, 2.38483 48.88662, ...</td>\n",
       "    </tr>\n",
       "    <tr>\n",
       "      <th>3</th>\n",
       "      <td>Amérique</td>\n",
       "      <td>75</td>\n",
       "      <td>24.0</td>\n",
       "      <td>16.80</td>\n",
       "      <td>28.80</td>\n",
       "      <td>1971-1990</td>\n",
       "      <td>meublé</td>\n",
       "      <td>1</td>\n",
       "      <td>POLYGON ((2.40940 48.88019, 2.40995 48.87952, ...</td>\n",
       "    </tr>\n",
       "    <tr>\n",
       "      <th>4</th>\n",
       "      <td>Saint-Fargeau</td>\n",
       "      <td>78</td>\n",
       "      <td>29.4</td>\n",
       "      <td>20.58</td>\n",
       "      <td>35.28</td>\n",
       "      <td>Avant 1946</td>\n",
       "      <td>meublé</td>\n",
       "      <td>1</td>\n",
       "      <td>POLYGON ((2.41381 48.87081, 2.41383 48.87066, ...</td>\n",
       "    </tr>\n",
       "  </tbody>\n",
       "</table>\n",
       "</div>"
      ],
      "text/plain": [
       "      nom_quartier  id_quartier   ref    min    max      epoque  meuble_txt  \\\n",
       "0       Belleville           77  21.4  14.98  25.68  Avant 1946  non meublé   \n",
       "1         Amérique           75  16.7  11.69  20.04   1971-1990  non meublé   \n",
       "2  Pont-de-Flandre           74  20.2  14.14  24.24   1971-1990      meublé   \n",
       "3         Amérique           75  24.0  16.80  28.80   1971-1990      meublé   \n",
       "4    Saint-Fargeau           78  29.4  20.58  35.28  Avant 1946      meublé   \n",
       "\n",
       "   piece                                           geometry  \n",
       "0      4  POLYGON ((2.38323 48.86710, 2.38314 48.86708, ...  \n",
       "1      3  POLYGON ((2.40940 48.88019, 2.40995 48.87952, ...  \n",
       "2      2  POLYGON ((2.38488 48.88663, 2.38483 48.88662, ...  \n",
       "3      1  POLYGON ((2.40940 48.88019, 2.40995 48.87952, ...  \n",
       "4      1  POLYGON ((2.41381 48.87081, 2.41383 48.87066, ...  "
      ]
     },
     "execution_count": 4,
     "metadata": {},
     "output_type": "execute_result"
    }
   ],
   "source": [
    "donnees.head(5)"
   ]
  },
  {
   "cell_type": "markdown",
   "metadata": {},
   "source": [
    "Cette base de données référence 2560 appartements. On vérifie qu'il n'y a pas de valeurs manquantes :"
   ]
  },
  {
   "cell_type": "code",
   "execution_count": 5,
   "metadata": {},
   "outputs": [
    {
     "data": {
      "text/plain": [
       "nom_quartier    2560\n",
       "id_quartier     2560\n",
       "ref             2560\n",
       "min             2560\n",
       "max             2560\n",
       "epoque          2560\n",
       "meuble_txt      2560\n",
       "piece           2560\n",
       "geometry        2560\n",
       "dtype: int64"
      ]
     },
     "execution_count": 5,
     "metadata": {},
     "output_type": "execute_result"
    }
   ],
   "source": [
    "donnees.count()"
   ]
  },
  {
   "cell_type": "markdown",
   "metadata": {},
   "source": [
    "### 2. Création de deux variables : superficie des quartiers et leur distance au centre de Paris\n"
   ]
  },
  {
   "cell_type": "code",
   "execution_count": 6,
   "metadata": {},
   "outputs": [
    {
     "data": {
      "text/plain": [
       "{'init': 'epsg:4326'}"
      ]
     },
     "execution_count": 6,
     "metadata": {},
     "output_type": "execute_result"
    }
   ],
   "source": [
    "donnees.crs"
   ]
  },
  {
   "cell_type": "markdown",
   "metadata": {},
   "source": [
    "On va devoir faire en sorte d'utiliser le système de projection `epsg 2154` dans la suite pour pouvoir obtenir des distances en mètres et des aires en mètres carrés."
   ]
  },
  {
   "cell_type": "markdown",
   "metadata": {},
   "source": [
    "- On ajoute la distance du centre de chaque quartier au centre de Paris dans la variable `distance_centre_paris` (intuition : plus un bien est proche du centre de Paris, plus il est convoité et donc valorisé) :"
   ]
  },
  {
   "cell_type": "code",
   "execution_count": 7,
   "metadata": {},
   "outputs": [],
   "source": [
    "#Centres des quartiers :\n",
    "\n",
    "df = donnees.centroid \n",
    "df = df.to_crs(epsg=2154)"
   ]
  },
  {
   "cell_type": "code",
   "execution_count": 8,
   "metadata": {},
   "outputs": [],
   "source": [
    "#Centre de Paris (coordonnées trouvées sur internet): \n",
    "\n",
    "longitude = [2.3488 for i in range(2560)]\n",
    "latitude = [48.8534 for i in range(2560)]\n",
    "\n",
    "df2 = gpd.GeoDataFrame(geometry = gpd.points_from_xy(longitude, latitude),crs={'init': 'epsg:4326'})\n",
    "df2 = df2.to_crs(epsg=2154)"
   ]
  },
  {
   "cell_type": "code",
   "execution_count": 9,
   "metadata": {},
   "outputs": [],
   "source": [
    "# Tables des distances pour chaque appartement de la base de données :\n",
    "\n",
    "distances = pd.DataFrame(df.distance(df2)*10**(-3),columns=[\"distance_centre_paris\"])  #la multiplication par 10^3 convertit les mètres en kms"
   ]
  },
  {
   "cell_type": "code",
   "execution_count": 10,
   "metadata": {},
   "outputs": [],
   "source": [
    "# Ajout de la nouvelle variable à la base de données : \n",
    "\n",
    "donnees = donnees.join(distances)"
   ]
  },
  {
   "cell_type": "code",
   "execution_count": 11,
   "metadata": {},
   "outputs": [
    {
     "data": {
      "text/html": [
       "<div>\n",
       "<style scoped>\n",
       "    .dataframe tbody tr th:only-of-type {\n",
       "        vertical-align: middle;\n",
       "    }\n",
       "\n",
       "    .dataframe tbody tr th {\n",
       "        vertical-align: top;\n",
       "    }\n",
       "\n",
       "    .dataframe thead th {\n",
       "        text-align: right;\n",
       "    }\n",
       "</style>\n",
       "<table border=\"1\" class=\"dataframe\">\n",
       "  <thead>\n",
       "    <tr style=\"text-align: right;\">\n",
       "      <th></th>\n",
       "      <th>nom_quartier</th>\n",
       "      <th>id_quartier</th>\n",
       "      <th>ref</th>\n",
       "      <th>min</th>\n",
       "      <th>max</th>\n",
       "      <th>epoque</th>\n",
       "      <th>meuble_txt</th>\n",
       "      <th>piece</th>\n",
       "      <th>geometry</th>\n",
       "      <th>distance_centre_paris</th>\n",
       "    </tr>\n",
       "  </thead>\n",
       "  <tbody>\n",
       "    <tr>\n",
       "      <th>0</th>\n",
       "      <td>Belleville</td>\n",
       "      <td>77</td>\n",
       "      <td>21.4</td>\n",
       "      <td>14.98</td>\n",
       "      <td>25.68</td>\n",
       "      <td>Avant 1946</td>\n",
       "      <td>non meublé</td>\n",
       "      <td>4</td>\n",
       "      <td>POLYGON ((2.38323 48.86710, 2.38314 48.86708, ...</td>\n",
       "      <td>3.485188</td>\n",
       "    </tr>\n",
       "    <tr>\n",
       "      <th>1</th>\n",
       "      <td>Amérique</td>\n",
       "      <td>75</td>\n",
       "      <td>16.7</td>\n",
       "      <td>11.69</td>\n",
       "      <td>20.04</td>\n",
       "      <td>1971-1990</td>\n",
       "      <td>non meublé</td>\n",
       "      <td>3</td>\n",
       "      <td>POLYGON ((2.40940 48.88019, 2.40995 48.87952, ...</td>\n",
       "      <td>4.643892</td>\n",
       "    </tr>\n",
       "    <tr>\n",
       "      <th>2</th>\n",
       "      <td>Pont-de-Flandre</td>\n",
       "      <td>74</td>\n",
       "      <td>20.2</td>\n",
       "      <td>14.14</td>\n",
       "      <td>24.24</td>\n",
       "      <td>1971-1990</td>\n",
       "      <td>meublé</td>\n",
       "      <td>2</td>\n",
       "      <td>POLYGON ((2.38488 48.88663, 2.38483 48.88662, ...</td>\n",
       "      <td>5.379327</td>\n",
       "    </tr>\n",
       "    <tr>\n",
       "      <th>3</th>\n",
       "      <td>Amérique</td>\n",
       "      <td>75</td>\n",
       "      <td>24.0</td>\n",
       "      <td>16.80</td>\n",
       "      <td>28.80</td>\n",
       "      <td>1971-1990</td>\n",
       "      <td>meublé</td>\n",
       "      <td>1</td>\n",
       "      <td>POLYGON ((2.40940 48.88019, 2.40995 48.87952, ...</td>\n",
       "      <td>4.643892</td>\n",
       "    </tr>\n",
       "    <tr>\n",
       "      <th>4</th>\n",
       "      <td>Saint-Fargeau</td>\n",
       "      <td>78</td>\n",
       "      <td>29.4</td>\n",
       "      <td>20.58</td>\n",
       "      <td>35.28</td>\n",
       "      <td>Avant 1946</td>\n",
       "      <td>meublé</td>\n",
       "      <td>1</td>\n",
       "      <td>POLYGON ((2.41381 48.87081, 2.41383 48.87066, ...</td>\n",
       "      <td>4.643464</td>\n",
       "    </tr>\n",
       "  </tbody>\n",
       "</table>\n",
       "</div>"
      ],
      "text/plain": [
       "      nom_quartier  id_quartier   ref    min    max      epoque  meuble_txt  \\\n",
       "0       Belleville           77  21.4  14.98  25.68  Avant 1946  non meublé   \n",
       "1         Amérique           75  16.7  11.69  20.04   1971-1990  non meublé   \n",
       "2  Pont-de-Flandre           74  20.2  14.14  24.24   1971-1990      meublé   \n",
       "3         Amérique           75  24.0  16.80  28.80   1971-1990      meublé   \n",
       "4    Saint-Fargeau           78  29.4  20.58  35.28  Avant 1946      meublé   \n",
       "\n",
       "   piece                                           geometry  \\\n",
       "0      4  POLYGON ((2.38323 48.86710, 2.38314 48.86708, ...   \n",
       "1      3  POLYGON ((2.40940 48.88019, 2.40995 48.87952, ...   \n",
       "2      2  POLYGON ((2.38488 48.88663, 2.38483 48.88662, ...   \n",
       "3      1  POLYGON ((2.40940 48.88019, 2.40995 48.87952, ...   \n",
       "4      1  POLYGON ((2.41381 48.87081, 2.41383 48.87066, ...   \n",
       "\n",
       "   distance_centre_paris  \n",
       "0               3.485188  \n",
       "1               4.643892  \n",
       "2               5.379327  \n",
       "3               4.643892  \n",
       "4               4.643464  "
      ]
     },
     "execution_count": 11,
     "metadata": {},
     "output_type": "execute_result"
    }
   ],
   "source": [
    "donnees.head(5)"
   ]
  },
  {
   "cell_type": "markdown",
   "metadata": {},
   "source": [
    "- On ajoute également la superficie de chaque quartier dans la variable `superficie_quartier` (intuition : plus un quartier est petit plus l'offre de logements est restreinte et les biens sont valorisés) :"
   ]
  },
  {
   "cell_type": "code",
   "execution_count": 12,
   "metadata": {},
   "outputs": [],
   "source": [
    "# On ne conserve que les géométries, pour les passer dans le système espg 2154 :\n",
    "df3 = donnees.geometry\n",
    "df3 = df3.to_crs(epsg=2154)"
   ]
  },
  {
   "cell_type": "code",
   "execution_count": 13,
   "metadata": {},
   "outputs": [],
   "source": [
    "#Création de la nouvelle variable :\n",
    "donnees['superficie_quartier'] = df3.area.div(10**6)  #La division convertit les m² en km²"
   ]
  },
  {
   "cell_type": "code",
   "execution_count": 14,
   "metadata": {},
   "outputs": [
    {
     "data": {
      "text/html": [
       "<div>\n",
       "<style scoped>\n",
       "    .dataframe tbody tr th:only-of-type {\n",
       "        vertical-align: middle;\n",
       "    }\n",
       "\n",
       "    .dataframe tbody tr th {\n",
       "        vertical-align: top;\n",
       "    }\n",
       "\n",
       "    .dataframe thead th {\n",
       "        text-align: right;\n",
       "    }\n",
       "</style>\n",
       "<table border=\"1\" class=\"dataframe\">\n",
       "  <thead>\n",
       "    <tr style=\"text-align: right;\">\n",
       "      <th></th>\n",
       "      <th>nom_quartier</th>\n",
       "      <th>id_quartier</th>\n",
       "      <th>ref</th>\n",
       "      <th>min</th>\n",
       "      <th>max</th>\n",
       "      <th>epoque</th>\n",
       "      <th>meuble_txt</th>\n",
       "      <th>piece</th>\n",
       "      <th>geometry</th>\n",
       "      <th>distance_centre_paris</th>\n",
       "      <th>superficie_quartier</th>\n",
       "    </tr>\n",
       "  </thead>\n",
       "  <tbody>\n",
       "    <tr>\n",
       "      <th>0</th>\n",
       "      <td>Belleville</td>\n",
       "      <td>77</td>\n",
       "      <td>21.4</td>\n",
       "      <td>14.98</td>\n",
       "      <td>25.68</td>\n",
       "      <td>Avant 1946</td>\n",
       "      <td>non meublé</td>\n",
       "      <td>4</td>\n",
       "      <td>POLYGON ((2.38323 48.86710, 2.38314 48.86708, ...</td>\n",
       "      <td>3.485188</td>\n",
       "      <td>0.806569</td>\n",
       "    </tr>\n",
       "    <tr>\n",
       "      <th>1</th>\n",
       "      <td>Amérique</td>\n",
       "      <td>75</td>\n",
       "      <td>16.7</td>\n",
       "      <td>11.69</td>\n",
       "      <td>20.04</td>\n",
       "      <td>1971-1990</td>\n",
       "      <td>non meublé</td>\n",
       "      <td>3</td>\n",
       "      <td>POLYGON ((2.40940 48.88019, 2.40995 48.87952, ...</td>\n",
       "      <td>4.643892</td>\n",
       "      <td>1.835720</td>\n",
       "    </tr>\n",
       "    <tr>\n",
       "      <th>2</th>\n",
       "      <td>Pont-de-Flandre</td>\n",
       "      <td>74</td>\n",
       "      <td>20.2</td>\n",
       "      <td>14.14</td>\n",
       "      <td>24.24</td>\n",
       "      <td>1971-1990</td>\n",
       "      <td>meublé</td>\n",
       "      <td>2</td>\n",
       "      <td>POLYGON ((2.38488 48.88663, 2.38483 48.88662, ...</td>\n",
       "      <td>5.379327</td>\n",
       "      <td>2.376238</td>\n",
       "    </tr>\n",
       "    <tr>\n",
       "      <th>3</th>\n",
       "      <td>Amérique</td>\n",
       "      <td>75</td>\n",
       "      <td>24.0</td>\n",
       "      <td>16.80</td>\n",
       "      <td>28.80</td>\n",
       "      <td>1971-1990</td>\n",
       "      <td>meublé</td>\n",
       "      <td>1</td>\n",
       "      <td>POLYGON ((2.40940 48.88019, 2.40995 48.87952, ...</td>\n",
       "      <td>4.643892</td>\n",
       "      <td>1.835720</td>\n",
       "    </tr>\n",
       "    <tr>\n",
       "      <th>4</th>\n",
       "      <td>Saint-Fargeau</td>\n",
       "      <td>78</td>\n",
       "      <td>29.4</td>\n",
       "      <td>20.58</td>\n",
       "      <td>35.28</td>\n",
       "      <td>Avant 1946</td>\n",
       "      <td>meublé</td>\n",
       "      <td>1</td>\n",
       "      <td>POLYGON ((2.41381 48.87081, 2.41383 48.87066, ...</td>\n",
       "      <td>4.643464</td>\n",
       "      <td>1.486971</td>\n",
       "    </tr>\n",
       "  </tbody>\n",
       "</table>\n",
       "</div>"
      ],
      "text/plain": [
       "      nom_quartier  id_quartier   ref    min    max      epoque  meuble_txt  \\\n",
       "0       Belleville           77  21.4  14.98  25.68  Avant 1946  non meublé   \n",
       "1         Amérique           75  16.7  11.69  20.04   1971-1990  non meublé   \n",
       "2  Pont-de-Flandre           74  20.2  14.14  24.24   1971-1990      meublé   \n",
       "3         Amérique           75  24.0  16.80  28.80   1971-1990      meublé   \n",
       "4    Saint-Fargeau           78  29.4  20.58  35.28  Avant 1946      meublé   \n",
       "\n",
       "   piece                                           geometry  \\\n",
       "0      4  POLYGON ((2.38323 48.86710, 2.38314 48.86708, ...   \n",
       "1      3  POLYGON ((2.40940 48.88019, 2.40995 48.87952, ...   \n",
       "2      2  POLYGON ((2.38488 48.88663, 2.38483 48.88662, ...   \n",
       "3      1  POLYGON ((2.40940 48.88019, 2.40995 48.87952, ...   \n",
       "4      1  POLYGON ((2.41381 48.87081, 2.41383 48.87066, ...   \n",
       "\n",
       "   distance_centre_paris  superficie_quartier  \n",
       "0               3.485188             0.806569  \n",
       "1               4.643892             1.835720  \n",
       "2               5.379327             2.376238  \n",
       "3               4.643892             1.835720  \n",
       "4               4.643464             1.486971  "
      ]
     },
     "execution_count": 14,
     "metadata": {},
     "output_type": "execute_result"
    }
   ],
   "source": [
    "donnees.head(5)"
   ]
  },
  {
   "cell_type": "markdown",
   "metadata": {},
   "source": [
    "### 3. Enrichissement des données : création d'un score lié aux stations de métro et de rer des quartiers\n",
    "\n",
    "Pour enrichir ces données et mieux comprendre l'effet du quartier sur le loyer d'un logement, on ajoute une variable `score_metro` calculée de la manière suivante :\n",
    "   - on liste les lignes distinctes de métro et de rer qui passent dans chaque quartier\n",
    "   - on attribue un score à chaque ligne, qui correspond à sa fréquentation annuelle \n",
    "   - on somme pour chaque quartier les scores de ses lignes de métro/rer\n",
    "   - Le score d'un quartier correspond alors à cette somme, divisée par la plus grande valeur attribuée à un quartier\n",
    "\n",
    "De cette manière, on obtient un score compris entre 0 et 1 pour chaque quartier.    \n",
    "\n",
    "Pour créer ce score, on récupère la liste des stations de métro et de rer de Paris, ainsi que leurs positions géographiques et leurs lignes desservies. Ces données sont récupérées sur Wikipédia par web-scraping. Pour chaque station, on récupère son nom et on se rend sur sa page Wikipédia pour récupérer ses coordonnées géographiques. Cette station est dupliquée pour chaque ligne de métro qu'elle dessert. \n",
    "\n",
    "*Les liens utilisés sont les suivants :*\n",
    "- *Pour le métro : https://fr.wikipedia.org/wiki/Liste_des_stations_du_m%C3%A9tro_de_Paris*\n",
    "- *Pour le rer : https://fr.wikipedia.org/wiki/Liste_des_gares_du_RER_d%27%C3%8Ele-de-France*"
   ]
  },
  {
   "cell_type": "code",
   "execution_count": 15,
   "metadata": {},
   "outputs": [],
   "source": [
    "# Fonction pour transformer les coordonnées récoltées (sous format DMS nord-est) en format DD :\n",
    "\n",
    "dd = lambda d,m,s : float(d) + float(m)/60 + float(s)/(60*60)\n",
    "def dms_to_dd (dms):\n",
    "    parts = re.split('[^\\d\\w]+', dms)\n",
    "    lat = dd(parts[0], parts[1], parts[2])\n",
    "    lng = dd(parts[4], parts[5], parts[6])\n",
    "    return (lat, lng)"
   ]
  },
  {
   "cell_type": "code",
   "execution_count": 16,
   "metadata": {
    "scrolled": true
   },
   "outputs": [],
   "source": [
    "#Création de la base de données des stations de métro et de rer par web scraping : \n",
    "\n",
    "nom = []\n",
    "ligne = [] \n",
    "latitude = []\n",
    "longitude = []\n",
    "\n",
    "urls = ['https://fr.wikipedia.org/wiki/Liste_des_stations_du_m%C3%A9tro_de_Paris','https://fr.wikipedia.org/wiki/Liste_des_gares_du_RER_d%27%C3%8Ele-de-France']\n",
    "\n",
    "for url in urls : \n",
    "\n",
    "    sock = urllib.request.urlopen(url).read() \n",
    "    page=bs4.BeautifulSoup(sock)\n",
    "\n",
    "    liste_stations = page.find('table').findAll('tr')\n",
    "    \n",
    "    for station in liste_stations[1:] :\n",
    "    \n",
    "        #Nom de la station :    \n",
    "        nom_station = station.find('a').text\n",
    "    \n",
    "        #Coordonnées géographiques de la station :\n",
    "        url_station = \"http://fr.wikipedia.org\"+station.find('a').get('href')\n",
    "    \n",
    "        search = urllib.request.urlopen(url_station).read()\n",
    "        search_station=bs4.BeautifulSoup(search)\n",
    "    \n",
    "        coord = search_station.find('a',{'class': \"mw-kartographer-maplink\"}).text\n",
    "        lat,lng = dms_to_dd(coord)\n",
    "    \n",
    "        #Lignes desservies par la station :    \n",
    "        lignes = station.find('span',{'style' : \"white-space:nowrap\"}).findAll('span')\n",
    "    \n",
    "        for l in lignes : \n",
    "            nom.append(nom_station)\n",
    "            ligne.append(l.get('data-sort-value'))\n",
    "            latitude.append(lat)\n",
    "            longitude.append(lng)\n",
    "            \n",
    "stations = gpd.GeoDataFrame(pd.DataFrame({'nom' : nom, 'ligne' : ligne}),geometry=gpd.points_from_xy(longitude, latitude))"
   ]
  },
  {
   "cell_type": "code",
   "execution_count": 17,
   "metadata": {},
   "outputs": [
    {
     "data": {
      "text/html": [
       "<div>\n",
       "<style scoped>\n",
       "    .dataframe tbody tr th:only-of-type {\n",
       "        vertical-align: middle;\n",
       "    }\n",
       "\n",
       "    .dataframe tbody tr th {\n",
       "        vertical-align: top;\n",
       "    }\n",
       "\n",
       "    .dataframe thead th {\n",
       "        text-align: right;\n",
       "    }\n",
       "</style>\n",
       "<table border=\"1\" class=\"dataframe\">\n",
       "  <thead>\n",
       "    <tr style=\"text-align: right;\">\n",
       "      <th></th>\n",
       "      <th>nom</th>\n",
       "      <th>ligne</th>\n",
       "      <th>geometry</th>\n",
       "    </tr>\n",
       "  </thead>\n",
       "  <tbody>\n",
       "    <tr>\n",
       "      <th>0</th>\n",
       "      <td>Abbesses</td>\n",
       "      <td>12 !</td>\n",
       "      <td>POINT (2.33861 48.88444)</td>\n",
       "    </tr>\n",
       "    <tr>\n",
       "      <th>1</th>\n",
       "      <td>Alésia</td>\n",
       "      <td>04 !</td>\n",
       "      <td>POINT (2.32667 48.82833)</td>\n",
       "    </tr>\n",
       "    <tr>\n",
       "      <th>2</th>\n",
       "      <td>Alexandre Dumas</td>\n",
       "      <td>02 !</td>\n",
       "      <td>POINT (2.39500 48.85611)</td>\n",
       "    </tr>\n",
       "    <tr>\n",
       "      <th>3</th>\n",
       "      <td>Alma - Marceau</td>\n",
       "      <td>09 !</td>\n",
       "      <td>POINT (2.30028 48.86500)</td>\n",
       "    </tr>\n",
       "    <tr>\n",
       "      <th>4</th>\n",
       "      <td>Anatole France</td>\n",
       "      <td>03 !</td>\n",
       "      <td>POINT (2.28556 48.89194)</td>\n",
       "    </tr>\n",
       "  </tbody>\n",
       "</table>\n",
       "</div>"
      ],
      "text/plain": [
       "               nom ligne                  geometry\n",
       "0         Abbesses  12 !  POINT (2.33861 48.88444)\n",
       "1           Alésia  04 !  POINT (2.32667 48.82833)\n",
       "2  Alexandre Dumas  02 !  POINT (2.39500 48.85611)\n",
       "3   Alma - Marceau  09 !  POINT (2.30028 48.86500)\n",
       "4   Anatole France  03 !  POINT (2.28556 48.89194)"
      ]
     },
     "execution_count": 17,
     "metadata": {},
     "output_type": "execute_result"
    }
   ],
   "source": [
    "stations.head(5)"
   ]
  },
  {
   "cell_type": "markdown",
   "metadata": {},
   "source": [
    "On récupère ensuite une base de données de la mairie de Paris contenant la liste de ses quartiers administratifs et leur représentation graphique :"
   ]
  },
  {
   "cell_type": "code",
   "execution_count": 18,
   "metadata": {},
   "outputs": [],
   "source": [
    "quartiers_bruts = gpd.read_file('https://parisdata.opendatasoft.com/explore/dataset/quartier_paris/download/?format=geojson&timezone=Europe/Berlin&lang=fr')\n",
    "quartiers = quartiers_bruts[['l_qu','c_qu','geometry']]  #l_qu : nom du quartier ; c_qu : numéro du quartier"
   ]
  },
  {
   "cell_type": "code",
   "execution_count": 19,
   "metadata": {},
   "outputs": [
    {
     "data": {
      "text/html": [
       "<div>\n",
       "<style scoped>\n",
       "    .dataframe tbody tr th:only-of-type {\n",
       "        vertical-align: middle;\n",
       "    }\n",
       "\n",
       "    .dataframe tbody tr th {\n",
       "        vertical-align: top;\n",
       "    }\n",
       "\n",
       "    .dataframe thead th {\n",
       "        text-align: right;\n",
       "    }\n",
       "</style>\n",
       "<table border=\"1\" class=\"dataframe\">\n",
       "  <thead>\n",
       "    <tr style=\"text-align: right;\">\n",
       "      <th></th>\n",
       "      <th>l_qu</th>\n",
       "      <th>c_qu</th>\n",
       "      <th>geometry</th>\n",
       "    </tr>\n",
       "  </thead>\n",
       "  <tbody>\n",
       "    <tr>\n",
       "      <th>0</th>\n",
       "      <td>Arsenal</td>\n",
       "      <td>15</td>\n",
       "      <td>POLYGON ((2.36851 48.85573, 2.36900 48.85374, ...</td>\n",
       "    </tr>\n",
       "    <tr>\n",
       "      <th>1</th>\n",
       "      <td>Jardin-des-Plantes</td>\n",
       "      <td>18</td>\n",
       "      <td>POLYGON ((2.36456 48.84366, 2.36450 48.84358, ...</td>\n",
       "    </tr>\n",
       "    <tr>\n",
       "      <th>2</th>\n",
       "      <td>Porte-Saint-Martin</td>\n",
       "      <td>39</td>\n",
       "      <td>POLYGON ((2.36392 48.86754, 2.36383 48.86750, ...</td>\n",
       "    </tr>\n",
       "    <tr>\n",
       "      <th>3</th>\n",
       "      <td>Roquette</td>\n",
       "      <td>43</td>\n",
       "      <td>POLYGON ((2.37972 48.85344, 2.37937 48.85339, ...</td>\n",
       "    </tr>\n",
       "    <tr>\n",
       "      <th>4</th>\n",
       "      <td>Picpus</td>\n",
       "      <td>46</td>\n",
       "      <td>POLYGON ((2.41125 48.82966, 2.41195 48.82934, ...</td>\n",
       "    </tr>\n",
       "  </tbody>\n",
       "</table>\n",
       "</div>"
      ],
      "text/plain": [
       "                 l_qu  c_qu                                           geometry\n",
       "0             Arsenal    15  POLYGON ((2.36851 48.85573, 2.36900 48.85374, ...\n",
       "1  Jardin-des-Plantes    18  POLYGON ((2.36456 48.84366, 2.36450 48.84358, ...\n",
       "2  Porte-Saint-Martin    39  POLYGON ((2.36392 48.86754, 2.36383 48.86750, ...\n",
       "3            Roquette    43  POLYGON ((2.37972 48.85344, 2.37937 48.85339, ...\n",
       "4              Picpus    46  POLYGON ((2.41125 48.82966, 2.41195 48.82934, ..."
      ]
     },
     "execution_count": 19,
     "metadata": {},
     "output_type": "execute_result"
    }
   ],
   "source": [
    "quartiers.head(5)"
   ]
  },
  {
   "cell_type": "markdown",
   "metadata": {},
   "source": [
    "On associe ensuite à chaque station le quartier auquel elle appartient :"
   ]
  },
  {
   "cell_type": "code",
   "execution_count": 20,
   "metadata": {},
   "outputs": [
    {
     "name": "stderr",
     "output_type": "stream",
     "text": [
      "C:\\Users\\blasc\\Anaconda3\\lib\\site-packages\\geopandas\\tools\\sjoin.py:58: UserWarning: CRS of frames being joined does not match!(None != {'init': 'epsg:4326'})\n",
      "  warn(\n"
     ]
    }
   ],
   "source": [
    "stations_quartiers = gpd.sjoin(stations, quartiers, op='intersects')\n"
   ]
  },
  {
   "cell_type": "markdown",
   "metadata": {},
   "source": [
    "Il ne reste plus qu'à supprimer les doublons pour savoir quelles lignes de métro ou rer passent dans chaque quartier de Paris. "
   ]
  },
  {
   "cell_type": "code",
   "execution_count": 21,
   "metadata": {},
   "outputs": [],
   "source": [
    "lignes_quartiers = stations_quartiers[['c_qu','ligne']].drop_duplicates()"
   ]
  },
  {
   "cell_type": "code",
   "execution_count": 24,
   "metadata": {},
   "outputs": [
    {
     "data": {
      "text/html": [
       "<div>\n",
       "<style scoped>\n",
       "    .dataframe tbody tr th:only-of-type {\n",
       "        vertical-align: middle;\n",
       "    }\n",
       "\n",
       "    .dataframe tbody tr th {\n",
       "        vertical-align: top;\n",
       "    }\n",
       "\n",
       "    .dataframe thead th {\n",
       "        text-align: right;\n",
       "    }\n",
       "</style>\n",
       "<table border=\"1\" class=\"dataframe\">\n",
       "  <thead>\n",
       "    <tr style=\"text-align: right;\">\n",
       "      <th></th>\n",
       "      <th>c_qu</th>\n",
       "      <th>ligne</th>\n",
       "    </tr>\n",
       "  </thead>\n",
       "  <tbody>\n",
       "    <tr>\n",
       "      <th>346</th>\n",
       "      <td>11</td>\n",
       "      <td>08 !</td>\n",
       "    </tr>\n",
       "    <tr>\n",
       "      <th>349</th>\n",
       "      <td>7</td>\n",
       "      <td>03 !</td>\n",
       "    </tr>\n",
       "    <tr>\n",
       "      <th>361</th>\n",
       "      <td>15</td>\n",
       "      <td>07 !</td>\n",
       "    </tr>\n",
       "    <tr>\n",
       "      <th>369</th>\n",
       "      <td>4</td>\n",
       "      <td>01 !</td>\n",
       "    </tr>\n",
       "    <tr>\n",
       "      <th>453</th>\n",
       "      <td>19</td>\n",
       "      <td>B !</td>\n",
       "    </tr>\n",
       "  </tbody>\n",
       "</table>\n",
       "</div>"
      ],
      "text/plain": [
       "     c_qu ligne\n",
       "346    11  08 !\n",
       "349     7  03 !\n",
       "361    15  07 !\n",
       "369     4  01 !\n",
       "453    19   B !"
      ]
     },
     "execution_count": 24,
     "metadata": {},
     "output_type": "execute_result"
    }
   ],
   "source": [
    "lignes_quartiers.tail(5)"
   ]
  },
  {
   "cell_type": "markdown",
   "metadata": {},
   "source": [
    "Ensuite, on réalise un nouveau web scraping sur Wikipédia pour attribuer un score à chaque ligne : on va lister chaque ligne et sa fréquentation annuelle, divisée par la fréquentation annuelle la plus élevée."
   ]
  },
  {
   "cell_type": "code",
   "execution_count": 25,
   "metadata": {},
   "outputs": [],
   "source": [
    "#Pour le rer, il faut aller sur chaque page Wikipédia de la ligne. Pour aller plus vite, on le fait manuellement (il n'y a que 5 lignes) :\n",
    "\n",
    "lignes = ['A !','B !','C !','D !','E !']\n",
    "frequentation = [309.36,165.5,140,145,60] \n",
    "\n",
    "\n",
    "#Pour le métro, il existe directement un classement sur Wikipédia :\n",
    "\n",
    "sock = urllib.request.urlopen(\"https://fr.wikipedia.org/wiki/Liste_des_lignes_de_m%C3%A9tro_parisiennes_par_fr%C3%A9quentation\").read() \n",
    "page=bs4.BeautifulSoup(sock)\n",
    "\n",
    "liste_lignes = page.find('table').findAll('tr')\n",
    "\n",
    "for ligne in liste_lignes[1:] :\n",
    "    \n",
    "    freq = ligne.find('bdi')\n",
    "    \n",
    "    for sous_ligne in ligne.findAll('span') :\n",
    "        lignes.append(sous_ligne.get('data-sort-value'))\n",
    "        frequentation.append(float(freq.text.replace(',','.')))\n",
    "        \n",
    "lignes_freq = pd.DataFrame({'ligne' : lignes,'fréquentation' : frequentation})"
   ]
  },
  {
   "cell_type": "code",
   "execution_count": 26,
   "metadata": {},
   "outputs": [
    {
     "data": {
      "text/html": [
       "<div>\n",
       "<style scoped>\n",
       "    .dataframe tbody tr th:only-of-type {\n",
       "        vertical-align: middle;\n",
       "    }\n",
       "\n",
       "    .dataframe tbody tr th {\n",
       "        vertical-align: top;\n",
       "    }\n",
       "\n",
       "    .dataframe thead th {\n",
       "        text-align: right;\n",
       "    }\n",
       "</style>\n",
       "<table border=\"1\" class=\"dataframe\">\n",
       "  <thead>\n",
       "    <tr style=\"text-align: right;\">\n",
       "      <th></th>\n",
       "      <th>ligne</th>\n",
       "      <th>fréquentation</th>\n",
       "    </tr>\n",
       "  </thead>\n",
       "  <tbody>\n",
       "    <tr>\n",
       "      <th>0</th>\n",
       "      <td>A !</td>\n",
       "      <td>309.36</td>\n",
       "    </tr>\n",
       "    <tr>\n",
       "      <th>1</th>\n",
       "      <td>B !</td>\n",
       "      <td>165.50</td>\n",
       "    </tr>\n",
       "    <tr>\n",
       "      <th>2</th>\n",
       "      <td>C !</td>\n",
       "      <td>140.00</td>\n",
       "    </tr>\n",
       "    <tr>\n",
       "      <th>3</th>\n",
       "      <td>D !</td>\n",
       "      <td>145.00</td>\n",
       "    </tr>\n",
       "    <tr>\n",
       "      <th>4</th>\n",
       "      <td>E !</td>\n",
       "      <td>60.00</td>\n",
       "    </tr>\n",
       "  </tbody>\n",
       "</table>\n",
       "</div>"
      ],
      "text/plain": [
       "  ligne  fréquentation\n",
       "0   A !         309.36\n",
       "1   B !         165.50\n",
       "2   C !         140.00\n",
       "3   D !         145.00\n",
       "4   E !          60.00"
      ]
     },
     "execution_count": 26,
     "metadata": {},
     "output_type": "execute_result"
    }
   ],
   "source": [
    "lignes_freq.head(5)"
   ]
  },
  {
   "cell_type": "code",
   "execution_count": 27,
   "metadata": {},
   "outputs": [],
   "source": [
    "# Ajout du score des lignes pour chaque quartier : \n",
    "\n",
    "lignes_quartiers_freq = lignes_quartiers.merge(lignes_freq, on='ligne')"
   ]
  },
  {
   "cell_type": "code",
   "execution_count": 28,
   "metadata": {
    "scrolled": true
   },
   "outputs": [],
   "source": [
    "#Création du score des quartiers : \n",
    "\n",
    "quartiers_freq = lignes_quartiers_freq[['c_qu','fréquentation']].groupby('c_qu').sum()\n",
    "\n",
    "m = max(quartiers_freq['fréquentation'])\n",
    "\n",
    "quartiers_freq['fréquentation'] = quartiers_freq['fréquentation']/m"
   ]
  },
  {
   "cell_type": "markdown",
   "metadata": {},
   "source": [
    "Pour finir, on ajoute le score obtenu à notre base de données :"
   ]
  },
  {
   "cell_type": "code",
   "execution_count": 29,
   "metadata": {},
   "outputs": [],
   "source": [
    "donnees_augmentees = donnees.join(quartiers_freq, on='id_quartier')\n",
    "donnees_augmentees.rename(columns={'fréquentation': 'score_metro'}, inplace=True)"
   ]
  },
  {
   "cell_type": "code",
   "execution_count": 30,
   "metadata": {
    "scrolled": false
   },
   "outputs": [
    {
     "data": {
      "text/html": [
       "<div>\n",
       "<style scoped>\n",
       "    .dataframe tbody tr th:only-of-type {\n",
       "        vertical-align: middle;\n",
       "    }\n",
       "\n",
       "    .dataframe tbody tr th {\n",
       "        vertical-align: top;\n",
       "    }\n",
       "\n",
       "    .dataframe thead th {\n",
       "        text-align: right;\n",
       "    }\n",
       "</style>\n",
       "<table border=\"1\" class=\"dataframe\">\n",
       "  <thead>\n",
       "    <tr style=\"text-align: right;\">\n",
       "      <th></th>\n",
       "      <th>nom_quartier</th>\n",
       "      <th>id_quartier</th>\n",
       "      <th>ref</th>\n",
       "      <th>min</th>\n",
       "      <th>max</th>\n",
       "      <th>epoque</th>\n",
       "      <th>meuble_txt</th>\n",
       "      <th>piece</th>\n",
       "      <th>geometry</th>\n",
       "      <th>distance_centre_paris</th>\n",
       "      <th>superficie_quartier</th>\n",
       "      <th>score_metro</th>\n",
       "    </tr>\n",
       "  </thead>\n",
       "  <tbody>\n",
       "    <tr>\n",
       "      <th>0</th>\n",
       "      <td>Belleville</td>\n",
       "      <td>77</td>\n",
       "      <td>21.4</td>\n",
       "      <td>14.98</td>\n",
       "      <td>25.68</td>\n",
       "      <td>Avant 1946</td>\n",
       "      <td>non meublé</td>\n",
       "      <td>4</td>\n",
       "      <td>POLYGON ((2.38323 48.86710, 2.38314 48.86708, ...</td>\n",
       "      <td>3.485188</td>\n",
       "      <td>0.806569</td>\n",
       "      <td>0.038651</td>\n",
       "    </tr>\n",
       "    <tr>\n",
       "      <th>1</th>\n",
       "      <td>Amérique</td>\n",
       "      <td>75</td>\n",
       "      <td>16.7</td>\n",
       "      <td>11.69</td>\n",
       "      <td>20.04</td>\n",
       "      <td>1971-1990</td>\n",
       "      <td>non meublé</td>\n",
       "      <td>3</td>\n",
       "      <td>POLYGON ((2.40940 48.88019, 2.40995 48.87952, ...</td>\n",
       "      <td>4.643892</td>\n",
       "      <td>1.835720</td>\n",
       "      <td>0.369742</td>\n",
       "    </tr>\n",
       "    <tr>\n",
       "      <th>2</th>\n",
       "      <td>Pont-de-Flandre</td>\n",
       "      <td>74</td>\n",
       "      <td>20.2</td>\n",
       "      <td>14.14</td>\n",
       "      <td>24.24</td>\n",
       "      <td>1971-1990</td>\n",
       "      <td>meublé</td>\n",
       "      <td>2</td>\n",
       "      <td>POLYGON ((2.38488 48.88663, 2.38483 48.88662, ...</td>\n",
       "      <td>5.379327</td>\n",
       "      <td>2.376238</td>\n",
       "      <td>0.298062</td>\n",
       "    </tr>\n",
       "    <tr>\n",
       "      <th>3</th>\n",
       "      <td>Amérique</td>\n",
       "      <td>75</td>\n",
       "      <td>24.0</td>\n",
       "      <td>16.80</td>\n",
       "      <td>28.80</td>\n",
       "      <td>1971-1990</td>\n",
       "      <td>meublé</td>\n",
       "      <td>1</td>\n",
       "      <td>POLYGON ((2.40940 48.88019, 2.40995 48.87952, ...</td>\n",
       "      <td>4.643892</td>\n",
       "      <td>1.835720</td>\n",
       "      <td>0.369742</td>\n",
       "    </tr>\n",
       "    <tr>\n",
       "      <th>4</th>\n",
       "      <td>Saint-Fargeau</td>\n",
       "      <td>78</td>\n",
       "      <td>29.4</td>\n",
       "      <td>20.58</td>\n",
       "      <td>35.28</td>\n",
       "      <td>Avant 1946</td>\n",
       "      <td>meublé</td>\n",
       "      <td>1</td>\n",
       "      <td>POLYGON ((2.41381 48.87081, 2.41383 48.87066, ...</td>\n",
       "      <td>4.643464</td>\n",
       "      <td>1.486971</td>\n",
       "      <td>0.186527</td>\n",
       "    </tr>\n",
       "  </tbody>\n",
       "</table>\n",
       "</div>"
      ],
      "text/plain": [
       "      nom_quartier  id_quartier   ref    min    max      epoque  meuble_txt  \\\n",
       "0       Belleville           77  21.4  14.98  25.68  Avant 1946  non meublé   \n",
       "1         Amérique           75  16.7  11.69  20.04   1971-1990  non meublé   \n",
       "2  Pont-de-Flandre           74  20.2  14.14  24.24   1971-1990      meublé   \n",
       "3         Amérique           75  24.0  16.80  28.80   1971-1990      meublé   \n",
       "4    Saint-Fargeau           78  29.4  20.58  35.28  Avant 1946      meublé   \n",
       "\n",
       "   piece                                           geometry  \\\n",
       "0      4  POLYGON ((2.38323 48.86710, 2.38314 48.86708, ...   \n",
       "1      3  POLYGON ((2.40940 48.88019, 2.40995 48.87952, ...   \n",
       "2      2  POLYGON ((2.38488 48.88663, 2.38483 48.88662, ...   \n",
       "3      1  POLYGON ((2.40940 48.88019, 2.40995 48.87952, ...   \n",
       "4      1  POLYGON ((2.41381 48.87081, 2.41383 48.87066, ...   \n",
       "\n",
       "   distance_centre_paris  superficie_quartier  score_metro  \n",
       "0               3.485188             0.806569     0.038651  \n",
       "1               4.643892             1.835720     0.369742  \n",
       "2               5.379327             2.376238     0.298062  \n",
       "3               4.643892             1.835720     0.369742  \n",
       "4               4.643464             1.486971     0.186527  "
      ]
     },
     "execution_count": 30,
     "metadata": {},
     "output_type": "execute_result"
    }
   ],
   "source": [
    "donnees_augmentees.head(5)"
   ]
  },
  {
   "cell_type": "markdown",
   "metadata": {},
   "source": [
    "### Eventuelles limites de ce score : \n",
    "\n",
    "On a ici créer par nous mêmes un score pour chaque quartier, d'autant plus élévé que les lignes de métro et rer qui passent dans un quartier sont nombreuses et importantes en termes de fréquentation.\n",
    "\n",
    "Cependant, il convient de noter les éventuelles limites de ce score : \n",
    "- on ne prend pas en compte les stations de vélib et les autres types de transports\n",
    "- les quartiers ont des tailles très diverses : les grands quartiers aux extrémités ouest et est de Paris ne sont donc pas forcément très bien représentés en termes de transports via seulement le métro et le rer. On constate sur le graphique suivant qu'une majorité de la superficie de ces quartiers n'est pas désservie par le métro ou le rer.\n",
    "- on ne regarde ici que les lignes qui passent dans un quartier. Mais, pour les petits quartiers du centre de Paris par exemple, il est très facile d'accéder sans trop de temps aux stations des quartiers voisins. Pour les plus grand quartiers, si l'on habite proche des frontières on peut par exemple préférer les stations du quartier d'à côté, plus proches, que les stations à l'autre bout de son propre quartier. "
   ]
  },
  {
   "cell_type": "code",
   "execution_count": 37,
   "metadata": {},
   "outputs": [
    {
     "data": {
      "text/html": [
       "<div>\n",
       "<style scoped>\n",
       "    .dataframe tbody tr th:only-of-type {\n",
       "        vertical-align: middle;\n",
       "    }\n",
       "\n",
       "    .dataframe tbody tr th {\n",
       "        vertical-align: top;\n",
       "    }\n",
       "\n",
       "    .dataframe thead th {\n",
       "        text-align: right;\n",
       "    }\n",
       "</style>\n",
       "<table border=\"1\" class=\"dataframe\">\n",
       "  <thead>\n",
       "    <tr style=\"text-align: right;\">\n",
       "      <th></th>\n",
       "      <th>l_qu</th>\n",
       "      <th>c_qu</th>\n",
       "      <th>geometry</th>\n",
       "    </tr>\n",
       "  </thead>\n",
       "  <tbody>\n",
       "    <tr>\n",
       "      <th>0</th>\n",
       "      <td>Arsenal</td>\n",
       "      <td>15</td>\n",
       "      <td>POLYGON ((2.36851 48.85573, 2.36900 48.85374, ...</td>\n",
       "    </tr>\n",
       "    <tr>\n",
       "      <th>1</th>\n",
       "      <td>Jardin-des-Plantes</td>\n",
       "      <td>18</td>\n",
       "      <td>POLYGON ((2.36456 48.84366, 2.36450 48.84358, ...</td>\n",
       "    </tr>\n",
       "    <tr>\n",
       "      <th>2</th>\n",
       "      <td>Porte-Saint-Martin</td>\n",
       "      <td>39</td>\n",
       "      <td>POLYGON ((2.36392 48.86754, 2.36383 48.86750, ...</td>\n",
       "    </tr>\n",
       "    <tr>\n",
       "      <th>3</th>\n",
       "      <td>Roquette</td>\n",
       "      <td>43</td>\n",
       "      <td>POLYGON ((2.37972 48.85344, 2.37937 48.85339, ...</td>\n",
       "    </tr>\n",
       "    <tr>\n",
       "      <th>4</th>\n",
       "      <td>Picpus</td>\n",
       "      <td>46</td>\n",
       "      <td>POLYGON ((2.41125 48.82966, 2.41195 48.82934, ...</td>\n",
       "    </tr>\n",
       "  </tbody>\n",
       "</table>\n",
       "</div>"
      ],
      "text/plain": [
       "                 l_qu  c_qu                                           geometry\n",
       "0             Arsenal    15  POLYGON ((2.36851 48.85573, 2.36900 48.85374, ...\n",
       "1  Jardin-des-Plantes    18  POLYGON ((2.36456 48.84366, 2.36450 48.84358, ...\n",
       "2  Porte-Saint-Martin    39  POLYGON ((2.36392 48.86754, 2.36383 48.86750, ...\n",
       "3            Roquette    43  POLYGON ((2.37972 48.85344, 2.37937 48.85339, ...\n",
       "4              Picpus    46  POLYGON ((2.41125 48.82966, 2.41195 48.82934, ..."
      ]
     },
     "execution_count": 37,
     "metadata": {},
     "output_type": "execute_result"
    }
   ],
   "source": [
    "quartiers.head()"
   ]
  },
  {
   "cell_type": "code",
   "execution_count": 42,
   "metadata": {},
   "outputs": [
    {
     "data": {
      "image/png": "[encoded data removed]",
      "text/plain": [
       "<Figure size 720x720 with 1 Axes>"
      ]
     },
     "metadata": {
      "needs_background": "light"
     },
     "output_type": "display_data"
    }
   ],
   "source": [
    "axi = stations_quartiers.plot(figsize = (10,10), color = 'red', alpha = 0.4, zorder=2)\n",
    "quartiers.plot(ax = axi, zorder=1, edgecolor = \"black\", facecolor=\"none\",\n",
    "                                                           color = None)\n",
    "quartiers[quartiers['c_qu'].isin([10,52])].plot(ax=axi,alpha = 0.6,color='blue')\n",
    "plt.title(\"Stations de rer et de métro considérées pour réaliser le score des quartiers parisiens\")\n",
    "plt.show()"
   ]
  },
  {
   "cell_type": "markdown",
   "metadata": {},
   "source": [
    "On remarque de plus que certaines stations de métro et rer sont situées sur les limites ou proches des limites des quartiers, et ne sont donc prises en compte que pour un seul quartier. Certains quartiers se retrouvent alors sans score :"
   ]
  },
  {
   "cell_type": "code",
   "execution_count": 35,
   "metadata": {},
   "outputs": [
    {
     "data": {
      "text/html": [
       "<div>\n",
       "<style scoped>\n",
       "    .dataframe tbody tr th:only-of-type {\n",
       "        vertical-align: middle;\n",
       "    }\n",
       "\n",
       "    .dataframe tbody tr th {\n",
       "        vertical-align: top;\n",
       "    }\n",
       "\n",
       "    .dataframe thead th {\n",
       "        text-align: right;\n",
       "    }\n",
       "</style>\n",
       "<table border=\"1\" class=\"dataframe\">\n",
       "  <thead>\n",
       "    <tr style=\"text-align: right;\">\n",
       "      <th></th>\n",
       "      <th>nom_quartier</th>\n",
       "      <th>id_quartier</th>\n",
       "      <th>score_metro</th>\n",
       "    </tr>\n",
       "  </thead>\n",
       "  <tbody>\n",
       "    <tr>\n",
       "      <th>23</th>\n",
       "      <td>Enfants-Rouges</td>\n",
       "      <td>10</td>\n",
       "      <td>NaN</td>\n",
       "    </tr>\n",
       "    <tr>\n",
       "      <th>206</th>\n",
       "      <td>Croulebarbe</td>\n",
       "      <td>52</td>\n",
       "      <td>NaN</td>\n",
       "    </tr>\n",
       "  </tbody>\n",
       "</table>\n",
       "</div>"
      ],
      "text/plain": [
       "       nom_quartier  id_quartier  score_metro\n",
       "23   Enfants-Rouges           10          NaN\n",
       "206     Croulebarbe           52          NaN"
      ]
     },
     "execution_count": 35,
     "metadata": {},
     "output_type": "execute_result"
    }
   ],
   "source": [
    "donnees_augmentees[['nom_quartier','id_quartier','score_metro']][donnees_augmentees.isnull().any(axis=1)].drop_duplicates()"
   ]
  },
  {
   "cell_type": "markdown",
   "metadata": {},
   "source": [
    "Les quartiers sans scores sont les quartiers représentés en bleu sur la carte précédente : Enfants-Rouges (10) et Croulebarbe (52). On remarque qu'ils n'ont pas de score car les stations de métro sont situées au niveau de leurs limites... Il ne serait donc pas cohérent de leur mettre un score nul d'office... \n",
    "\n",
    "Les quartiers mal représentés par ce score car mal desservis par le métro et le rer sont les trois grands quartiers à l'ouest : Auteuil (61), Muette (62), Porte-Dauphine (63) ; et les deux grands quartiers à l'est : Pictus (46) et Bel-Air (45)."
   ]
  },
  {
   "cell_type": "markdown",
   "metadata": {},
   "source": [
    "## Partie 2 - Analyse descriptive et représentation graphique\n",
    "*Les lignes de code qui suivent peuvent être trouvées dans le dossier `visualization` du dépôt git*"
   ]
  },
  {
   "cell_type": "code",
   "execution_count": 45,
   "metadata": {
    "scrolled": true,
    "tags": []
   },
   "outputs": [
    {
     "data": {
      "text/html": [
       "<div>\n",
       "<style scoped>\n",
       "    .dataframe tbody tr th:only-of-type {\n",
       "        vertical-align: middle;\n",
       "    }\n",
       "\n",
       "    .dataframe tbody tr th {\n",
       "        vertical-align: top;\n",
       "    }\n",
       "\n",
       "    .dataframe thead th {\n",
       "        text-align: right;\n",
       "    }\n",
       "</style>\n",
       "<table border=\"1\" class=\"dataframe\">\n",
       "  <thead>\n",
       "    <tr style=\"text-align: right;\">\n",
       "      <th></th>\n",
       "      <th></th>\n",
       "      <th></th>\n",
       "      <th>id_quartier</th>\n",
       "      <th>ref</th>\n",
       "      <th>min</th>\n",
       "      <th>max</th>\n",
       "      <th>piece</th>\n",
       "      <th>distance_centre_paris</th>\n",
       "      <th>superficie_quartier</th>\n",
       "      <th>score_metro</th>\n",
       "    </tr>\n",
       "    <tr>\n",
       "      <th>nom_quartier</th>\n",
       "      <th>meuble_txt</th>\n",
       "      <th>epoque</th>\n",
       "      <th></th>\n",
       "      <th></th>\n",
       "      <th></th>\n",
       "      <th></th>\n",
       "      <th></th>\n",
       "      <th></th>\n",
       "      <th></th>\n",
       "      <th></th>\n",
       "    </tr>\n",
       "  </thead>\n",
       "  <tbody>\n",
       "    <tr>\n",
       "      <th rowspan=\"5\" valign=\"top\">Amérique</th>\n",
       "      <th rowspan=\"4\" valign=\"top\">meublé</th>\n",
       "      <th>1946-1970</th>\n",
       "      <td>75.0</td>\n",
       "      <td>20.650</td>\n",
       "      <td>14.4550</td>\n",
       "      <td>24.78</td>\n",
       "      <td>2.5</td>\n",
       "      <td>4.643892</td>\n",
       "      <td>1.83572</td>\n",
       "      <td>0.369742</td>\n",
       "    </tr>\n",
       "    <tr>\n",
       "      <th>1971-1990</th>\n",
       "      <td>75.0</td>\n",
       "      <td>20.025</td>\n",
       "      <td>14.0175</td>\n",
       "      <td>24.03</td>\n",
       "      <td>2.5</td>\n",
       "      <td>4.643892</td>\n",
       "      <td>1.83572</td>\n",
       "      <td>0.369742</td>\n",
       "    </tr>\n",
       "    <tr>\n",
       "      <th>Apres 1990</th>\n",
       "      <td>75.0</td>\n",
       "      <td>22.150</td>\n",
       "      <td>15.5050</td>\n",
       "      <td>26.58</td>\n",
       "      <td>2.5</td>\n",
       "      <td>4.643892</td>\n",
       "      <td>1.83572</td>\n",
       "      <td>0.369742</td>\n",
       "    </tr>\n",
       "    <tr>\n",
       "      <th>Avant 1946</th>\n",
       "      <td>75.0</td>\n",
       "      <td>25.050</td>\n",
       "      <td>17.5350</td>\n",
       "      <td>30.06</td>\n",
       "      <td>2.5</td>\n",
       "      <td>4.643892</td>\n",
       "      <td>1.83572</td>\n",
       "      <td>0.369742</td>\n",
       "    </tr>\n",
       "    <tr>\n",
       "      <th>non meublé</th>\n",
       "      <th>1946-1970</th>\n",
       "      <td>75.0</td>\n",
       "      <td>18.275</td>\n",
       "      <td>12.7925</td>\n",
       "      <td>21.93</td>\n",
       "      <td>2.5</td>\n",
       "      <td>4.643892</td>\n",
       "      <td>1.83572</td>\n",
       "      <td>0.369742</td>\n",
       "    </tr>\n",
       "  </tbody>\n",
       "</table>\n",
       "</div>"
      ],
      "text/plain": [
       "                                    id_quartier     ref      min    max  \\\n",
       "nom_quartier meuble_txt epoque                                            \n",
       "Amérique     meublé     1946-1970          75.0  20.650  14.4550  24.78   \n",
       "                        1971-1990          75.0  20.025  14.0175  24.03   \n",
       "                        Apres 1990         75.0  22.150  15.5050  26.58   \n",
       "                        Avant 1946         75.0  25.050  17.5350  30.06   \n",
       "             non meublé 1946-1970          75.0  18.275  12.7925  21.93   \n",
       "\n",
       "                                    piece  distance_centre_paris  \\\n",
       "nom_quartier meuble_txt epoque                                     \n",
       "Amérique     meublé     1946-1970     2.5               4.643892   \n",
       "                        1971-1990     2.5               4.643892   \n",
       "                        Apres 1990    2.5               4.643892   \n",
       "                        Avant 1946    2.5               4.643892   \n",
       "             non meublé 1946-1970     2.5               4.643892   \n",
       "\n",
       "                                    superficie_quartier  score_metro  \n",
       "nom_quartier meuble_txt epoque                                        \n",
       "Amérique     meublé     1946-1970               1.83572     0.369742  \n",
       "                        1971-1990               1.83572     0.369742  \n",
       "                        Apres 1990              1.83572     0.369742  \n",
       "                        Avant 1946              1.83572     0.369742  \n",
       "             non meublé 1946-1970               1.83572     0.369742  "
      ]
     },
     "execution_count": 45,
     "metadata": {},
     "output_type": "execute_result"
    }
   ],
   "source": [
    "moyenne_par_quartier = donnees_augmentees.groupby(['nom_quartier','meuble_txt','epoque']).mean()\n",
    "moyenne_par_quartier.head()"
   ]
  },
  {
   "cell_type": "markdown",
   "metadata": {},
   "source": [
    "De façon attendue, lorsqu'on prend un bien immobilier situé dans le même quartier et datant de la même époque, le bien qui sera meublé coûtera plus cher que le bien non meublé. On peut remarquer que les appartements historiques (avant 1946) sont les plus chers suivi par les appartements très modernes (post 1990), cela peut s'expliquer par des raisons historiques : les appartements entre 1946 et 1990 ont été construits pendant la période (et peu après) des 30 glorieuses, il fallait loger beaucoup de monde rapidement, ils sont donc moins travaillés esthétiquements que ceux avant et après cette période. "
   ]
  },
  {
   "cell_type": "code",
   "execution_count": 46,
   "metadata": {
    "scrolled": true
   },
   "outputs": [
    {
     "data": {
      "text/html": [
       "<div>\n",
       "<style scoped>\n",
       "    .dataframe tbody tr th:only-of-type {\n",
       "        vertical-align: middle;\n",
       "    }\n",
       "\n",
       "    .dataframe tbody tr th {\n",
       "        vertical-align: top;\n",
       "    }\n",
       "\n",
       "    .dataframe thead th {\n",
       "        text-align: right;\n",
       "    }\n",
       "</style>\n",
       "<table border=\"1\" class=\"dataframe\">\n",
       "  <thead>\n",
       "    <tr style=\"text-align: right;\">\n",
       "      <th></th>\n",
       "      <th>score_metro</th>\n",
       "      <th>superficie_quartier</th>\n",
       "      <th>distance_centre_paris</th>\n",
       "    </tr>\n",
       "    <tr>\n",
       "      <th>nom_quartier</th>\n",
       "      <th></th>\n",
       "      <th></th>\n",
       "      <th></th>\n",
       "    </tr>\n",
       "  </thead>\n",
       "  <tbody>\n",
       "    <tr>\n",
       "      <th>Amérique</th>\n",
       "      <td>0.369742</td>\n",
       "      <td>1.835720</td>\n",
       "      <td>4.643892</td>\n",
       "    </tr>\n",
       "    <tr>\n",
       "      <th>Archives</th>\n",
       "      <td>0.101295</td>\n",
       "      <td>0.367728</td>\n",
       "      <td>1.237744</td>\n",
       "    </tr>\n",
       "    <tr>\n",
       "      <th>Arsenal</th>\n",
       "      <td>0.128401</td>\n",
       "      <td>0.487265</td>\n",
       "      <td>1.188971</td>\n",
       "    </tr>\n",
       "    <tr>\n",
       "      <th>Arts-et-Metiers</th>\n",
       "      <td>0.291035</td>\n",
       "      <td>0.318088</td>\n",
       "      <td>1.575301</td>\n",
       "    </tr>\n",
       "    <tr>\n",
       "      <th>Auteuil</th>\n",
       "      <td>0.181809</td>\n",
       "      <td>6.383888</td>\n",
       "      <td>7.089615</td>\n",
       "    </tr>\n",
       "    <tr>\n",
       "      <th>Batignolles</th>\n",
       "      <td>0.230499</td>\n",
       "      <td>1.441711</td>\n",
       "      <td>4.667719</td>\n",
       "    </tr>\n",
       "    <tr>\n",
       "      <th>Bel-Air</th>\n",
       "      <td>0.286417</td>\n",
       "      <td>5.970921</td>\n",
       "      <td>6.424986</td>\n",
       "    </tr>\n",
       "    <tr>\n",
       "      <th>Belleville</th>\n",
       "      <td>0.038651</td>\n",
       "      <td>0.806569</td>\n",
       "      <td>3.485188</td>\n",
       "    </tr>\n",
       "    <tr>\n",
       "      <th>Bercy</th>\n",
       "      <td>0.195362</td>\n",
       "      <td>1.902932</td>\n",
       "      <td>3.410210</td>\n",
       "    </tr>\n",
       "    <tr>\n",
       "      <th>Bonne-Nouvelle</th>\n",
       "      <td>0.159121</td>\n",
       "      <td>0.281448</td>\n",
       "      <td>1.531832</td>\n",
       "    </tr>\n",
       "    <tr>\n",
       "      <th>Chaillot</th>\n",
       "      <td>0.240337</td>\n",
       "      <td>1.424035</td>\n",
       "      <td>4.511933</td>\n",
       "    </tr>\n",
       "    <tr>\n",
       "      <th>Champs-Elysées</th>\n",
       "      <td>0.631764</td>\n",
       "      <td>1.140254</td>\n",
       "      <td>3.314930</td>\n",
       "    </tr>\n",
       "    <tr>\n",
       "      <th>Charonne</th>\n",
       "      <td>0.239635</td>\n",
       "      <td>2.090904</td>\n",
       "      <td>4.304793</td>\n",
       "    </tr>\n",
       "    <tr>\n",
       "      <th>Chaussée-d'Antin</th>\n",
       "      <td>0.810019</td>\n",
       "      <td>0.543441</td>\n",
       "      <td>2.547512</td>\n",
       "    </tr>\n",
       "    <tr>\n",
       "      <th>Clignancourt</th>\n",
       "      <td>0.342435</td>\n",
       "      <td>1.653715</td>\n",
       "      <td>4.260256</td>\n",
       "    </tr>\n",
       "    <tr>\n",
       "      <th>Combat</th>\n",
       "      <td>0.128401</td>\n",
       "      <td>1.294988</td>\n",
       "      <td>3.627396</td>\n",
       "    </tr>\n",
       "    <tr>\n",
       "      <th>Croulebarbe</th>\n",
       "      <td>NaN</td>\n",
       "      <td>0.692068</td>\n",
       "      <td>2.188335</td>\n",
       "    </tr>\n",
       "    <tr>\n",
       "      <th>Ecole-Militaire</th>\n",
       "      <td>0.172673</td>\n",
       "      <td>0.807871</td>\n",
       "      <td>2.792057</td>\n",
       "    </tr>\n",
       "    <tr>\n",
       "      <th>Enfants-Rouges</th>\n",
       "      <td>NaN</td>\n",
       "      <td>0.271750</td>\n",
       "      <td>1.569815</td>\n",
       "    </tr>\n",
       "    <tr>\n",
       "      <th>Epinettes</th>\n",
       "      <td>0.268347</td>\n",
       "      <td>1.378545</td>\n",
       "      <td>5.045933</td>\n",
       "    </tr>\n",
       "  </tbody>\n",
       "</table>\n",
       "</div>"
      ],
      "text/plain": [
       "                  score_metro  superficie_quartier  distance_centre_paris\n",
       "nom_quartier                                                             \n",
       "Amérique             0.369742             1.835720               4.643892\n",
       "Archives             0.101295             0.367728               1.237744\n",
       "Arsenal              0.128401             0.487265               1.188971\n",
       "Arts-et-Metiers      0.291035             0.318088               1.575301\n",
       "Auteuil              0.181809             6.383888               7.089615\n",
       "Batignolles          0.230499             1.441711               4.667719\n",
       "Bel-Air              0.286417             5.970921               6.424986\n",
       "Belleville           0.038651             0.806569               3.485188\n",
       "Bercy                0.195362             1.902932               3.410210\n",
       "Bonne-Nouvelle       0.159121             0.281448               1.531832\n",
       "Chaillot             0.240337             1.424035               4.511933\n",
       "Champs-Elysées       0.631764             1.140254               3.314930\n",
       "Charonne             0.239635             2.090904               4.304793\n",
       "Chaussée-d'Antin     0.810019             0.543441               2.547512\n",
       "Clignancourt         0.342435             1.653715               4.260256\n",
       "Combat               0.128401             1.294988               3.627396\n",
       "Croulebarbe               NaN             0.692068               2.188335\n",
       "Ecole-Militaire      0.172673             0.807871               2.792057\n",
       "Enfants-Rouges            NaN             0.271750               1.569815\n",
       "Epinettes            0.268347             1.378545               5.045933"
      ]
     },
     "execution_count": 46,
     "metadata": {},
     "output_type": "execute_result"
    }
   ],
   "source": [
    "X = donnees_augmentees.groupby(['nom_quartier']).mean()[['score_metro','superficie_quartier','distance_centre_paris']] #ACP en cours\n",
    "loyer_ref = donnees_augmentees.groupby(['nom_quartier']).mean()['ref']\n",
    "scaler = StandardScaler()\n",
    "scaler.fit(X)\n",
    "X_scaled = scaler.transform(X) #Certains quartiers n'ont pas de score, à corriger\n",
    "pca_3 = PCA(n_components = 3)\n",
    "X.head(20)"
   ]
  },
  {
   "cell_type": "code",
   "execution_count": 47,
   "metadata": {},
   "outputs": [
    {
     "ename": "NameError",
     "evalue": "name 'metro_quartier' is not defined",
     "output_type": "error",
     "traceback": [
      "\u001b[1;31m---------------------------------------------------------------------------\u001b[0m",
      "\u001b[1;31mNameError\u001b[0m                                 Traceback (most recent call last)",
      "\u001b[1;32m<ipython-input-47-72fb98b0aa60>\u001b[0m in \u001b[0;36m<module>\u001b[1;34m\u001b[0m\n\u001b[1;32m----> 1\u001b[1;33m \u001b[0mplt\u001b[0m\u001b[1;33m.\u001b[0m\u001b[0mscatter\u001b[0m\u001b[1;33m(\u001b[0m\u001b[0mloyer_ref\u001b[0m\u001b[1;33m,\u001b[0m\u001b[0mmetro_quartier\u001b[0m\u001b[1;33m)\u001b[0m\u001b[1;33m\u001b[0m\u001b[1;33m\u001b[0m\u001b[0m\n\u001b[0m\u001b[0;32m      2\u001b[0m \u001b[0mplt\u001b[0m\u001b[1;33m.\u001b[0m\u001b[0mshow\u001b[0m\u001b[1;33m(\u001b[0m\u001b[1;33m)\u001b[0m\u001b[1;33m\u001b[0m\u001b[1;33m\u001b[0m\u001b[0m\n",
      "\u001b[1;31mNameError\u001b[0m: name 'metro_quartier' is not defined"
     ]
    }
   ],
   "source": [
    "plt.scatter(loyer_ref,metro_quartier)\n",
    "plt.show()"
   ]
  },
  {
   "cell_type": "code",
   "execution_count": 48,
   "metadata": {},
   "outputs": [
    {
     "ename": "NameError",
     "evalue": "name 'superficie' is not defined",
     "output_type": "error",
     "traceback": [
      "\u001b[1;31m---------------------------------------------------------------------------\u001b[0m",
      "\u001b[1;31mNameError\u001b[0m                                 Traceback (most recent call last)",
      "\u001b[1;32m<ipython-input-48-21a27c94a255>\u001b[0m in \u001b[0;36m<module>\u001b[1;34m\u001b[0m\n\u001b[1;32m----> 1\u001b[1;33m \u001b[0mplt\u001b[0m\u001b[1;33m.\u001b[0m\u001b[0mscatter\u001b[0m\u001b[1;33m(\u001b[0m\u001b[0mloyer_ref\u001b[0m\u001b[1;33m,\u001b[0m\u001b[0msuperficie\u001b[0m\u001b[1;33m)\u001b[0m\u001b[1;33m\u001b[0m\u001b[1;33m\u001b[0m\u001b[0m\n\u001b[0m\u001b[0;32m      2\u001b[0m \u001b[0mplt\u001b[0m\u001b[1;33m.\u001b[0m\u001b[0mshow\u001b[0m\u001b[1;33m(\u001b[0m\u001b[1;33m)\u001b[0m\u001b[1;33m\u001b[0m\u001b[1;33m\u001b[0m\u001b[0m\n",
      "\u001b[1;31mNameError\u001b[0m: name 'superficie' is not defined"
     ]
    }
   ],
   "source": [
    "plt.scatter(loyer_ref,superficie)\n",
    "plt.show()"
   ]
  },
  {
   "cell_type": "code",
   "execution_count": 49,
   "metadata": {},
   "outputs": [
    {
     "ename": "NameError",
     "evalue": "name 'distance_quartier' is not defined",
     "output_type": "error",
     "traceback": [
      "\u001b[1;31m---------------------------------------------------------------------------\u001b[0m",
      "\u001b[1;31mNameError\u001b[0m                                 Traceback (most recent call last)",
      "\u001b[1;32m<ipython-input-49-db504bc163c2>\u001b[0m in \u001b[0;36m<module>\u001b[1;34m\u001b[0m\n\u001b[1;32m----> 1\u001b[1;33m \u001b[0mplt\u001b[0m\u001b[1;33m.\u001b[0m\u001b[0mscatter\u001b[0m\u001b[1;33m(\u001b[0m\u001b[0mloyer_ref\u001b[0m\u001b[1;33m,\u001b[0m\u001b[0mdistance_quartier\u001b[0m\u001b[1;33m)\u001b[0m\u001b[1;33m\u001b[0m\u001b[1;33m\u001b[0m\u001b[0m\n\u001b[0m\u001b[0;32m      2\u001b[0m \u001b[0mplt\u001b[0m\u001b[1;33m.\u001b[0m\u001b[0mshow\u001b[0m\u001b[1;33m(\u001b[0m\u001b[1;33m)\u001b[0m\u001b[1;33m\u001b[0m\u001b[1;33m\u001b[0m\u001b[0m\n",
      "\u001b[1;31mNameError\u001b[0m: name 'distance_quartier' is not defined"
     ]
    }
   ],
   "source": [
    "plt.scatter(loyer_ref,distance_quartier)\n",
    "plt.show()"
   ]
  },
  {
   "cell_type": "code",
   "execution_count": 130,
   "metadata": {},
   "outputs": [
    {
     "ename": "NameError",
     "evalue": "name 'fit' is not defined",
     "output_type": "error",
     "traceback": [
      "\u001b[1;31m---------------------------------------------------------------------------\u001b[0m",
      "\u001b[1;31mNameError\u001b[0m                                 Traceback (most recent call last)",
      "\u001b[1;32m<ipython-input-130-c30443efe847>\u001b[0m in \u001b[0;36m<module>\u001b[1;34m\u001b[0m\n\u001b[0;32m      1\u001b[0m \u001b[0mpca\u001b[0m \u001b[1;33m=\u001b[0m \u001b[0mPCA\u001b[0m\u001b[1;33m(\u001b[0m\u001b[0mn_components\u001b[0m\u001b[1;33m=\u001b[0m\u001b[1;36m1\u001b[0m\u001b[1;33m)\u001b[0m\u001b[1;33m\u001b[0m\u001b[1;33m\u001b[0m\u001b[0m\n\u001b[1;32m----> 2\u001b[1;33m \u001b[0mfit\u001b[0m\u001b[1;33m(\u001b[0m\u001b[0mmetro_quartier\u001b[0m\u001b[1;33m,\u001b[0m\u001b[0mdistance_quartier\u001b[0m\u001b[1;33m,\u001b[0m\u001b[0msuperficie\u001b[0m\u001b[1;33m)\u001b[0m\u001b[1;33m\u001b[0m\u001b[1;33m\u001b[0m\u001b[0m\n\u001b[0m",
      "\u001b[1;31mNameError\u001b[0m: name 'fit' is not defined"
     ]
    }
   ],
   "source": []
  },
  {
   "cell_type": "code",
   "execution_count": null,
   "metadata": {},
   "outputs": [],
   "source": []
  },
  {
   "cell_type": "code",
   "execution_count": null,
   "metadata": {},
   "outputs": [],
   "source": []
  },
  {
   "cell_type": "code",
   "execution_count": null,
   "metadata": {},
   "outputs": [],
   "source": []
  },
  {
   "cell_type": "markdown",
   "metadata": {},
   "source": [
    "## Partie 3 - Modélisation\n",
    "*Les lignes de code qui suivent peuvent être trouvées dans les dossiers `preprocessing` et `visualization` du dépôt git*"
   ]
  },
  {
   "cell_type": "markdown",
   "metadata": {},
   "source": [
    "### 1. Preprocessing\n",
    "\n",
    "Pour commencer, on crée une nouvelle base de données dans laquelle toutes les variables sont sous forme numérique. Cette nouvelle base de données, qui nommée `donnees_num.geojson` peut être trouvée dans le dossier `preprocessing`du dépôt git.\n"
   ]
  },
  {
   "cell_type": "code",
   "execution_count": 50,
   "metadata": {},
   "outputs": [],
   "source": [
    "donnees_num = donnees_augmentees"
   ]
  },
  {
   "cell_type": "markdown",
   "metadata": {},
   "source": [
    "- Variable `meuble_txt` : \n",
    "Elle est transformée en une variable binaire `meuble_bin` telle que :\n",
    "    - meuble_bin = 1 si l'appartement est meublé\n",
    "    - meuble_bin = 0 si l'appartement est non-meublé\n",
    "\n",
    "Comme on n'a que deux modalités, on peut utiliser `LabelEncoder`."
   ]
  },
  {
   "cell_type": "code",
   "execution_count": 53,
   "metadata": {},
   "outputs": [],
   "source": [
    "donnees_num['meuble_bin'] = 1 - LabelEncoder().fit_transform(donnees_num['meuble_txt'])\n",
    "\n",
    "#Suppression de 'meuble_txt' :\n",
    "donnees_num.drop('meuble_txt',axis=1,inplace=True)"
   ]
  },
  {
   "cell_type": "markdown",
   "metadata": {},
   "source": [
    "- Variable `id_quartier` : \n",
    "il y a 80 modalités, donc on crée 80 nouvelles variables `q_i` pour $1\\leq i \\leq80$ telles que : \n",
    "    - `q_i` = 1 si `id_quartier` = i\n",
    "    - `q_i` = 0 si `id_quartier` != i\n",
    "\n",
    "Comme on a 80 modalités, on utilise cette fois `OneHotEncoder`."
   ]
  },
  {
   "cell_type": "code",
   "execution_count": 54,
   "metadata": {},
   "outputs": [],
   "source": [
    "donnees_num = donnees_num.sort_values('id_quartier').reset_index()\n",
    "ohe_id_quartier = pd.DataFrame(LabelBinarizer().fit_transform(donnees_num['id_quartier']))\n",
    "\n",
    "# On renomme les colonnes sous la forme : q_[1-80]\n",
    "colonnes = {}\n",
    "for i in range(80) :\n",
    "    colonnes[i] = 'q_'+str(i+1)\n",
    "ohe_id_quartier.rename(columns=colonnes, inplace=True)\n",
    "\n",
    "# Ajout des nouvelles variables et suppression de 'nom_quartier' et 'id_quartier' :\n",
    "donnees_num = donnees_num.join(ohe_id_quartier)\n",
    "donnees_num.drop(['nom_quartier','id_quartier','index'],axis=1,inplace=True)"
   ]
  },
  {
   "cell_type": "markdown",
   "metadata": {},
   "source": [
    "- Variable `epoque` : \n",
    "il y a 4 modalités, donc on crée 4 nouvelles variables `epoque_i` pour $0 \\leq i\\leq 3$ telles que : \n",
    "    - `epoque_0` = 1 si `epoque` = 'Avant 1946', et 0 sinon\n",
    "    - `epoque_1` = 1 si `epoque` =  '1946-1970', et 0 sinon\n",
    "    - `epoque_2` = 1 si `epoque` = '1971-1990', et 0 sinon\n",
    "    - `epoque_3` = 1 si `epoque` =  'Apres 1990', et 0 sinon\n",
    "\n",
    "On utilise encore une fois `OneHotEncoder`."
   ]
  },
  {
   "cell_type": "code",
   "execution_count": 55,
   "metadata": {},
   "outputs": [],
   "source": [
    "ohe_epoque = pd.DataFrame(LabelBinarizer().fit_transform(donnees_num['epoque']))\n",
    "\n",
    "# On renomme les colonnes sous la forme : epoque_[0-79]\n",
    "\n",
    "#donnees[['epoque']].head(10) #pour savoir comment renommer chaque colonne\n",
    "colonnes = {0 : 'epoque_1', 1 : 'epoque_2', 2 : 'epoque_3', 3 : 'epoque_0'}  \n",
    "ohe_epoque.rename(columns=colonnes, inplace=True)\n",
    "\n",
    "# Ajout des nouvelles variables et suppression de 'epoque' :\n",
    "donnees_num = donnees_num.join(ohe_epoque)\n",
    "donnees_num.drop(['epoque'],axis=1,inplace=True)"
   ]
  },
  {
   "cell_type": "code",
   "execution_count": 57,
   "metadata": {},
   "outputs": [
    {
     "data": {
      "text/html": [
       "<div>\n",
       "<style scoped>\n",
       "    .dataframe tbody tr th:only-of-type {\n",
       "        vertical-align: middle;\n",
       "    }\n",
       "\n",
       "    .dataframe tbody tr th {\n",
       "        vertical-align: top;\n",
       "    }\n",
       "\n",
       "    .dataframe thead th {\n",
       "        text-align: right;\n",
       "    }\n",
       "</style>\n",
       "<table border=\"1\" class=\"dataframe\">\n",
       "  <thead>\n",
       "    <tr style=\"text-align: right;\">\n",
       "      <th></th>\n",
       "      <th>ref</th>\n",
       "      <th>min</th>\n",
       "      <th>max</th>\n",
       "      <th>piece</th>\n",
       "      <th>geometry</th>\n",
       "      <th>distance_centre_paris</th>\n",
       "      <th>superficie_quartier</th>\n",
       "      <th>score_metro</th>\n",
       "      <th>meuble_bin</th>\n",
       "      <th>q_1</th>\n",
       "      <th>...</th>\n",
       "      <th>q_75</th>\n",
       "      <th>q_76</th>\n",
       "      <th>q_77</th>\n",
       "      <th>q_78</th>\n",
       "      <th>q_79</th>\n",
       "      <th>q_80</th>\n",
       "      <th>epoque_1</th>\n",
       "      <th>epoque_2</th>\n",
       "      <th>epoque_3</th>\n",
       "      <th>epoque_0</th>\n",
       "    </tr>\n",
       "  </thead>\n",
       "  <tbody>\n",
       "    <tr>\n",
       "      <th>0</th>\n",
       "      <td>26.7</td>\n",
       "      <td>18.69</td>\n",
       "      <td>32.04</td>\n",
       "      <td>2</td>\n",
       "      <td>POLYGON ((2.34459 48.85405, 2.34459 48.85405, ...</td>\n",
       "      <td>1.299442</td>\n",
       "      <td>0.869001</td>\n",
       "      <td>0.603253</td>\n",
       "      <td>0</td>\n",
       "      <td>1</td>\n",
       "      <td>...</td>\n",
       "      <td>0</td>\n",
       "      <td>0</td>\n",
       "      <td>0</td>\n",
       "      <td>0</td>\n",
       "      <td>0</td>\n",
       "      <td>0</td>\n",
       "      <td>0</td>\n",
       "      <td>0</td>\n",
       "      <td>1</td>\n",
       "      <td>0</td>\n",
       "    </tr>\n",
       "    <tr>\n",
       "      <th>1</th>\n",
       "      <td>21.7</td>\n",
       "      <td>15.19</td>\n",
       "      <td>26.04</td>\n",
       "      <td>3</td>\n",
       "      <td>POLYGON ((2.34459 48.85405, 2.34459 48.85405, ...</td>\n",
       "      <td>1.299442</td>\n",
       "      <td>0.869001</td>\n",
       "      <td>0.603253</td>\n",
       "      <td>0</td>\n",
       "      <td>1</td>\n",
       "      <td>...</td>\n",
       "      <td>0</td>\n",
       "      <td>0</td>\n",
       "      <td>0</td>\n",
       "      <td>0</td>\n",
       "      <td>0</td>\n",
       "      <td>0</td>\n",
       "      <td>1</td>\n",
       "      <td>0</td>\n",
       "      <td>0</td>\n",
       "      <td>0</td>\n",
       "    </tr>\n",
       "  </tbody>\n",
       "</table>\n",
       "<p>2 rows × 93 columns</p>\n",
       "</div>"
      ],
      "text/plain": [
       "    ref    min    max  piece  \\\n",
       "0  26.7  18.69  32.04      2   \n",
       "1  21.7  15.19  26.04      3   \n",
       "\n",
       "                                            geometry  distance_centre_paris  \\\n",
       "0  POLYGON ((2.34459 48.85405, 2.34459 48.85405, ...               1.299442   \n",
       "1  POLYGON ((2.34459 48.85405, 2.34459 48.85405, ...               1.299442   \n",
       "\n",
       "   superficie_quartier  score_metro  meuble_bin  q_1  ...  q_75  q_76  q_77  \\\n",
       "0             0.869001     0.603253           0    1  ...     0     0     0   \n",
       "1             0.869001     0.603253           0    1  ...     0     0     0   \n",
       "\n",
       "   q_78  q_79  q_80  epoque_1  epoque_2  epoque_3  epoque_0  \n",
       "0     0     0     0         0         0         1         0  \n",
       "1     0     0     0         1         0         0         0  \n",
       "\n",
       "[2 rows x 93 columns]"
      ]
     },
     "execution_count": 57,
     "metadata": {},
     "output_type": "execute_result"
    }
   ],
   "source": [
    "donnees_num.head(2)"
   ]
  },
  {
   "cell_type": "markdown",
   "metadata": {},
   "source": [
    "On crée également une fonction permettant de standardiser une base de données numériques passée en argument :"
   ]
  },
  {
   "cell_type": "code",
   "execution_count": 58,
   "metadata": {},
   "outputs": [],
   "source": [
    "def standardisation(df) :\n",
    "    \"\"\"\n",
    "    Fonction renvoyant la version standardisée d'une base de données df passée en argument.\n",
    "    \n",
    "    ! df ne doit contenir que des variables numériques !\n",
    "    \"\"\"\n",
    "    \n",
    "    data = StandardScaler().fit(df).transform(df.fillna(0))\n",
    "    \n",
    "    return data"
   ]
  },
  {
   "cell_type": "markdown",
   "metadata": {},
   "source": [
    "### 2. Modèle LASSO - sélection des variables\n",
    "\n",
    "Ce modèle permet de sélectionner les variables d'intérêt. \n",
    "\n",
    "On utilise la base de données numérique `donnees_num`, à laquelle : \n",
    "   - on enlève les variables qui ne nous intérèssent pas : `min`, `max` et `geometry`\n",
    "   - on enlève l'une des variables de chaque groupe de variables corrélées :\n",
    "        - `q_80` pour le groupe de variables corrélées `q_i`, $1 \\leq i \\leq80$\n",
    "        - `epoque_0` pour le groupe de variables corrélées `epoque_i`, $0 \\leq i \\leq3$\n",
    "   - on standardise les variables restantes"
   ]
  },
  {
   "cell_type": "code",
   "execution_count": 60,
   "metadata": {},
   "outputs": [],
   "source": [
    "donnees_lasso = donnees_num\n",
    "\n",
    "donnees_lasso.drop(['min','max','geometry','q_80','epoque_0'],axis=1,inplace=True)\n",
    "\n",
    "data_lasso = standardisation(donnees_lasso)"
   ]
  },
  {
   "cell_type": "markdown",
   "metadata": {},
   "source": [
    "On va ensuite tester le modèle LASSO avec différentes valeurs d'hyper-paramètre $\\alpha$, et représenter le nombre de variables sélectionnées en fonction de $\\alpha$ :"
   ]
  },
  {
   "cell_type": "code",
   "execution_count": 67,
   "metadata": {},
   "outputs": [
    {
     "data": {
      "image/png": "[encoded data removed]",
      "text/plain": [
       "<Figure size 432x288 with 1 Axes>"
      ]
     },
     "metadata": {},
     "output_type": "display_data"
    }
   ],
   "source": [
    "yindex = donnees_lasso.columns.get_loc(\"ref\")\n",
    "alphas = np.array([0.001,0.01,0.02,0.025,0.05,0.1,0.25,0.5,0.8,1.0])\n",
    "\n",
    "alpha_for_path, coefs_lasso, _ = lasso_path(np.delete(data_lasso, yindex, axis = 1),data_lasso[:,yindex],alphas=alphas)\n",
    "nb_non_zero = np.apply_along_axis(func1d=np.count_nonzero,arr=coefs_lasso,axis=0)\n",
    "\n",
    "sns.set_style(\"whitegrid\")\n",
    "p = sns.lineplot(y=nb_non_zero, x=alpha_for_path).set(title = r\"Number variables and regularization parameter ($\\alpha$)\", xlabel=r'$\\alpha$', ylabel='Nb. de variables')\n",
    "p\n",
    "plt.show()"
   ]
  },
  {
   "cell_type": "markdown",
   "metadata": {},
   "source": [
    "$\\hookrightarrow$ On remarque que le nombre de variables sélectionnées décroit très rapidement. On peut supposer que cela est du au fait que si on établit que le quartier n'a pas d'influence sur le loyer, on peut directement écarter 79 variables...\n",
    "\n",
    "Au vu du graphique précédent, on peut penser que la meilleure valeur de l'hyperparamètre serait aux alentours de $\\alpha = 0.15$, zone d'inflexion de la courbe. On va donc tester le modèle LASSO avec ce paramètre pour voir quelles variables sont retenues pour expliquer le loyer des appartements."
   ]
  },
  {
   "cell_type": "code",
   "execution_count": 72,
   "metadata": {},
   "outputs": [
    {
     "name": "stdout",
     "output_type": "stream",
     "text": [
      "Coefficients estimés par modèle LASSO : \n",
      "[0.3980399  0.13119295 0.         0.         0.22604745 0.\n",
      " 0.         0.         0.         0.         0.         0.\n",
      " 0.         0.         0.         0.         0.         0.\n",
      " 0.         0.         0.         0.         0.         0.\n",
      " 0.         0.         0.         0.         0.         0.\n",
      " 0.         0.         0.         0.         0.         0.\n",
      " 0.         0.         0.         0.         0.         0.\n",
      " 0.         0.         0.         0.         0.         0.\n",
      " 0.         0.         0.         0.         0.         0.\n",
      " 0.         0.         0.         0.         0.         0.\n",
      " 0.         0.         0.         0.         0.         0.\n",
      " 0.         0.         0.         0.         0.         0.\n",
      " 0.         0.         0.         0.         0.         0.\n",
      " 0.         0.         0.         0.         0.         0.\n",
      " 0.         0.         0.        ]\n",
      "Colonnes sélectionnées par modèle LASSO : \n",
      "Index(['piece', 'distance_centre_paris', 'meuble_bin'], dtype='object')\n"
     ]
    }
   ],
   "source": [
    "alpha = 0.15\n",
    "\n",
    "lasso1 = Lasso(fit_intercept=False,normalize=False, alpha = alpha)\n",
    "lasso1.fit(np.delete(data_lasso, yindex, axis = 1),data_lasso[:,yindex])\n",
    "\n",
    "print(\"Coefficients estimés par modèle LASSO : \")\n",
    "print(np.abs(lasso1.coef_))\n",
    "\n",
    "print(\"Colonnes sélectionnées par modèle LASSO : \")\n",
    "print(donnees_lasso.drop(\"ref\", axis = 1).columns[np.abs(lasso1.coef_)>0])\n"
   ]
  },
  {
   "cell_type": "markdown",
   "metadata": {},
   "source": [
    "$\\hookrightarrow$ Le modèle LASSO avec $\\alpha = 0.15$ sélectionne donc le nombre de pièces comme ayant la plus grande incidence sur le loyer. Il sélectionne également la distance au centre de Paris, qui est une information sur les quartiers, et le fait que le logement soit proposé comme meublé ou non.\n",
    "\n",
    "On peut éssayer avec un  $\\alpha$ légèrement plus petit, pour sélectionner un peu plus de variables :"
   ]
  },
  {
   "cell_type": "code",
   "execution_count": 73,
   "metadata": {},
   "outputs": [
    {
     "name": "stdout",
     "output_type": "stream",
     "text": [
      "Coefficients estimés par modèle LASSO : \n",
      "[0.4180399  0.1511576  0.         0.         0.24604745 0.\n",
      " 0.         0.         0.         0.         0.         0.\n",
      " 0.         0.         0.         0.         0.         0.\n",
      " 0.         0.         0.         0.         0.         0.\n",
      " 0.         0.         0.         0.         0.         0.\n",
      " 0.         0.         0.         0.         0.         0.\n",
      " 0.         0.         0.         0.         0.         0.\n",
      " 0.         0.         0.         0.         0.         0.\n",
      " 0.         0.         0.         0.         0.         0.\n",
      " 0.00141474 0.         0.         0.         0.         0.\n",
      " 0.         0.         0.         0.         0.         0.\n",
      " 0.         0.         0.         0.         0.         0.\n",
      " 0.         0.         0.         0.         0.         0.\n",
      " 0.         0.         0.         0.         0.         0.\n",
      " 0.01943677 0.00945549 0.        ]\n",
      "Colonnes sélectionnées par modèle LASSO : \n",
      "Index(['piece', 'distance_centre_paris', 'meuble_bin', 'q_50', 'epoque_1',\n",
      "       'epoque_2'],\n",
      "      dtype='object')\n"
     ]
    }
   ],
   "source": [
    "alpha = 0.13\n",
    "\n",
    "lasso1 = Lasso(fit_intercept=False,normalize=False, alpha = alpha)\n",
    "lasso1.fit(np.delete(data_lasso, yindex, axis = 1),data_lasso[:,yindex])\n",
    "\n",
    "print(\"Coefficients estimés par modèle LASSO : \")\n",
    "print(np.abs(lasso1.coef_))\n",
    "\n",
    "print(\"Colonnes sélectionnées par modèle LASSO : \")\n",
    "print(donnees_lasso.drop(\"ref\", axis = 1).columns[np.abs(lasso1.coef_)>0])"
   ]
  },
  {
   "cell_type": "markdown",
   "metadata": {},
   "source": [
    "$\\hookrightarrow$ Si on diminue légèrement $\\alpha$ pour prendre $\\alpha=0.13$, on remarque que deux des variables correspondant à l'époque de construction et la variable indicatrice du quartier Gare (50) sont également sélectionnées, mais obtiennent des coefficients beaucoup plus petits. "
   ]
  },
  {
   "cell_type": "code",
   "execution_count": null,
   "metadata": {},
   "outputs": [],
   "source": []
  }
 ],
 "metadata": {
  "kernelspec": {
   "display_name": "Python 3",
   "language": "python",
   "name": "python3"
  },
  "language_info": {
   "codemirror_mode": {
    "name": "ipython",
    "version": 3
   },
   "file_extension": ".py",
   "mimetype": "text/x-python",
   "name": "python",
   "nbconvert_exporter": "python",
   "pygments_lexer": "ipython3",
   "version": "3.8.3"
  }
 },
 "nbformat": 4,
 "nbformat_minor": 4
}
