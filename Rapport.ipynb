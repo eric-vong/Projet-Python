{
 "cells": [
  {
   "cell_type": "markdown",
   "metadata": {},
   "source": [
    "# Projet Python pour le Data Scientist "
   ]
  },
  {
   "cell_type": "markdown",
   "metadata": {},
   "source": [
    "Projet réalisé par Eric Vong, Thibaut Valour et Solène Blasco Lopez\n",
    "\n",
    "Ce projet Python utilise les données de l'OpenData de Paris sur l'encadrement des loyers de 2019, enrichies par l'intermédiaire de données web-scrapées sur internet. Il expérimente différents modèles de régression entrainés sur ces données dans le but de prédire les loyers de référence des appartements parisiens. L'objet de ce projet est donc de répondre à la problématique suivante : Quels sont les déterminants du loyer d'un bien immobilier parisien ?"
   ]
  },
  {
   "cell_type": "code",
   "execution_count": 34,
   "metadata": {},
   "outputs": [],
   "source": [
    "import re\n",
    "\n",
    "# Manipulation des donneés :\n",
    "import pandas as pd\n",
    "import geopandas as gpd\n",
    "\n",
    "# Web-scraping :\n",
    "import urllib\n",
    "import bs4 \n",
    "\n",
    "# Représentations graphiques :\n",
    "import matplotlib.pyplot as plt"
   ]
  },
  {
   "cell_type": "markdown",
   "metadata": {},
   "source": [
    "## Partie 1 - récupération et traitement des données\n",
    "*Les lignes de code qui suivent peuvent être trouvées dans le dossier `data` du dépôt git*"
   ]
  },
  {
   "cell_type": "markdown",
   "metadata": {},
   "source": [
    "### 1. Récupération des données de la mairie de Paris concernant l'encadrement des loyers\n",
    "\n",
    "La mairie de Paris a mis en ligne une base de données concernant l'encadrement des loyers de ses logements en 2019. On y trouve une classification des logements, selon leur secteur de localisation (quartier administratif) et leur type (nombre de pièces, époque de construction, meublé/non-meublé), accompagnée de leurs loyers de référence. \n",
    "\n",
    "*Lien contenant les informations sur ces données : https://opendata.paris.fr/explore/dataset/logement-encadrement-des-loyers/information/?disjunctive.id_zone&disjunctive.nom_quartier&disjunctive.piece&disjunctive.epoque&disjunctive.meuble_txt&sort=-id_zone&location=15,48.84958,2.34691&basemap=jawg.streets*"
   ]
  },
  {
   "cell_type": "code",
   "execution_count": 2,
   "metadata": {},
   "outputs": [],
   "source": [
    "donnees_brutes = gpd.read_file('https://opendata.paris.fr/explore/dataset/logement-encadrement-des-loyers/download/?format=geojson&timezone=Europe/Berlin&lang=fr')"
   ]
  },
  {
   "cell_type": "markdown",
   "metadata": {},
   "source": [
    "On ne sélectionne que les colonnes qui nous intérèssent : \n",
    "- `nom_quartier` et `id_quartier` : nom et id du quartier (administratif)\n",
    "- `ref` : loyer de référence (encadrement : `min` et `max`)\n",
    "- `epoque` : époque de construction de l'appartement\n",
    "- `meuble_txt` : location en tant que logement meublé ou non-meublé\n",
    "- `piece` : nombre de pièces\n",
    "- `geometry` : représentation graphique du quartier."
   ]
  },
  {
   "cell_type": "code",
   "execution_count": 3,
   "metadata": {},
   "outputs": [],
   "source": [
    "donnees = donnees_brutes[['nom_quartier','id_quartier','ref','min','max','epoque','meuble_txt','piece','geometry']]"
   ]
  },
  {
   "cell_type": "code",
   "execution_count": 4,
   "metadata": {},
   "outputs": [
    {
     "data": {
      "text/html": [
       "<div>\n",
       "<style scoped>\n",
       "    .dataframe tbody tr th:only-of-type {\n",
       "        vertical-align: middle;\n",
       "    }\n",
       "\n",
       "    .dataframe tbody tr th {\n",
       "        vertical-align: top;\n",
       "    }\n",
       "\n",
       "    .dataframe thead th {\n",
       "        text-align: right;\n",
       "    }\n",
       "</style>\n",
       "<table border=\"1\" class=\"dataframe\">\n",
       "  <thead>\n",
       "    <tr style=\"text-align: right;\">\n",
       "      <th></th>\n",
       "      <th>nom_quartier</th>\n",
       "      <th>id_quartier</th>\n",
       "      <th>ref</th>\n",
       "      <th>min</th>\n",
       "      <th>max</th>\n",
       "      <th>epoque</th>\n",
       "      <th>meuble_txt</th>\n",
       "      <th>piece</th>\n",
       "      <th>geometry</th>\n",
       "    </tr>\n",
       "  </thead>\n",
       "  <tbody>\n",
       "    <tr>\n",
       "      <th>0</th>\n",
       "      <td>Amérique</td>\n",
       "      <td>75</td>\n",
       "      <td>14.6</td>\n",
       "      <td>10.22</td>\n",
       "      <td>17.52</td>\n",
       "      <td>1946-1970</td>\n",
       "      <td>non meublé</td>\n",
       "      <td>4</td>\n",
       "      <td>POLYGON ((2.40940 48.88019, 2.40995 48.87952, ...</td>\n",
       "    </tr>\n",
       "    <tr>\n",
       "      <th>1</th>\n",
       "      <td>Pont-de-Flandre</td>\n",
       "      <td>74</td>\n",
       "      <td>18.5</td>\n",
       "      <td>12.95</td>\n",
       "      <td>22.20</td>\n",
       "      <td>Apres 1990</td>\n",
       "      <td>meublé</td>\n",
       "      <td>4</td>\n",
       "      <td>POLYGON ((2.38488 48.88663, 2.38483 48.88662, ...</td>\n",
       "    </tr>\n",
       "    <tr>\n",
       "      <th>2</th>\n",
       "      <td>Belleville</td>\n",
       "      <td>77</td>\n",
       "      <td>23.4</td>\n",
       "      <td>16.38</td>\n",
       "      <td>28.08</td>\n",
       "      <td>1971-1990</td>\n",
       "      <td>meublé</td>\n",
       "      <td>4</td>\n",
       "      <td>POLYGON ((2.38323 48.86710, 2.38314 48.86708, ...</td>\n",
       "    </tr>\n",
       "    <tr>\n",
       "      <th>3</th>\n",
       "      <td>Amérique</td>\n",
       "      <td>75</td>\n",
       "      <td>21.2</td>\n",
       "      <td>14.84</td>\n",
       "      <td>25.44</td>\n",
       "      <td>1971-1990</td>\n",
       "      <td>non meublé</td>\n",
       "      <td>1</td>\n",
       "      <td>POLYGON ((2.40940 48.88019, 2.40995 48.87952, ...</td>\n",
       "    </tr>\n",
       "    <tr>\n",
       "      <th>4</th>\n",
       "      <td>Amérique</td>\n",
       "      <td>75</td>\n",
       "      <td>18.5</td>\n",
       "      <td>12.95</td>\n",
       "      <td>22.20</td>\n",
       "      <td>Apres 1990</td>\n",
       "      <td>meublé</td>\n",
       "      <td>4</td>\n",
       "      <td>POLYGON ((2.40940 48.88019, 2.40995 48.87952, ...</td>\n",
       "    </tr>\n",
       "  </tbody>\n",
       "</table>\n",
       "</div>"
      ],
      "text/plain": [
       "      nom_quartier  id_quartier   ref    min    max      epoque  meuble_txt  \\\n",
       "0         Amérique           75  14.6  10.22  17.52   1946-1970  non meublé   \n",
       "1  Pont-de-Flandre           74  18.5  12.95  22.20  Apres 1990      meublé   \n",
       "2       Belleville           77  23.4  16.38  28.08   1971-1990      meublé   \n",
       "3         Amérique           75  21.2  14.84  25.44   1971-1990  non meublé   \n",
       "4         Amérique           75  18.5  12.95  22.20  Apres 1990      meublé   \n",
       "\n",
       "   piece                                           geometry  \n",
       "0      4  POLYGON ((2.40940 48.88019, 2.40995 48.87952, ...  \n",
       "1      4  POLYGON ((2.38488 48.88663, 2.38483 48.88662, ...  \n",
       "2      4  POLYGON ((2.38323 48.86710, 2.38314 48.86708, ...  \n",
       "3      1  POLYGON ((2.40940 48.88019, 2.40995 48.87952, ...  \n",
       "4      4  POLYGON ((2.40940 48.88019, 2.40995 48.87952, ...  "
      ]
     },
     "execution_count": 4,
     "metadata": {},
     "output_type": "execute_result"
    }
   ],
   "source": [
    "donnees.head(5)"
   ]
  },
  {
   "cell_type": "markdown",
   "metadata": {},
   "source": [
    "Cette base de données référence 2560 appartements. On vérifie qu'il n'y a pas de valeurs manquantes :"
   ]
  },
  {
   "cell_type": "code",
   "execution_count": 5,
   "metadata": {},
   "outputs": [
    {
     "data": {
      "text/plain": [
       "nom_quartier    2560\n",
       "id_quartier     2560\n",
       "ref             2560\n",
       "min             2560\n",
       "max             2560\n",
       "epoque          2560\n",
       "meuble_txt      2560\n",
       "piece           2560\n",
       "geometry        2560\n",
       "dtype: int64"
      ]
     },
     "execution_count": 5,
     "metadata": {},
     "output_type": "execute_result"
    }
   ],
   "source": [
    "donnees.count()"
   ]
  },
  {
   "cell_type": "markdown",
   "metadata": {},
   "source": [
    "### 2. Création de deux variables : superficie des quartiers et leur distance au centre de Paris\n"
   ]
  },
  {
   "cell_type": "code",
   "execution_count": 6,
   "metadata": {},
   "outputs": [
    {
     "data": {
      "text/plain": [
       "{'init': 'epsg:4326'}"
      ]
     },
     "execution_count": 6,
     "metadata": {},
     "output_type": "execute_result"
    }
   ],
   "source": [
    "donnees.crs"
   ]
  },
  {
   "cell_type": "markdown",
   "metadata": {},
   "source": [
    "On va devoir faire en sorte d'utiliser le système de projection `epsg 2154` dans la suite pour pouvoir obtenir des distances en mètres et des aires en mètres carrés."
   ]
  },
  {
   "cell_type": "markdown",
   "metadata": {},
   "source": [
    "- On ajoute la distance du centre de chaque quartier au centre de Paris dans la variable `distance_centre_paris` (intuition : plus un bien est proche du centre de Paris, plus il est convoité et donc valorisé) :"
   ]
  },
  {
   "cell_type": "code",
   "execution_count": 7,
   "metadata": {},
   "outputs": [],
   "source": [
    "#Centres des quartiers :\n",
    "\n",
    "df = donnees.centroid \n",
    "df = df.to_crs(epsg=2154)"
   ]
  },
  {
   "cell_type": "code",
   "execution_count": 8,
   "metadata": {},
   "outputs": [],
   "source": [
    "#Centre de Paris (coordonnées trouvées sur internet): \n",
    "\n",
    "longitude = [2.3488 for i in range(2560)]\n",
    "latitude = [48.8534 for i in range(2560)]\n",
    "\n",
    "df2 = gpd.GeoDataFrame(geometry = gpd.points_from_xy(longitude, latitude),crs={'init': 'epsg:4326'})\n",
    "df2 = df2.to_crs(epsg=2154)"
   ]
  },
  {
   "cell_type": "code",
   "execution_count": 9,
   "metadata": {},
   "outputs": [],
   "source": [
    "# Tables des distances pour chaque appartement de la base de données :\n",
    "\n",
    "distances = pd.DataFrame(df.distance(df2)*10**(-3),columns=[\"distance_centre_paris\"])  #la multiplication par 10^3 convertit les mètres en kms"
   ]
  },
  {
   "cell_type": "code",
   "execution_count": 11,
   "metadata": {},
   "outputs": [],
   "source": [
    "# Ajout de la nouvelle variable à la base de données : \n",
    "\n",
    "donnees = donnees.join(distances)"
   ]
  },
  {
   "cell_type": "code",
   "execution_count": 13,
   "metadata": {},
   "outputs": [
    {
     "data": {
      "text/html": [
       "<div>\n",
       "<style scoped>\n",
       "    .dataframe tbody tr th:only-of-type {\n",
       "        vertical-align: middle;\n",
       "    }\n",
       "\n",
       "    .dataframe tbody tr th {\n",
       "        vertical-align: top;\n",
       "    }\n",
       "\n",
       "    .dataframe thead th {\n",
       "        text-align: right;\n",
       "    }\n",
       "</style>\n",
       "<table border=\"1\" class=\"dataframe\">\n",
       "  <thead>\n",
       "    <tr style=\"text-align: right;\">\n",
       "      <th></th>\n",
       "      <th>nom_quartier</th>\n",
       "      <th>id_quartier</th>\n",
       "      <th>ref</th>\n",
       "      <th>min</th>\n",
       "      <th>max</th>\n",
       "      <th>epoque</th>\n",
       "      <th>meuble_txt</th>\n",
       "      <th>piece</th>\n",
       "      <th>geometry</th>\n",
       "      <th>distance_centre_paris</th>\n",
       "    </tr>\n",
       "  </thead>\n",
       "  <tbody>\n",
       "    <tr>\n",
       "      <th>0</th>\n",
       "      <td>Amérique</td>\n",
       "      <td>75</td>\n",
       "      <td>14.6</td>\n",
       "      <td>10.22</td>\n",
       "      <td>17.52</td>\n",
       "      <td>1946-1970</td>\n",
       "      <td>non meublé</td>\n",
       "      <td>4</td>\n",
       "      <td>POLYGON ((2.40940 48.88019, 2.40995 48.87952, ...</td>\n",
       "      <td>4.643892</td>\n",
       "    </tr>\n",
       "    <tr>\n",
       "      <th>1</th>\n",
       "      <td>Pont-de-Flandre</td>\n",
       "      <td>74</td>\n",
       "      <td>18.5</td>\n",
       "      <td>12.95</td>\n",
       "      <td>22.20</td>\n",
       "      <td>Apres 1990</td>\n",
       "      <td>meublé</td>\n",
       "      <td>4</td>\n",
       "      <td>POLYGON ((2.38488 48.88663, 2.38483 48.88662, ...</td>\n",
       "      <td>5.379327</td>\n",
       "    </tr>\n",
       "    <tr>\n",
       "      <th>2</th>\n",
       "      <td>Belleville</td>\n",
       "      <td>77</td>\n",
       "      <td>23.4</td>\n",
       "      <td>16.38</td>\n",
       "      <td>28.08</td>\n",
       "      <td>1971-1990</td>\n",
       "      <td>meublé</td>\n",
       "      <td>4</td>\n",
       "      <td>POLYGON ((2.38323 48.86710, 2.38314 48.86708, ...</td>\n",
       "      <td>3.485188</td>\n",
       "    </tr>\n",
       "    <tr>\n",
       "      <th>3</th>\n",
       "      <td>Amérique</td>\n",
       "      <td>75</td>\n",
       "      <td>21.2</td>\n",
       "      <td>14.84</td>\n",
       "      <td>25.44</td>\n",
       "      <td>1971-1990</td>\n",
       "      <td>non meublé</td>\n",
       "      <td>1</td>\n",
       "      <td>POLYGON ((2.40940 48.88019, 2.40995 48.87952, ...</td>\n",
       "      <td>4.643892</td>\n",
       "    </tr>\n",
       "    <tr>\n",
       "      <th>4</th>\n",
       "      <td>Amérique</td>\n",
       "      <td>75</td>\n",
       "      <td>18.5</td>\n",
       "      <td>12.95</td>\n",
       "      <td>22.20</td>\n",
       "      <td>Apres 1990</td>\n",
       "      <td>meublé</td>\n",
       "      <td>4</td>\n",
       "      <td>POLYGON ((2.40940 48.88019, 2.40995 48.87952, ...</td>\n",
       "      <td>4.643892</td>\n",
       "    </tr>\n",
       "  </tbody>\n",
       "</table>\n",
       "</div>"
      ],
      "text/plain": [
       "      nom_quartier  id_quartier   ref    min    max      epoque  meuble_txt  \\\n",
       "0         Amérique           75  14.6  10.22  17.52   1946-1970  non meublé   \n",
       "1  Pont-de-Flandre           74  18.5  12.95  22.20  Apres 1990      meublé   \n",
       "2       Belleville           77  23.4  16.38  28.08   1971-1990      meublé   \n",
       "3         Amérique           75  21.2  14.84  25.44   1971-1990  non meublé   \n",
       "4         Amérique           75  18.5  12.95  22.20  Apres 1990      meublé   \n",
       "\n",
       "   piece                                           geometry  \\\n",
       "0      4  POLYGON ((2.40940 48.88019, 2.40995 48.87952, ...   \n",
       "1      4  POLYGON ((2.38488 48.88663, 2.38483 48.88662, ...   \n",
       "2      4  POLYGON ((2.38323 48.86710, 2.38314 48.86708, ...   \n",
       "3      1  POLYGON ((2.40940 48.88019, 2.40995 48.87952, ...   \n",
       "4      4  POLYGON ((2.40940 48.88019, 2.40995 48.87952, ...   \n",
       "\n",
       "   distance_centre_paris  \n",
       "0               4.643892  \n",
       "1               5.379327  \n",
       "2               3.485188  \n",
       "3               4.643892  \n",
       "4               4.643892  "
      ]
     },
     "execution_count": 13,
     "metadata": {},
     "output_type": "execute_result"
    }
   ],
   "source": [
    "donnees.head(5)"
   ]
  },
  {
   "cell_type": "markdown",
   "metadata": {},
   "source": [
    "- On ajoute également la superficie de chaque quartier dans la variable `superficie_quartier` (intuition : plus un quartier est petit plus l'offre de logements est restreinte et les biens sont valorisés) :"
   ]
  },
  {
   "cell_type": "code",
   "execution_count": 14,
   "metadata": {},
   "outputs": [],
   "source": [
    "# On ne conserve que les géométries, pour les passer dans le système espg 2154 :\n",
    "df3 = donnees.geometry\n",
    "df3 = df3.to_crs(epsg=2154)"
   ]
  },
  {
   "cell_type": "code",
   "execution_count": 15,
   "metadata": {},
   "outputs": [],
   "source": [
    "#Création de la nouvelle variable :\n",
    "donnees['superficie_quartier'] = df3.area.div(10**6)  #La division convertit les m² en km²"
   ]
  },
  {
   "cell_type": "code",
   "execution_count": 16,
   "metadata": {},
   "outputs": [
    {
     "data": {
      "text/html": [
       "<div>\n",
       "<style scoped>\n",
       "    .dataframe tbody tr th:only-of-type {\n",
       "        vertical-align: middle;\n",
       "    }\n",
       "\n",
       "    .dataframe tbody tr th {\n",
       "        vertical-align: top;\n",
       "    }\n",
       "\n",
       "    .dataframe thead th {\n",
       "        text-align: right;\n",
       "    }\n",
       "</style>\n",
       "<table border=\"1\" class=\"dataframe\">\n",
       "  <thead>\n",
       "    <tr style=\"text-align: right;\">\n",
       "      <th></th>\n",
       "      <th>nom_quartier</th>\n",
       "      <th>id_quartier</th>\n",
       "      <th>ref</th>\n",
       "      <th>min</th>\n",
       "      <th>max</th>\n",
       "      <th>epoque</th>\n",
       "      <th>meuble_txt</th>\n",
       "      <th>piece</th>\n",
       "      <th>geometry</th>\n",
       "      <th>distance_centre_paris</th>\n",
       "      <th>superficie_quartier</th>\n",
       "    </tr>\n",
       "  </thead>\n",
       "  <tbody>\n",
       "    <tr>\n",
       "      <th>0</th>\n",
       "      <td>Amérique</td>\n",
       "      <td>75</td>\n",
       "      <td>14.6</td>\n",
       "      <td>10.22</td>\n",
       "      <td>17.52</td>\n",
       "      <td>1946-1970</td>\n",
       "      <td>non meublé</td>\n",
       "      <td>4</td>\n",
       "      <td>POLYGON ((2.40940 48.88019, 2.40995 48.87952, ...</td>\n",
       "      <td>4.643892</td>\n",
       "      <td>1.835720</td>\n",
       "    </tr>\n",
       "    <tr>\n",
       "      <th>1</th>\n",
       "      <td>Pont-de-Flandre</td>\n",
       "      <td>74</td>\n",
       "      <td>18.5</td>\n",
       "      <td>12.95</td>\n",
       "      <td>22.20</td>\n",
       "      <td>Apres 1990</td>\n",
       "      <td>meublé</td>\n",
       "      <td>4</td>\n",
       "      <td>POLYGON ((2.38488 48.88663, 2.38483 48.88662, ...</td>\n",
       "      <td>5.379327</td>\n",
       "      <td>2.376238</td>\n",
       "    </tr>\n",
       "    <tr>\n",
       "      <th>2</th>\n",
       "      <td>Belleville</td>\n",
       "      <td>77</td>\n",
       "      <td>23.4</td>\n",
       "      <td>16.38</td>\n",
       "      <td>28.08</td>\n",
       "      <td>1971-1990</td>\n",
       "      <td>meublé</td>\n",
       "      <td>4</td>\n",
       "      <td>POLYGON ((2.38323 48.86710, 2.38314 48.86708, ...</td>\n",
       "      <td>3.485188</td>\n",
       "      <td>0.806569</td>\n",
       "    </tr>\n",
       "    <tr>\n",
       "      <th>3</th>\n",
       "      <td>Amérique</td>\n",
       "      <td>75</td>\n",
       "      <td>21.2</td>\n",
       "      <td>14.84</td>\n",
       "      <td>25.44</td>\n",
       "      <td>1971-1990</td>\n",
       "      <td>non meublé</td>\n",
       "      <td>1</td>\n",
       "      <td>POLYGON ((2.40940 48.88019, 2.40995 48.87952, ...</td>\n",
       "      <td>4.643892</td>\n",
       "      <td>1.835720</td>\n",
       "    </tr>\n",
       "    <tr>\n",
       "      <th>4</th>\n",
       "      <td>Amérique</td>\n",
       "      <td>75</td>\n",
       "      <td>18.5</td>\n",
       "      <td>12.95</td>\n",
       "      <td>22.20</td>\n",
       "      <td>Apres 1990</td>\n",
       "      <td>meublé</td>\n",
       "      <td>4</td>\n",
       "      <td>POLYGON ((2.40940 48.88019, 2.40995 48.87952, ...</td>\n",
       "      <td>4.643892</td>\n",
       "      <td>1.835720</td>\n",
       "    </tr>\n",
       "  </tbody>\n",
       "</table>\n",
       "</div>"
      ],
      "text/plain": [
       "      nom_quartier  id_quartier   ref    min    max      epoque  meuble_txt  \\\n",
       "0         Amérique           75  14.6  10.22  17.52   1946-1970  non meublé   \n",
       "1  Pont-de-Flandre           74  18.5  12.95  22.20  Apres 1990      meublé   \n",
       "2       Belleville           77  23.4  16.38  28.08   1971-1990      meublé   \n",
       "3         Amérique           75  21.2  14.84  25.44   1971-1990  non meublé   \n",
       "4         Amérique           75  18.5  12.95  22.20  Apres 1990      meublé   \n",
       "\n",
       "   piece                                           geometry  \\\n",
       "0      4  POLYGON ((2.40940 48.88019, 2.40995 48.87952, ...   \n",
       "1      4  POLYGON ((2.38488 48.88663, 2.38483 48.88662, ...   \n",
       "2      4  POLYGON ((2.38323 48.86710, 2.38314 48.86708, ...   \n",
       "3      1  POLYGON ((2.40940 48.88019, 2.40995 48.87952, ...   \n",
       "4      4  POLYGON ((2.40940 48.88019, 2.40995 48.87952, ...   \n",
       "\n",
       "   distance_centre_paris  superficie_quartier  \n",
       "0               4.643892             1.835720  \n",
       "1               5.379327             2.376238  \n",
       "2               3.485188             0.806569  \n",
       "3               4.643892             1.835720  \n",
       "4               4.643892             1.835720  "
      ]
     },
     "execution_count": 16,
     "metadata": {},
     "output_type": "execute_result"
    }
   ],
   "source": [
    "donnees.head(5)"
   ]
  },
  {
   "cell_type": "markdown",
   "metadata": {},
   "source": [
    "### 3. Enrichissement des données : création d'un score lié aux stations de métro et de rer des quartiers\n",
    "\n",
    "Pour enrichir ces données et mieux comprendre l'effet du quartier sur le loyer d'un logement, on ajoute une variable `score_metro` calculée de la manière suivante :\n",
    "   - on liste les lignes distinctes de métro et de rer qui passent dans chaque quartier\n",
    "   - on attribue un score à chaque ligne, qui correspond à sa fréquentation annuelle \n",
    "   - on somme pour chaque quartier les scores de ses lignes de métro/rer\n",
    "   - Le score d'un quartier correspond alors à cette somme, divisée par la plus grande valeur attribuée à un quartier\n",
    "\n",
    "De cette manière, on obtient un score compris entre 0 et 1 pour chaque quartier.    \n",
    "\n",
    "Pour créer ce score, on récupère la liste des stations de métro et de rer de Paris, ainsi que leurs positions géographiques et leurs lignes desservies. Ces données sont récupérées sur Wikipédia par web-scraping. Pour chaque station, on récupère son nom et on se rend sur sa page Wikipédia pour récupérer ses coordonnées géographiques. Cette station est dupliquée pour chaque ligne de métro qu'elle dessert. \n",
    "\n",
    "*Les liens utilisés sont les suivants :*\n",
    "- *Pour le métro : https://fr.wikipedia.org/wiki/Liste_des_stations_du_m%C3%A9tro_de_Paris*\n",
    "- *Pour le rer : https://fr.wikipedia.org/wiki/Liste_des_gares_du_RER_d%27%C3%8Ele-de-France*"
   ]
  },
  {
   "cell_type": "code",
   "execution_count": 17,
   "metadata": {},
   "outputs": [],
   "source": [
    "# Fonction pour transformer les coordonnées récoltées (sous format DMS nord-est) en format DD :\n",
    "\n",
    "dd = lambda d,m,s : float(d) + float(m)/60 + float(s)/(60*60)\n",
    "def dms_to_dd (dms):\n",
    "    parts = re.split('[^\\d\\w]+', dms)\n",
    "    lat = dd(parts[0], parts[1], parts[2])\n",
    "    lng = dd(parts[4], parts[5], parts[6])\n",
    "    return (lat, lng)"
   ]
  },
  {
   "cell_type": "code",
   "execution_count": 18,
   "metadata": {
    "scrolled": true
   },
   "outputs": [],
   "source": [
    "#Création de la base de données des stations de métro et de rer par web scraping : \n",
    "\n",
    "nom = []\n",
    "ligne = [] \n",
    "latitude = []\n",
    "longitude = []\n",
    "\n",
    "urls = ['https://fr.wikipedia.org/wiki/Liste_des_stations_du_m%C3%A9tro_de_Paris','https://fr.wikipedia.org/wiki/Liste_des_gares_du_RER_d%27%C3%8Ele-de-France']\n",
    "\n",
    "for url in urls : \n",
    "\n",
    "    sock = urllib.request.urlopen(url).read() \n",
    "    page=bs4.BeautifulSoup(sock)\n",
    "\n",
    "    liste_stations = page.find('table').findAll('tr')\n",
    "    \n",
    "    for station in liste_stations[1:] :\n",
    "    \n",
    "        #Nom de la station :    \n",
    "        nom_station = station.find('a').text\n",
    "    \n",
    "        #Coordonnées géographiques de la station :\n",
    "        url_station = \"http://fr.wikipedia.org\"+station.find('a').get('href')\n",
    "    \n",
    "        search = urllib.request.urlopen(url_station).read()\n",
    "        search_station=bs4.BeautifulSoup(search)\n",
    "    \n",
    "        coord = search_station.find('a',{'class': \"mw-kartographer-maplink\"}).text\n",
    "        lat,lng = dms_to_dd(coord)\n",
    "    \n",
    "        #Lignes desservies par la station :    \n",
    "        lignes = station.find('span',{'style' : \"white-space:nowrap\"}).findAll('span')\n",
    "    \n",
    "        for l in lignes : \n",
    "            nom.append(nom_station)\n",
    "            ligne.append(l.get('data-sort-value'))\n",
    "            latitude.append(lat)\n",
    "            longitude.append(lng)\n",
    "            \n",
    "stations = gpd.GeoDataFrame(pd.DataFrame({'nom' : nom, 'ligne' : ligne}),geometry=gpd.points_from_xy(longitude, latitude))"
   ]
  },
  {
   "cell_type": "code",
   "execution_count": 19,
   "metadata": {},
   "outputs": [
    {
     "data": {
      "text/html": [
       "<div>\n",
       "<style scoped>\n",
       "    .dataframe tbody tr th:only-of-type {\n",
       "        vertical-align: middle;\n",
       "    }\n",
       "\n",
       "    .dataframe tbody tr th {\n",
       "        vertical-align: top;\n",
       "    }\n",
       "\n",
       "    .dataframe thead th {\n",
       "        text-align: right;\n",
       "    }\n",
       "</style>\n",
       "<table border=\"1\" class=\"dataframe\">\n",
       "  <thead>\n",
       "    <tr style=\"text-align: right;\">\n",
       "      <th></th>\n",
       "      <th>nom</th>\n",
       "      <th>ligne</th>\n",
       "      <th>geometry</th>\n",
       "    </tr>\n",
       "  </thead>\n",
       "  <tbody>\n",
       "    <tr>\n",
       "      <th>0</th>\n",
       "      <td>Abbesses</td>\n",
       "      <td>12 !</td>\n",
       "      <td>POINT (2.33861 48.88444)</td>\n",
       "    </tr>\n",
       "    <tr>\n",
       "      <th>1</th>\n",
       "      <td>Alésia</td>\n",
       "      <td>04 !</td>\n",
       "      <td>POINT (2.32667 48.82833)</td>\n",
       "    </tr>\n",
       "    <tr>\n",
       "      <th>2</th>\n",
       "      <td>Alexandre Dumas</td>\n",
       "      <td>02 !</td>\n",
       "      <td>POINT (2.39500 48.85611)</td>\n",
       "    </tr>\n",
       "    <tr>\n",
       "      <th>3</th>\n",
       "      <td>Alma - Marceau</td>\n",
       "      <td>09 !</td>\n",
       "      <td>POINT (2.30028 48.86500)</td>\n",
       "    </tr>\n",
       "    <tr>\n",
       "      <th>4</th>\n",
       "      <td>Anatole France</td>\n",
       "      <td>03 !</td>\n",
       "      <td>POINT (2.28556 48.89194)</td>\n",
       "    </tr>\n",
       "  </tbody>\n",
       "</table>\n",
       "</div>"
      ],
      "text/plain": [
       "               nom ligne                  geometry\n",
       "0         Abbesses  12 !  POINT (2.33861 48.88444)\n",
       "1           Alésia  04 !  POINT (2.32667 48.82833)\n",
       "2  Alexandre Dumas  02 !  POINT (2.39500 48.85611)\n",
       "3   Alma - Marceau  09 !  POINT (2.30028 48.86500)\n",
       "4   Anatole France  03 !  POINT (2.28556 48.89194)"
      ]
     },
     "execution_count": 19,
     "metadata": {},
     "output_type": "execute_result"
    }
   ],
   "source": [
    "stations.head(5)"
   ]
  },
  {
   "cell_type": "markdown",
   "metadata": {},
   "source": [
    "On récupère ensuite une base de données de la mairie de Paris contenant la liste de ses quartiers administratifs et leur représentation graphique :"
   ]
  },
  {
   "cell_type": "code",
   "execution_count": 20,
   "metadata": {},
   "outputs": [],
   "source": [
    "quartiers_bruts = gpd.read_file('https://parisdata.opendatasoft.com/explore/dataset/quartier_paris/download/?format=geojson&timezone=Europe/Berlin&lang=fr')\n",
    "quartiers = quartiers_bruts[['l_qu','c_qu','geometry']]  #l_qu : nom du quartier ; c_qu : numéro du quartier"
   ]
  },
  {
   "cell_type": "code",
   "execution_count": 21,
   "metadata": {},
   "outputs": [
    {
     "data": {
      "text/html": [
       "<div>\n",
       "<style scoped>\n",
       "    .dataframe tbody tr th:only-of-type {\n",
       "        vertical-align: middle;\n",
       "    }\n",
       "\n",
       "    .dataframe tbody tr th {\n",
       "        vertical-align: top;\n",
       "    }\n",
       "\n",
       "    .dataframe thead th {\n",
       "        text-align: right;\n",
       "    }\n",
       "</style>\n",
       "<table border=\"1\" class=\"dataframe\">\n",
       "  <thead>\n",
       "    <tr style=\"text-align: right;\">\n",
       "      <th></th>\n",
       "      <th>l_qu</th>\n",
       "      <th>c_qu</th>\n",
       "      <th>geometry</th>\n",
       "    </tr>\n",
       "  </thead>\n",
       "  <tbody>\n",
       "    <tr>\n",
       "      <th>0</th>\n",
       "      <td>Sainte-Avoie</td>\n",
       "      <td>12</td>\n",
       "      <td>POLYGON ((2.35822 48.86122, 2.35690 48.86007, ...</td>\n",
       "    </tr>\n",
       "    <tr>\n",
       "      <th>1</th>\n",
       "      <td>Hôpital-Saint-Louis</td>\n",
       "      <td>40</td>\n",
       "      <td>POLYGON ((2.37243 48.87611, 2.37359 48.87509, ...</td>\n",
       "    </tr>\n",
       "    <tr>\n",
       "      <th>2</th>\n",
       "      <td>Belleville</td>\n",
       "      <td>77</td>\n",
       "      <td>POLYGON ((2.38323 48.86710, 2.38314 48.86708, ...</td>\n",
       "    </tr>\n",
       "    <tr>\n",
       "      <th>3</th>\n",
       "      <td>Ternes</td>\n",
       "      <td>65</td>\n",
       "      <td>POLYGON ((2.29504 48.87378, 2.29504 48.87378, ...</td>\n",
       "    </tr>\n",
       "    <tr>\n",
       "      <th>4</th>\n",
       "      <td>Folie-Méricourt</td>\n",
       "      <td>41</td>\n",
       "      <td>POLYGON ((2.37010 48.86376, 2.36690 48.86246, ...</td>\n",
       "    </tr>\n",
       "  </tbody>\n",
       "</table>\n",
       "</div>"
      ],
      "text/plain": [
       "                  l_qu  c_qu  \\\n",
       "0         Sainte-Avoie    12   \n",
       "1  Hôpital-Saint-Louis    40   \n",
       "2           Belleville    77   \n",
       "3               Ternes    65   \n",
       "4      Folie-Méricourt    41   \n",
       "\n",
       "                                            geometry  \n",
       "0  POLYGON ((2.35822 48.86122, 2.35690 48.86007, ...  \n",
       "1  POLYGON ((2.37243 48.87611, 2.37359 48.87509, ...  \n",
       "2  POLYGON ((2.38323 48.86710, 2.38314 48.86708, ...  \n",
       "3  POLYGON ((2.29504 48.87378, 2.29504 48.87378, ...  \n",
       "4  POLYGON ((2.37010 48.86376, 2.36690 48.86246, ...  "
      ]
     },
     "execution_count": 21,
     "metadata": {},
     "output_type": "execute_result"
    }
   ],
   "source": [
    "quartiers.head(5)"
   ]
  },
  {
   "cell_type": "markdown",
   "metadata": {},
   "source": [
    "On associe ensuite à chaque station le quartier auquel elle appartient :"
   ]
  },
  {
   "cell_type": "code",
   "execution_count": 22,
   "metadata": {},
   "outputs": [
    {
     "name": "stderr",
     "output_type": "stream",
     "text": [
      "C:\\Users\\blasc\\Anaconda3\\lib\\site-packages\\geopandas\\tools\\sjoin.py:58: UserWarning: CRS of frames being joined does not match!(None != {'init': 'epsg:4326'})\n",
      "  warn(\n"
     ]
    }
   ],
   "source": [
    "stations_quartiers = gpd.sjoin(stations, quartiers, op='intersects')\n"
   ]
  },
  {
   "cell_type": "markdown",
   "metadata": {},
   "source": [
    "Il ne reste plus qu'à supprimer les doublons pour savoir quelles lignes de métro ou rer passent dans chaque quartier de Paris. "
   ]
  },
  {
   "cell_type": "code",
   "execution_count": 23,
   "metadata": {},
   "outputs": [],
   "source": [
    "lignes_quartiers = stations_quartiers[['c_qu','ligne']].drop_duplicates()"
   ]
  },
  {
   "cell_type": "code",
   "execution_count": 24,
   "metadata": {},
   "outputs": [
    {
     "data": {
      "text/html": [
       "<div>\n",
       "<style scoped>\n",
       "    .dataframe tbody tr th:only-of-type {\n",
       "        vertical-align: middle;\n",
       "    }\n",
       "\n",
       "    .dataframe tbody tr th {\n",
       "        vertical-align: top;\n",
       "    }\n",
       "\n",
       "    .dataframe thead th {\n",
       "        text-align: right;\n",
       "    }\n",
       "</style>\n",
       "<table border=\"1\" class=\"dataframe\">\n",
       "  <thead>\n",
       "    <tr style=\"text-align: right;\">\n",
       "      <th></th>\n",
       "      <th>c_qu</th>\n",
       "      <th>ligne</th>\n",
       "    </tr>\n",
       "  </thead>\n",
       "  <tbody>\n",
       "    <tr>\n",
       "      <th>346</th>\n",
       "      <td>11</td>\n",
       "      <td>08 !</td>\n",
       "    </tr>\n",
       "    <tr>\n",
       "      <th>349</th>\n",
       "      <td>7</td>\n",
       "      <td>03 !</td>\n",
       "    </tr>\n",
       "    <tr>\n",
       "      <th>361</th>\n",
       "      <td>15</td>\n",
       "      <td>07 !</td>\n",
       "    </tr>\n",
       "    <tr>\n",
       "      <th>369</th>\n",
       "      <td>4</td>\n",
       "      <td>01 !</td>\n",
       "    </tr>\n",
       "    <tr>\n",
       "      <th>453</th>\n",
       "      <td>19</td>\n",
       "      <td>B !</td>\n",
       "    </tr>\n",
       "  </tbody>\n",
       "</table>\n",
       "</div>"
      ],
      "text/plain": [
       "     c_qu ligne\n",
       "346    11  08 !\n",
       "349     7  03 !\n",
       "361    15  07 !\n",
       "369     4  01 !\n",
       "453    19   B !"
      ]
     },
     "execution_count": 24,
     "metadata": {},
     "output_type": "execute_result"
    }
   ],
   "source": [
    "lignes_quartiers.tail(5)"
   ]
  },
  {
   "cell_type": "markdown",
   "metadata": {},
   "source": [
    "Ensuite, on réalise un nouveau web scraping sur Wikipédia pour attribuer un score à chaque ligne : on va lister chaque ligne et sa fréquentation annuelle, divisée par la fréquentation annuelle la plus élevée."
   ]
  },
  {
   "cell_type": "code",
   "execution_count": 25,
   "metadata": {},
   "outputs": [],
   "source": [
    "#Pour le rer, il faut aller sur chaque page Wikipédia de la ligne. Pour aller plus vite, on le fait manuellement (il n'y a que 5 lignes) :\n",
    "\n",
    "lignes = ['A !','B !','C !','D !','E !']\n",
    "frequentation = [309.36,165.5,140,145,60] \n",
    "\n",
    "\n",
    "#Pour le métro, il existe directement un classement sur Wikipédia :\n",
    "\n",
    "sock = urllib.request.urlopen(\"https://fr.wikipedia.org/wiki/Liste_des_lignes_de_m%C3%A9tro_parisiennes_par_fr%C3%A9quentation\").read() \n",
    "page=bs4.BeautifulSoup(sock)\n",
    "\n",
    "liste_lignes = page.find('table').findAll('tr')\n",
    "\n",
    "for ligne in liste_lignes[1:] :\n",
    "    \n",
    "    freq = ligne.find('bdi')\n",
    "    \n",
    "    for sous_ligne in ligne.findAll('span') :\n",
    "        lignes.append(sous_ligne.get('data-sort-value'))\n",
    "        frequentation.append(float(freq.text.replace(',','.')))\n",
    "        \n",
    "lignes_freq = pd.DataFrame({'ligne' : lignes,'fréquentation' : frequentation})"
   ]
  },
  {
   "cell_type": "code",
   "execution_count": 27,
   "metadata": {},
   "outputs": [
    {
     "data": {
      "text/html": [
       "<div>\n",
       "<style scoped>\n",
       "    .dataframe tbody tr th:only-of-type {\n",
       "        vertical-align: middle;\n",
       "    }\n",
       "\n",
       "    .dataframe tbody tr th {\n",
       "        vertical-align: top;\n",
       "    }\n",
       "\n",
       "    .dataframe thead th {\n",
       "        text-align: right;\n",
       "    }\n",
       "</style>\n",
       "<table border=\"1\" class=\"dataframe\">\n",
       "  <thead>\n",
       "    <tr style=\"text-align: right;\">\n",
       "      <th></th>\n",
       "      <th>ligne</th>\n",
       "      <th>fréquentation</th>\n",
       "    </tr>\n",
       "  </thead>\n",
       "  <tbody>\n",
       "    <tr>\n",
       "      <th>0</th>\n",
       "      <td>A !</td>\n",
       "      <td>309.36</td>\n",
       "    </tr>\n",
       "    <tr>\n",
       "      <th>1</th>\n",
       "      <td>B !</td>\n",
       "      <td>165.50</td>\n",
       "    </tr>\n",
       "    <tr>\n",
       "      <th>2</th>\n",
       "      <td>C !</td>\n",
       "      <td>140.00</td>\n",
       "    </tr>\n",
       "    <tr>\n",
       "      <th>3</th>\n",
       "      <td>D !</td>\n",
       "      <td>145.00</td>\n",
       "    </tr>\n",
       "    <tr>\n",
       "      <th>4</th>\n",
       "      <td>E !</td>\n",
       "      <td>60.00</td>\n",
       "    </tr>\n",
       "  </tbody>\n",
       "</table>\n",
       "</div>"
      ],
      "text/plain": [
       "  ligne  fréquentation\n",
       "0   A !         309.36\n",
       "1   B !         165.50\n",
       "2   C !         140.00\n",
       "3   D !         145.00\n",
       "4   E !          60.00"
      ]
     },
     "execution_count": 27,
     "metadata": {},
     "output_type": "execute_result"
    }
   ],
   "source": [
    "lignes_freq.head(5)"
   ]
  },
  {
   "cell_type": "code",
   "execution_count": 28,
   "metadata": {},
   "outputs": [],
   "source": [
    "# Ajout du score des lignes pour chaque quartier : \n",
    "\n",
    "lignes_quartiers_freq = lignes_quartiers.merge(lignes_freq, on='ligne')"
   ]
  },
  {
   "cell_type": "code",
   "execution_count": 29,
   "metadata": {
    "scrolled": true
   },
   "outputs": [],
   "source": [
    "#Création du score des quartiers : \n",
    "\n",
    "quartiers_freq = lignes_quartiers_freq[['c_qu','fréquentation']].groupby('c_qu').sum()\n",
    "\n",
    "m = max(quartiers_freq['fréquentation'])\n",
    "\n",
    "quartiers_freq['fréquentation'] = quartiers_freq['fréquentation']/m"
   ]
  },
  {
   "cell_type": "markdown",
   "metadata": {},
   "source": [
    "Pour finir, on ajoute le score obtenu à notre base de données :"
   ]
  },
  {
   "cell_type": "code",
   "execution_count": 30,
   "metadata": {},
   "outputs": [],
   "source": [
    "donnees_augmentees = donnees.join(quartiers_freq, on='id_quartier')\n",
    "donnees_augmentees.rename(columns={'fréquentation': 'score_metro'}, inplace=True)"
   ]
  },
  {
   "cell_type": "code",
   "execution_count": 31,
   "metadata": {
    "scrolled": false
   },
   "outputs": [
    {
     "data": {
      "text/html": [
       "<div>\n",
       "<style scoped>\n",
       "    .dataframe tbody tr th:only-of-type {\n",
       "        vertical-align: middle;\n",
       "    }\n",
       "\n",
       "    .dataframe tbody tr th {\n",
       "        vertical-align: top;\n",
       "    }\n",
       "\n",
       "    .dataframe thead th {\n",
       "        text-align: right;\n",
       "    }\n",
       "</style>\n",
       "<table border=\"1\" class=\"dataframe\">\n",
       "  <thead>\n",
       "    <tr style=\"text-align: right;\">\n",
       "      <th></th>\n",
       "      <th>nom_quartier</th>\n",
       "      <th>id_quartier</th>\n",
       "      <th>ref</th>\n",
       "      <th>min</th>\n",
       "      <th>max</th>\n",
       "      <th>epoque</th>\n",
       "      <th>meuble_txt</th>\n",
       "      <th>piece</th>\n",
       "      <th>geometry</th>\n",
       "      <th>distance_centre_paris</th>\n",
       "      <th>superficie_quartier</th>\n",
       "      <th>score_metro</th>\n",
       "    </tr>\n",
       "  </thead>\n",
       "  <tbody>\n",
       "    <tr>\n",
       "      <th>0</th>\n",
       "      <td>Amérique</td>\n",
       "      <td>75</td>\n",
       "      <td>14.6</td>\n",
       "      <td>10.22</td>\n",
       "      <td>17.52</td>\n",
       "      <td>1946-1970</td>\n",
       "      <td>non meublé</td>\n",
       "      <td>4</td>\n",
       "      <td>POLYGON ((2.40940 48.88019, 2.40995 48.87952, ...</td>\n",
       "      <td>4.643892</td>\n",
       "      <td>1.835720</td>\n",
       "      <td>0.369742</td>\n",
       "    </tr>\n",
       "    <tr>\n",
       "      <th>1</th>\n",
       "      <td>Pont-de-Flandre</td>\n",
       "      <td>74</td>\n",
       "      <td>18.5</td>\n",
       "      <td>12.95</td>\n",
       "      <td>22.20</td>\n",
       "      <td>Apres 1990</td>\n",
       "      <td>meublé</td>\n",
       "      <td>4</td>\n",
       "      <td>POLYGON ((2.38488 48.88663, 2.38483 48.88662, ...</td>\n",
       "      <td>5.379327</td>\n",
       "      <td>2.376238</td>\n",
       "      <td>0.298062</td>\n",
       "    </tr>\n",
       "    <tr>\n",
       "      <th>2</th>\n",
       "      <td>Belleville</td>\n",
       "      <td>77</td>\n",
       "      <td>23.4</td>\n",
       "      <td>16.38</td>\n",
       "      <td>28.08</td>\n",
       "      <td>1971-1990</td>\n",
       "      <td>meublé</td>\n",
       "      <td>4</td>\n",
       "      <td>POLYGON ((2.38323 48.86710, 2.38314 48.86708, ...</td>\n",
       "      <td>3.485188</td>\n",
       "      <td>0.806569</td>\n",
       "      <td>0.038651</td>\n",
       "    </tr>\n",
       "    <tr>\n",
       "      <th>3</th>\n",
       "      <td>Amérique</td>\n",
       "      <td>75</td>\n",
       "      <td>21.2</td>\n",
       "      <td>14.84</td>\n",
       "      <td>25.44</td>\n",
       "      <td>1971-1990</td>\n",
       "      <td>non meublé</td>\n",
       "      <td>1</td>\n",
       "      <td>POLYGON ((2.40940 48.88019, 2.40995 48.87952, ...</td>\n",
       "      <td>4.643892</td>\n",
       "      <td>1.835720</td>\n",
       "      <td>0.369742</td>\n",
       "    </tr>\n",
       "    <tr>\n",
       "      <th>4</th>\n",
       "      <td>Amérique</td>\n",
       "      <td>75</td>\n",
       "      <td>18.5</td>\n",
       "      <td>12.95</td>\n",
       "      <td>22.20</td>\n",
       "      <td>Apres 1990</td>\n",
       "      <td>meublé</td>\n",
       "      <td>4</td>\n",
       "      <td>POLYGON ((2.40940 48.88019, 2.40995 48.87952, ...</td>\n",
       "      <td>4.643892</td>\n",
       "      <td>1.835720</td>\n",
       "      <td>0.369742</td>\n",
       "    </tr>\n",
       "  </tbody>\n",
       "</table>\n",
       "</div>"
      ],
      "text/plain": [
       "      nom_quartier  id_quartier   ref    min    max      epoque  meuble_txt  \\\n",
       "0         Amérique           75  14.6  10.22  17.52   1946-1970  non meublé   \n",
       "1  Pont-de-Flandre           74  18.5  12.95  22.20  Apres 1990      meublé   \n",
       "2       Belleville           77  23.4  16.38  28.08   1971-1990      meublé   \n",
       "3         Amérique           75  21.2  14.84  25.44   1971-1990  non meublé   \n",
       "4         Amérique           75  18.5  12.95  22.20  Apres 1990      meublé   \n",
       "\n",
       "   piece                                           geometry  \\\n",
       "0      4  POLYGON ((2.40940 48.88019, 2.40995 48.87952, ...   \n",
       "1      4  POLYGON ((2.38488 48.88663, 2.38483 48.88662, ...   \n",
       "2      4  POLYGON ((2.38323 48.86710, 2.38314 48.86708, ...   \n",
       "3      1  POLYGON ((2.40940 48.88019, 2.40995 48.87952, ...   \n",
       "4      4  POLYGON ((2.40940 48.88019, 2.40995 48.87952, ...   \n",
       "\n",
       "   distance_centre_paris  superficie_quartier  score_metro  \n",
       "0               4.643892             1.835720     0.369742  \n",
       "1               5.379327             2.376238     0.298062  \n",
       "2               3.485188             0.806569     0.038651  \n",
       "3               4.643892             1.835720     0.369742  \n",
       "4               4.643892             1.835720     0.369742  "
      ]
     },
     "execution_count": 31,
     "metadata": {},
     "output_type": "execute_result"
    }
   ],
   "source": [
    "donnees_augmentees.head(5)"
   ]
  },
  {
   "cell_type": "markdown",
   "metadata": {},
   "source": [
    "### Eventuelles limites de ce score : \n",
    "\n",
    "On a ici créer par nous mêmes un score pour chaque quartier, d'autant plus élévé que les lignes de métro et rer qui passent dans un quartier sont nombreuses et importantes en termes de fréquentation.\n",
    "\n",
    "Cependant, il convient de noter les éventuelles limites de ce score : \n",
    "- on ne prend pas en compte les stations de vélib et autres transports\n",
    "- les quartiers ont des tailles très diverses : les grands quartiers aux extrémités ouest et est de Paris ne sont donc pas forcément très bien représentés en termes de transports via seulement le métro et le rer. On constate sur le graphique suivant qu'une majorité de la superficie de ces quartiers n'est pas désservie par le métro ou le rer.\n",
    "- on ne regarde ici que les lignes qui passent dans un quartier. Mais, pour les petits quartiers du centre de Paris par exemple, il est très facile d'accéder sans trop de temps aux stations des quartiers voisins. Pour les plus grand quartiers, si l'on habite proche des frontières on peut par exemple préférer les stations du quartier d'à côté, plus proches, que les stations à l'autre bout de son propre quartier. "
   ]
  },
  {
   "cell_type": "code",
   "execution_count": 36,
   "metadata": {},
   "outputs": [
    {
     "data": {
      "image/png": "[encoded data removed]",
      "text/plain": [
       "<Figure size 720x720 with 1 Axes>"
      ]
     },
     "metadata": {
      "needs_background": "light"
     },
     "output_type": "display_data"
    }
   ],
   "source": [
    "axi = stations_quartiers.plot(figsize = (10,10), color = 'red', alpha = 0.4, zorder=2)\n",
    "quartiers.plot(ax = axi, zorder=1, edgecolor = \"black\", facecolor=\"none\",\n",
    "                                                           color = None)\n",
    "plt.title(\"Stations de rer et de métro considérées pour réaliser le score des quartiers parisiens\")\n",
    "plt.show()"
   ]
  },
  {
   "cell_type": "markdown",
   "metadata": {},
   "source": [
    "## Partie 2 - Analyse descriptive et représentation graphique\n",
    "*Les lignes de code qui suivent peuvent être trouvées dans le dossier `...` du dépôt git*"
   ]
  },
  {
   "cell_type": "code",
   "execution_count": null,
   "metadata": {},
   "outputs": [],
   "source": []
  }
 ],
 "metadata": {
  "kernelspec": {
   "display_name": "Python 3",
   "language": "python",
   "name": "python3"
  },
  "language_info": {
   "codemirror_mode": {
    "name": "ipython",
    "version": 3
   },
   "file_extension": ".py",
   "mimetype": "text/x-python",
   "name": "python",
   "nbconvert_exporter": "python",
   "pygments_lexer": "ipython3",
   "version": "3.8.3"
  }
 },
 "nbformat": 4,
 "nbformat_minor": 4
}
