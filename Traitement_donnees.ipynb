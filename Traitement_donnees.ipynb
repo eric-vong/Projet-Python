{
 "cells": [
  {
   "cell_type": "markdown",
   "metadata": {},
   "source": [
    "# Récupération et traitement des données"
   ]
  },
  {
   "cell_type": "code",
   "execution_count": 1,
   "metadata": {},
   "outputs": [],
   "source": [
    "import re\n",
    "import urllib\n",
    "import pandas as pd\n",
    "import geopandas as gpd\n",
    "import bs4 "
   ]
  },
  {
   "cell_type": "markdown",
   "metadata": {},
   "source": [
    "## 1. Récupération des données de la mairie de Paris concernant l'encadrement des loyers\n",
    "\n",
    "La mairie de Paris a mis en ligne une base de données concernant l'encadrement des loyers de ses logements en 2019. On y trouve une classification des logements, selon leur secteur de localisation (quartier administratif) et leur type (nombre de pièces, époque de construction, ...), accompagnée de leurs loyers de référence. \n",
    "\n",
    "Lien contenant les informations sur ces données : https://opendata.paris.fr/explore/dataset/logement-encadrement-des-loyers/information/?disjunctive.id_zone&disjunctive.nom_quartier&disjunctive.piece&disjunctive.epoque&disjunctive.meuble_txt&sort=-id_zone&location=15,48.84958,2.34691&basemap=jawg.streets"
   ]
  },
  {
   "cell_type": "code",
   "execution_count": 2,
   "metadata": {},
   "outputs": [],
   "source": [
    "donnees_brutes = gpd.read_file('https://opendata.paris.fr/explore/dataset/logement-encadrement-des-loyers/download/?format=geojson&timezone=Europe/Berlin&lang=fr')"
   ]
  },
  {
   "cell_type": "code",
   "execution_count": 3,
   "metadata": {
    "scrolled": false
   },
   "outputs": [
    {
     "data": {
      "text/html": [
       "<div>\n",
       "<style scoped>\n",
       "    .dataframe tbody tr th:only-of-type {\n",
       "        vertical-align: middle;\n",
       "    }\n",
       "\n",
       "    .dataframe tbody tr th {\n",
       "        vertical-align: top;\n",
       "    }\n",
       "\n",
       "    .dataframe thead th {\n",
       "        text-align: right;\n",
       "    }\n",
       "</style>\n",
       "<table border=\"1\" class=\"dataframe\">\n",
       "  <thead>\n",
       "    <tr style=\"text-align: right;\">\n",
       "      <th></th>\n",
       "      <th>ville</th>\n",
       "      <th>epoque</th>\n",
       "      <th>meuble_txt</th>\n",
       "      <th>max</th>\n",
       "      <th>min</th>\n",
       "      <th>code_grand_quartier</th>\n",
       "      <th>nom_quartier</th>\n",
       "      <th>id_quartier</th>\n",
       "      <th>piece</th>\n",
       "      <th>ref</th>\n",
       "      <th>annee</th>\n",
       "      <th>id_zone</th>\n",
       "      <th>geometry</th>\n",
       "    </tr>\n",
       "  </thead>\n",
       "  <tbody>\n",
       "    <tr>\n",
       "      <th>0</th>\n",
       "      <td>PARIS</td>\n",
       "      <td>Avant 1946</td>\n",
       "      <td>meublé</td>\n",
       "      <td>27.24</td>\n",
       "      <td>15.89</td>\n",
       "      <td>7511974</td>\n",
       "      <td>Pont-de-Flandre</td>\n",
       "      <td>74</td>\n",
       "      <td>4</td>\n",
       "      <td>22.7</td>\n",
       "      <td>2020</td>\n",
       "      <td>13</td>\n",
       "      <td>POLYGON ((2.38488 48.88663, 2.38483 48.88662, ...</td>\n",
       "    </tr>\n",
       "    <tr>\n",
       "      <th>1</th>\n",
       "      <td>PARIS</td>\n",
       "      <td>Avant 1946</td>\n",
       "      <td>meublé</td>\n",
       "      <td>27.84</td>\n",
       "      <td>16.24</td>\n",
       "      <td>7511976</td>\n",
       "      <td>Combat</td>\n",
       "      <td>76</td>\n",
       "      <td>3</td>\n",
       "      <td>23.2</td>\n",
       "      <td>2020</td>\n",
       "      <td>14</td>\n",
       "      <td>POLYGON ((2.38834 48.88057, 2.38950 48.87955, ...</td>\n",
       "    </tr>\n",
       "    <tr>\n",
       "      <th>2</th>\n",
       "      <td>PARIS</td>\n",
       "      <td>1971-1990</td>\n",
       "      <td>non meublé</td>\n",
       "      <td>27.72</td>\n",
       "      <td>16.17</td>\n",
       "      <td>7511976</td>\n",
       "      <td>Combat</td>\n",
       "      <td>76</td>\n",
       "      <td>1</td>\n",
       "      <td>23.1</td>\n",
       "      <td>2020</td>\n",
       "      <td>14</td>\n",
       "      <td>POLYGON ((2.38834 48.88057, 2.38950 48.87955, ...</td>\n",
       "    </tr>\n",
       "    <tr>\n",
       "      <th>3</th>\n",
       "      <td>PARIS</td>\n",
       "      <td>Avant 1946</td>\n",
       "      <td>meublé</td>\n",
       "      <td>30.00</td>\n",
       "      <td>17.50</td>\n",
       "      <td>7511973</td>\n",
       "      <td>Villette</td>\n",
       "      <td>73</td>\n",
       "      <td>2</td>\n",
       "      <td>25.0</td>\n",
       "      <td>2020</td>\n",
       "      <td>13</td>\n",
       "      <td>POLYGON ((2.37050 48.87820, 2.37028 48.87799, ...</td>\n",
       "    </tr>\n",
       "    <tr>\n",
       "      <th>4</th>\n",
       "      <td>PARIS</td>\n",
       "      <td>Apres 1990</td>\n",
       "      <td>non meublé</td>\n",
       "      <td>19.68</td>\n",
       "      <td>11.48</td>\n",
       "      <td>7511975</td>\n",
       "      <td>Amérique</td>\n",
       "      <td>75</td>\n",
       "      <td>4</td>\n",
       "      <td>16.4</td>\n",
       "      <td>2020</td>\n",
       "      <td>13</td>\n",
       "      <td>POLYGON ((2.40940 48.88019, 2.40995 48.87952, ...</td>\n",
       "    </tr>\n",
       "  </tbody>\n",
       "</table>\n",
       "</div>"
      ],
      "text/plain": [
       "   ville      epoque  meuble_txt    max    min  code_grand_quartier  \\\n",
       "0  PARIS  Avant 1946      meublé  27.24  15.89              7511974   \n",
       "1  PARIS  Avant 1946      meublé  27.84  16.24              7511976   \n",
       "2  PARIS   1971-1990  non meublé  27.72  16.17              7511976   \n",
       "3  PARIS  Avant 1946      meublé  30.00  17.50              7511973   \n",
       "4  PARIS  Apres 1990  non meublé  19.68  11.48              7511975   \n",
       "\n",
       "      nom_quartier  id_quartier  piece   ref  annee  id_zone  \\\n",
       "0  Pont-de-Flandre           74      4  22.7   2020       13   \n",
       "1           Combat           76      3  23.2   2020       14   \n",
       "2           Combat           76      1  23.1   2020       14   \n",
       "3         Villette           73      2  25.0   2020       13   \n",
       "4         Amérique           75      4  16.4   2020       13   \n",
       "\n",
       "                                            geometry  \n",
       "0  POLYGON ((2.38488 48.88663, 2.38483 48.88662, ...  \n",
       "1  POLYGON ((2.38834 48.88057, 2.38950 48.87955, ...  \n",
       "2  POLYGON ((2.38834 48.88057, 2.38950 48.87955, ...  \n",
       "3  POLYGON ((2.37050 48.87820, 2.37028 48.87799, ...  \n",
       "4  POLYGON ((2.40940 48.88019, 2.40995 48.87952, ...  "
      ]
     },
     "execution_count": 3,
     "metadata": {},
     "output_type": "execute_result"
    }
   ],
   "source": [
    "donnees_brutes.head(5)"
   ]
  },
  {
   "cell_type": "markdown",
   "metadata": {},
   "source": [
    "On peut ne sélectionner que les colonnes qui nous intérèssent : \n",
    "- `nom_quartier` et `id_quartier` : nom et id du quartier (administratif)\n",
    "- `ref` : loyer de référence (encadrement : `min` et `max`)\n",
    "- `epoque` : époque de construction de l'appartement\n",
    "- `meuble_txt` : location en tant que logement meublé ou non-meublé\n",
    "- `piece` : nombre de pièces\n",
    "- `geometry` : représentation graphique du quartier."
   ]
  },
  {
   "cell_type": "code",
   "execution_count": 5,
   "metadata": {},
   "outputs": [],
   "source": [
    "donnees = donnees_brutes[['nom_quartier','id_quartier','ref','min','max','epoque','meuble_txt','piece','geometry']]"
   ]
  },
  {
   "cell_type": "code",
   "execution_count": 5,
   "metadata": {},
   "outputs": [
    {
     "data": {
      "text/html": [
       "<div>\n",
       "<style scoped>\n",
       "    .dataframe tbody tr th:only-of-type {\n",
       "        vertical-align: middle;\n",
       "    }\n",
       "\n",
       "    .dataframe tbody tr th {\n",
       "        vertical-align: top;\n",
       "    }\n",
       "\n",
       "    .dataframe thead th {\n",
       "        text-align: right;\n",
       "    }\n",
       "</style>\n",
       "<table border=\"1\" class=\"dataframe\">\n",
       "  <thead>\n",
       "    <tr style=\"text-align: right;\">\n",
       "      <th></th>\n",
       "      <th>nom_quartier</th>\n",
       "      <th>id_quartier</th>\n",
       "      <th>ref</th>\n",
       "      <th>min</th>\n",
       "      <th>max</th>\n",
       "      <th>epoque</th>\n",
       "      <th>meuble_txt</th>\n",
       "      <th>piece</th>\n",
       "      <th>geometry</th>\n",
       "    </tr>\n",
       "  </thead>\n",
       "  <tbody>\n",
       "    <tr>\n",
       "      <th>0</th>\n",
       "      <td>Plaisance</td>\n",
       "      <td>56</td>\n",
       "      <td>22.5</td>\n",
       "      <td>15.75</td>\n",
       "      <td>27.00</td>\n",
       "      <td>Avant 1946</td>\n",
       "      <td>meublé</td>\n",
       "      <td>4</td>\n",
       "      <td>POLYGON ((2.32113 48.83990, 2.32137 48.83978, ...</td>\n",
       "    </tr>\n",
       "    <tr>\n",
       "      <th>1</th>\n",
       "      <td>Parc-de-Montsouris</td>\n",
       "      <td>54</td>\n",
       "      <td>21.4</td>\n",
       "      <td>14.98</td>\n",
       "      <td>25.68</td>\n",
       "      <td>1946-1970</td>\n",
       "      <td>meublé</td>\n",
       "      <td>3</td>\n",
       "      <td>POLYGON ((2.34400 48.81613, 2.34397 48.81577, ...</td>\n",
       "    </tr>\n",
       "    <tr>\n",
       "      <th>2</th>\n",
       "      <td>Saint-Lambert</td>\n",
       "      <td>57</td>\n",
       "      <td>26.6</td>\n",
       "      <td>18.62</td>\n",
       "      <td>31.92</td>\n",
       "      <td>Apres 1990</td>\n",
       "      <td>meublé</td>\n",
       "      <td>3</td>\n",
       "      <td>POLYGON ((2.30425 48.84041, 2.30497 48.84061, ...</td>\n",
       "    </tr>\n",
       "    <tr>\n",
       "      <th>3</th>\n",
       "      <td>Grenelle</td>\n",
       "      <td>59</td>\n",
       "      <td>24.1</td>\n",
       "      <td>16.87</td>\n",
       "      <td>28.92</td>\n",
       "      <td>Avant 1946</td>\n",
       "      <td>non meublé</td>\n",
       "      <td>2</td>\n",
       "      <td>POLYGON ((2.30088 48.85118, 2.30088 48.85118, ...</td>\n",
       "    </tr>\n",
       "    <tr>\n",
       "      <th>4</th>\n",
       "      <td>Auteuil</td>\n",
       "      <td>61</td>\n",
       "      <td>27.8</td>\n",
       "      <td>19.46</td>\n",
       "      <td>33.36</td>\n",
       "      <td>Apres 1990</td>\n",
       "      <td>meublé</td>\n",
       "      <td>3</td>\n",
       "      <td>POLYGON ((2.24922 48.85783, 2.24959 48.85782, ...</td>\n",
       "    </tr>\n",
       "  </tbody>\n",
       "</table>\n",
       "</div>"
      ],
      "text/plain": [
       "         nom_quartier  id_quartier   ref    min    max      epoque  \\\n",
       "0           Plaisance           56  22.5  15.75  27.00  Avant 1946   \n",
       "1  Parc-de-Montsouris           54  21.4  14.98  25.68   1946-1970   \n",
       "2       Saint-Lambert           57  26.6  18.62  31.92  Apres 1990   \n",
       "3            Grenelle           59  24.1  16.87  28.92  Avant 1946   \n",
       "4             Auteuil           61  27.8  19.46  33.36  Apres 1990   \n",
       "\n",
       "   meuble_txt  piece                                           geometry  \n",
       "0      meublé      4  POLYGON ((2.32113 48.83990, 2.32137 48.83978, ...  \n",
       "1      meublé      3  POLYGON ((2.34400 48.81613, 2.34397 48.81577, ...  \n",
       "2      meublé      3  POLYGON ((2.30425 48.84041, 2.30497 48.84061, ...  \n",
       "3  non meublé      2  POLYGON ((2.30088 48.85118, 2.30088 48.85118, ...  \n",
       "4      meublé      3  POLYGON ((2.24922 48.85783, 2.24959 48.85782, ...  "
      ]
     },
     "execution_count": 5,
     "metadata": {},
     "output_type": "execute_result"
    }
   ],
   "source": [
    "donnees.head(5)"
   ]
  },
  {
   "cell_type": "markdown",
   "metadata": {},
   "source": [
    "Cette base de données référence 2560 appartements. On constate qu'il n'y a pas de valeurs manquantes :"
   ]
  },
  {
   "cell_type": "code",
   "execution_count": 6,
   "metadata": {},
   "outputs": [
    {
     "data": {
      "text/plain": [
       "nom_quartier    2560\n",
       "id_quartier     2560\n",
       "ref             2560\n",
       "min             2560\n",
       "max             2560\n",
       "epoque          2560\n",
       "meuble_txt      2560\n",
       "piece           2560\n",
       "geometry        2560\n",
       "dtype: int64"
      ]
     },
     "execution_count": 6,
     "metadata": {},
     "output_type": "execute_result"
    }
   ],
   "source": [
    "donnees.count()"
   ]
  },
  {
   "cell_type": "markdown",
   "metadata": {},
   "source": [
    "## 2. Enrichissement des données : superficie des quartiers et distance au centre de Paris\n"
   ]
  },
  {
   "cell_type": "code",
   "execution_count": 56,
   "metadata": {},
   "outputs": [
    {
     "data": {
      "text/plain": [
       "{'init': 'epsg:4326'}"
      ]
     },
     "execution_count": 56,
     "metadata": {},
     "output_type": "execute_result"
    }
   ],
   "source": [
    "donnees.crs"
   ]
  },
  {
   "cell_type": "markdown",
   "metadata": {},
   "source": [
    "On va devoir faire en sorte d'utiliser le système de projection epsg 2154 dans la suite pour pouvoir obtenir des distances en mètre et des aires en mètres carrés."
   ]
  },
  {
   "cell_type": "markdown",
   "metadata": {},
   "source": [
    "- On ajoute la distance (du centre du quartier) au centre de Paris (intuition : plus un bien est proche du centre de Paris, plus il est convoité et donc valorisé) :"
   ]
  },
  {
   "cell_type": "code",
   "execution_count": 57,
   "metadata": {},
   "outputs": [],
   "source": [
    "#Centres des quartiers :\n",
    "\n",
    "df = donnees.centroid \n",
    "df = df.to_crs(epsg=2154)"
   ]
  },
  {
   "cell_type": "code",
   "execution_count": 58,
   "metadata": {},
   "outputs": [],
   "source": [
    "#Centre de Paris (coordonnées trouvées sur internet): \n",
    "\n",
    "longitude = [2.3488 for i in range(2560)]\n",
    "latitude = [48.8534 for i in range(2560)]\n",
    "\n",
    "df2 = gpd.GeoDataFrame(geometry = gpd.points_from_xy(longitude, latitude),crs={'init': 'epsg:4326'})\n",
    "df2 = df2.to_crs(epsg=2154)"
   ]
  },
  {
   "cell_type": "code",
   "execution_count": 72,
   "metadata": {},
   "outputs": [],
   "source": [
    "distances = pd.DataFrame(df.distance(df2)*10**(-3),columns=[\"distance_centre_paris\"])  #la multiplication par 10^3 convertit les mètres en kms"
   ]
  },
  {
   "cell_type": "code",
   "execution_count": 73,
   "metadata": {},
   "outputs": [
    {
     "data": {
      "text/html": [
       "<div>\n",
       "<style scoped>\n",
       "    .dataframe tbody tr th:only-of-type {\n",
       "        vertical-align: middle;\n",
       "    }\n",
       "\n",
       "    .dataframe tbody tr th {\n",
       "        vertical-align: top;\n",
       "    }\n",
       "\n",
       "    .dataframe thead th {\n",
       "        text-align: right;\n",
       "    }\n",
       "</style>\n",
       "<table border=\"1\" class=\"dataframe\">\n",
       "  <thead>\n",
       "    <tr style=\"text-align: right;\">\n",
       "      <th></th>\n",
       "      <th>distance_centre_paris</th>\n",
       "    </tr>\n",
       "  </thead>\n",
       "  <tbody>\n",
       "    <tr>\n",
       "      <th>0</th>\n",
       "      <td>5.379327</td>\n",
       "    </tr>\n",
       "    <tr>\n",
       "      <th>1</th>\n",
       "      <td>3.627396</td>\n",
       "    </tr>\n",
       "    <tr>\n",
       "      <th>2</th>\n",
       "      <td>3.627396</td>\n",
       "    </tr>\n",
       "    <tr>\n",
       "      <th>3</th>\n",
       "      <td>4.249599</td>\n",
       "    </tr>\n",
       "    <tr>\n",
       "      <th>4</th>\n",
       "      <td>4.643892</td>\n",
       "    </tr>\n",
       "  </tbody>\n",
       "</table>\n",
       "</div>"
      ],
      "text/plain": [
       "   distance_centre_paris\n",
       "0               5.379327\n",
       "1               3.627396\n",
       "2               3.627396\n",
       "3               4.249599\n",
       "4               4.643892"
      ]
     },
     "execution_count": 73,
     "metadata": {},
     "output_type": "execute_result"
    }
   ],
   "source": [
    "distances.head(5)"
   ]
  },
  {
   "cell_type": "code",
   "execution_count": 74,
   "metadata": {},
   "outputs": [],
   "source": [
    "donnees = donnees.join(distances)"
   ]
  },
  {
   "cell_type": "code",
   "execution_count": 75,
   "metadata": {},
   "outputs": [
    {
     "data": {
      "text/html": [
       "<div>\n",
       "<style scoped>\n",
       "    .dataframe tbody tr th:only-of-type {\n",
       "        vertical-align: middle;\n",
       "    }\n",
       "\n",
       "    .dataframe tbody tr th {\n",
       "        vertical-align: top;\n",
       "    }\n",
       "\n",
       "    .dataframe thead th {\n",
       "        text-align: right;\n",
       "    }\n",
       "</style>\n",
       "<table border=\"1\" class=\"dataframe\">\n",
       "  <thead>\n",
       "    <tr style=\"text-align: right;\">\n",
       "      <th></th>\n",
       "      <th>nom_quartier</th>\n",
       "      <th>id_quartier</th>\n",
       "      <th>ref</th>\n",
       "      <th>min</th>\n",
       "      <th>max</th>\n",
       "      <th>epoque</th>\n",
       "      <th>meuble_txt</th>\n",
       "      <th>piece</th>\n",
       "      <th>geometry</th>\n",
       "      <th>superficie_quartier</th>\n",
       "      <th>0</th>\n",
       "      <th>distance_centre_paris</th>\n",
       "    </tr>\n",
       "  </thead>\n",
       "  <tbody>\n",
       "    <tr>\n",
       "      <th>0</th>\n",
       "      <td>Pont-de-Flandre</td>\n",
       "      <td>74</td>\n",
       "      <td>22.7</td>\n",
       "      <td>15.89</td>\n",
       "      <td>27.24</td>\n",
       "      <td>Avant 1946</td>\n",
       "      <td>meublé</td>\n",
       "      <td>4</td>\n",
       "      <td>POLYGON ((2.38488 48.88663, 2.38483 48.88662, ...</td>\n",
       "      <td>0.000291</td>\n",
       "      <td>5.379327</td>\n",
       "      <td>5.379327</td>\n",
       "    </tr>\n",
       "    <tr>\n",
       "      <th>1</th>\n",
       "      <td>Combat</td>\n",
       "      <td>76</td>\n",
       "      <td>23.2</td>\n",
       "      <td>16.24</td>\n",
       "      <td>27.84</td>\n",
       "      <td>Avant 1946</td>\n",
       "      <td>meublé</td>\n",
       "      <td>3</td>\n",
       "      <td>POLYGON ((2.38834 48.88057, 2.38950 48.87955, ...</td>\n",
       "      <td>0.000159</td>\n",
       "      <td>3.627396</td>\n",
       "      <td>3.627396</td>\n",
       "    </tr>\n",
       "    <tr>\n",
       "      <th>2</th>\n",
       "      <td>Combat</td>\n",
       "      <td>76</td>\n",
       "      <td>23.1</td>\n",
       "      <td>16.17</td>\n",
       "      <td>27.72</td>\n",
       "      <td>1971-1990</td>\n",
       "      <td>non meublé</td>\n",
       "      <td>1</td>\n",
       "      <td>POLYGON ((2.38834 48.88057, 2.38950 48.87955, ...</td>\n",
       "      <td>0.000159</td>\n",
       "      <td>3.627396</td>\n",
       "      <td>3.627396</td>\n",
       "    </tr>\n",
       "    <tr>\n",
       "      <th>3</th>\n",
       "      <td>Villette</td>\n",
       "      <td>73</td>\n",
       "      <td>25.0</td>\n",
       "      <td>17.50</td>\n",
       "      <td>30.00</td>\n",
       "      <td>Avant 1946</td>\n",
       "      <td>meublé</td>\n",
       "      <td>2</td>\n",
       "      <td>POLYGON ((2.37050 48.87820, 2.37028 48.87799, ...</td>\n",
       "      <td>0.000158</td>\n",
       "      <td>4.249599</td>\n",
       "      <td>4.249599</td>\n",
       "    </tr>\n",
       "    <tr>\n",
       "      <th>4</th>\n",
       "      <td>Amérique</td>\n",
       "      <td>75</td>\n",
       "      <td>16.4</td>\n",
       "      <td>11.48</td>\n",
       "      <td>19.68</td>\n",
       "      <td>Apres 1990</td>\n",
       "      <td>non meublé</td>\n",
       "      <td>4</td>\n",
       "      <td>POLYGON ((2.40940 48.88019, 2.40995 48.87952, ...</td>\n",
       "      <td>0.000225</td>\n",
       "      <td>4.643892</td>\n",
       "      <td>4.643892</td>\n",
       "    </tr>\n",
       "  </tbody>\n",
       "</table>\n",
       "</div>"
      ],
      "text/plain": [
       "      nom_quartier  id_quartier   ref    min    max      epoque  meuble_txt  \\\n",
       "0  Pont-de-Flandre           74  22.7  15.89  27.24  Avant 1946      meublé   \n",
       "1           Combat           76  23.2  16.24  27.84  Avant 1946      meublé   \n",
       "2           Combat           76  23.1  16.17  27.72   1971-1990  non meublé   \n",
       "3         Villette           73  25.0  17.50  30.00  Avant 1946      meublé   \n",
       "4         Amérique           75  16.4  11.48  19.68  Apres 1990  non meublé   \n",
       "\n",
       "   piece                                           geometry  \\\n",
       "0      4  POLYGON ((2.38488 48.88663, 2.38483 48.88662, ...   \n",
       "1      3  POLYGON ((2.38834 48.88057, 2.38950 48.87955, ...   \n",
       "2      1  POLYGON ((2.38834 48.88057, 2.38950 48.87955, ...   \n",
       "3      2  POLYGON ((2.37050 48.87820, 2.37028 48.87799, ...   \n",
       "4      4  POLYGON ((2.40940 48.88019, 2.40995 48.87952, ...   \n",
       "\n",
       "   superficie_quartier         0  distance_centre_paris  \n",
       "0             0.000291  5.379327               5.379327  \n",
       "1             0.000159  3.627396               3.627396  \n",
       "2             0.000159  3.627396               3.627396  \n",
       "3             0.000158  4.249599               4.249599  \n",
       "4             0.000225  4.643892               4.643892  "
      ]
     },
     "execution_count": 75,
     "metadata": {},
     "output_type": "execute_result"
    }
   ],
   "source": [
    "donnees.head(5)"
   ]
  },
  {
   "cell_type": "markdown",
   "metadata": {},
   "source": [
    "- On ajoute la superficie de chaque quartier (intuition : plus un quartier est petit plus l'offre de logements est restreinte et les biens sont valorisés) :"
   ]
  },
  {
   "cell_type": "code",
   "execution_count": 77,
   "metadata": {},
   "outputs": [],
   "source": [
    "df3 = donnees.geometry\n",
    "df3 = df3.to_crs(epsg=2154)"
   ]
  },
  {
   "cell_type": "code",
   "execution_count": 83,
   "metadata": {},
   "outputs": [],
   "source": [
    "donnees['superficie_quartier'] = df3.area.div(10**6)  #La division convertit les m² en km²"
   ]
  },
  {
   "cell_type": "code",
   "execution_count": 84,
   "metadata": {},
   "outputs": [
    {
     "data": {
      "text/html": [
       "<div>\n",
       "<style scoped>\n",
       "    .dataframe tbody tr th:only-of-type {\n",
       "        vertical-align: middle;\n",
       "    }\n",
       "\n",
       "    .dataframe tbody tr th {\n",
       "        vertical-align: top;\n",
       "    }\n",
       "\n",
       "    .dataframe thead th {\n",
       "        text-align: right;\n",
       "    }\n",
       "</style>\n",
       "<table border=\"1\" class=\"dataframe\">\n",
       "  <thead>\n",
       "    <tr style=\"text-align: right;\">\n",
       "      <th></th>\n",
       "      <th>nom_quartier</th>\n",
       "      <th>id_quartier</th>\n",
       "      <th>ref</th>\n",
       "      <th>min</th>\n",
       "      <th>max</th>\n",
       "      <th>epoque</th>\n",
       "      <th>meuble_txt</th>\n",
       "      <th>piece</th>\n",
       "      <th>geometry</th>\n",
       "      <th>superficie_quartier</th>\n",
       "      <th>0</th>\n",
       "      <th>distance_centre_paris</th>\n",
       "      <th>superficie2_quartier</th>\n",
       "    </tr>\n",
       "  </thead>\n",
       "  <tbody>\n",
       "    <tr>\n",
       "      <th>0</th>\n",
       "      <td>Pont-de-Flandre</td>\n",
       "      <td>74</td>\n",
       "      <td>22.7</td>\n",
       "      <td>15.89</td>\n",
       "      <td>27.24</td>\n",
       "      <td>Avant 1946</td>\n",
       "      <td>meublé</td>\n",
       "      <td>4</td>\n",
       "      <td>POLYGON ((2.38488 48.88663, 2.38483 48.88662, ...</td>\n",
       "      <td>2.376238</td>\n",
       "      <td>5.379327</td>\n",
       "      <td>5.379327</td>\n",
       "      <td>2.376238</td>\n",
       "    </tr>\n",
       "    <tr>\n",
       "      <th>1</th>\n",
       "      <td>Combat</td>\n",
       "      <td>76</td>\n",
       "      <td>23.2</td>\n",
       "      <td>16.24</td>\n",
       "      <td>27.84</td>\n",
       "      <td>Avant 1946</td>\n",
       "      <td>meublé</td>\n",
       "      <td>3</td>\n",
       "      <td>POLYGON ((2.38834 48.88057, 2.38950 48.87955, ...</td>\n",
       "      <td>1.294988</td>\n",
       "      <td>3.627396</td>\n",
       "      <td>3.627396</td>\n",
       "      <td>1.294988</td>\n",
       "    </tr>\n",
       "    <tr>\n",
       "      <th>2</th>\n",
       "      <td>Combat</td>\n",
       "      <td>76</td>\n",
       "      <td>23.1</td>\n",
       "      <td>16.17</td>\n",
       "      <td>27.72</td>\n",
       "      <td>1971-1990</td>\n",
       "      <td>non meublé</td>\n",
       "      <td>1</td>\n",
       "      <td>POLYGON ((2.38834 48.88057, 2.38950 48.87955, ...</td>\n",
       "      <td>1.294988</td>\n",
       "      <td>3.627396</td>\n",
       "      <td>3.627396</td>\n",
       "      <td>1.294988</td>\n",
       "    </tr>\n",
       "    <tr>\n",
       "      <th>3</th>\n",
       "      <td>Villette</td>\n",
       "      <td>73</td>\n",
       "      <td>25.0</td>\n",
       "      <td>17.50</td>\n",
       "      <td>30.00</td>\n",
       "      <td>Avant 1946</td>\n",
       "      <td>meublé</td>\n",
       "      <td>2</td>\n",
       "      <td>POLYGON ((2.37050 48.87820, 2.37028 48.87799, ...</td>\n",
       "      <td>1.285705</td>\n",
       "      <td>4.249599</td>\n",
       "      <td>4.249599</td>\n",
       "      <td>1.285705</td>\n",
       "    </tr>\n",
       "    <tr>\n",
       "      <th>4</th>\n",
       "      <td>Amérique</td>\n",
       "      <td>75</td>\n",
       "      <td>16.4</td>\n",
       "      <td>11.48</td>\n",
       "      <td>19.68</td>\n",
       "      <td>Apres 1990</td>\n",
       "      <td>non meublé</td>\n",
       "      <td>4</td>\n",
       "      <td>POLYGON ((2.40940 48.88019, 2.40995 48.87952, ...</td>\n",
       "      <td>1.835720</td>\n",
       "      <td>4.643892</td>\n",
       "      <td>4.643892</td>\n",
       "      <td>1.835720</td>\n",
       "    </tr>\n",
       "  </tbody>\n",
       "</table>\n",
       "</div>"
      ],
      "text/plain": [
       "      nom_quartier  id_quartier   ref    min    max      epoque  meuble_txt  \\\n",
       "0  Pont-de-Flandre           74  22.7  15.89  27.24  Avant 1946      meublé   \n",
       "1           Combat           76  23.2  16.24  27.84  Avant 1946      meublé   \n",
       "2           Combat           76  23.1  16.17  27.72   1971-1990  non meublé   \n",
       "3         Villette           73  25.0  17.50  30.00  Avant 1946      meublé   \n",
       "4         Amérique           75  16.4  11.48  19.68  Apres 1990  non meublé   \n",
       "\n",
       "   piece                                           geometry  \\\n",
       "0      4  POLYGON ((2.38488 48.88663, 2.38483 48.88662, ...   \n",
       "1      3  POLYGON ((2.38834 48.88057, 2.38950 48.87955, ...   \n",
       "2      1  POLYGON ((2.38834 48.88057, 2.38950 48.87955, ...   \n",
       "3      2  POLYGON ((2.37050 48.87820, 2.37028 48.87799, ...   \n",
       "4      4  POLYGON ((2.40940 48.88019, 2.40995 48.87952, ...   \n",
       "\n",
       "   superficie_quartier         0  distance_centre_paris  superficie2_quartier  \n",
       "0             2.376238  5.379327               5.379327              2.376238  \n",
       "1             1.294988  3.627396               3.627396              1.294988  \n",
       "2             1.294988  3.627396               3.627396              1.294988  \n",
       "3             1.285705  4.249599               4.249599              1.285705  \n",
       "4             1.835720  4.643892               4.643892              1.835720  "
      ]
     },
     "execution_count": 84,
     "metadata": {},
     "output_type": "execute_result"
    }
   ],
   "source": [
    "donnees.head(5)"
   ]
  },
  {
   "cell_type": "markdown",
   "metadata": {},
   "source": [
    "## 3. Enrichissement des données : stations de métro et de rer\n",
    "\n",
    "Pour enrichir ces données et mieux comprendre l'effet du quartier sur le loyer d'un logement, on peut essayer de compter le nombre de lignes de métro et de rer qui passe dans chaque quartier.  \n",
    "\n",
    "Pour cela, on va récupérer les données de Wikipédia par web-scraping. On crée une base de données qui recense le nom, la position et le nombre de lignes desservies de chaque station de métro et de rer. "
   ]
  },
  {
   "cell_type": "code",
   "execution_count": 17,
   "metadata": {},
   "outputs": [],
   "source": [
    "# Fonction pour transformer les coordonnées récoltées (sous format DMS nord-est) en format DD :\n",
    "\n",
    "dd = lambda d,m,s : float(d) + float(m)/60 + float(s)/(60*60)\n",
    "def dms_to_dd (dms):\n",
    "    parts = re.split('[^\\d\\w]+', dms)\n",
    "    lat = dd(parts[0], parts[1], parts[2])\n",
    "    lng = dd(parts[4], parts[5], parts[6])\n",
    "    return (lat, lng)"
   ]
  },
  {
   "cell_type": "markdown",
   "metadata": {},
   "source": [
    "- Pour le métro, on utilise le listing des stations de métro de Wikipédia (https://fr.wikipedia.org/wiki/Liste_des_stations_du_m%C3%A9tro_de_Paris). Pour chaque station de métro, on récupère son nom et on se rend sur sa page Wikipédia pour récupérer ses coordonnées géographiques. Cette station est dupliquée pour chaque ligne de métro qu'elle dessert ;\n",
    "- Pour le rer, on utilise le listing des stations de rer de Wikipédia (https://fr.wikipedia.org/wiki/Liste_des_gares_du_RER_d%27%C3%8Ele-de-France). On fait le même traitement que pour les métros. Cette fois le listing contient des stations hors Paris, celles de Paris correspondent aux lignes 6 à 34."
   ]
  },
  {
   "cell_type": "code",
   "execution_count": 39,
   "metadata": {
    "scrolled": true
   },
   "outputs": [],
   "source": [
    "nom = []\n",
    "ligne = [] \n",
    "latitude = []\n",
    "longitude = []\n",
    "\n",
    "urls = ['https://fr.wikipedia.org/wiki/Liste_des_stations_du_m%C3%A9tro_de_Paris','https://fr.wikipedia.org/wiki/Liste_des_gares_du_RER_d%27%C3%8Ele-de-France']\n",
    "\n",
    "for url in urls : \n",
    "\n",
    "    sock = urllib.request.urlopen(url).read() \n",
    "    page=bs4.BeautifulSoup(sock)\n",
    "\n",
    "    liste_stations = page.find('table').findAll('tr')\n",
    "    \n",
    "    for station in liste_stations[1:] :\n",
    "    \n",
    "        #Nom de la station :    \n",
    "        nom_station = station.find('a').text\n",
    "    \n",
    "        #Coordonnées géographiques de la station :\n",
    "        url_station = \"http://fr.wikipedia.org\"+station.find('a').get('href')\n",
    "    \n",
    "        search = urllib.request.urlopen(url_station).read()\n",
    "        search_station=bs4.BeautifulSoup(search)\n",
    "    \n",
    "        coord = search_station.find('a',{'class': \"mw-kartographer-maplink\"}).text\n",
    "        lat,lng = dms_to_dd(coord)\n",
    "    \n",
    "        #Lignes desservies par la station :    \n",
    "        lignes = station.find('span',{'style' : \"white-space:nowrap\"}).findAll('span')\n",
    "    \n",
    "        for l in lignes : \n",
    "            nom.append(nom_station)\n",
    "            ligne.append(l.get('data-sort-value'))\n",
    "            latitude.append(lat)\n",
    "            longitude.append(lng)\n",
    "            \n",
    "stations = gpd.GeoDataFrame(pd.DataFrame({'nom' : nom, 'ligne' : ligne}),geometry=gpd.points_from_xy(longitude, latitude))"
   ]
  },
  {
   "cell_type": "code",
   "execution_count": 45,
   "metadata": {},
   "outputs": [
    {
     "data": {
      "text/html": [
       "<div>\n",
       "<style scoped>\n",
       "    .dataframe tbody tr th:only-of-type {\n",
       "        vertical-align: middle;\n",
       "    }\n",
       "\n",
       "    .dataframe tbody tr th {\n",
       "        vertical-align: top;\n",
       "    }\n",
       "\n",
       "    .dataframe thead th {\n",
       "        text-align: right;\n",
       "    }\n",
       "</style>\n",
       "<table border=\"1\" class=\"dataframe\">\n",
       "  <thead>\n",
       "    <tr style=\"text-align: right;\">\n",
       "      <th></th>\n",
       "      <th>nom</th>\n",
       "      <th>ligne</th>\n",
       "      <th>geometry</th>\n",
       "    </tr>\n",
       "  </thead>\n",
       "  <tbody>\n",
       "    <tr>\n",
       "      <th>0</th>\n",
       "      <td>Abbesses</td>\n",
       "      <td>12 !</td>\n",
       "      <td>POINT (2.33861 48.88444)</td>\n",
       "    </tr>\n",
       "    <tr>\n",
       "      <th>1</th>\n",
       "      <td>Alésia</td>\n",
       "      <td>04 !</td>\n",
       "      <td>POINT (2.32667 48.82833)</td>\n",
       "    </tr>\n",
       "    <tr>\n",
       "      <th>2</th>\n",
       "      <td>Alexandre Dumas</td>\n",
       "      <td>02 !</td>\n",
       "      <td>POINT (2.39500 48.85611)</td>\n",
       "    </tr>\n",
       "    <tr>\n",
       "      <th>3</th>\n",
       "      <td>Alma - Marceau</td>\n",
       "      <td>09 !</td>\n",
       "      <td>POINT (2.30028 48.86500)</td>\n",
       "    </tr>\n",
       "    <tr>\n",
       "      <th>4</th>\n",
       "      <td>Anatole France</td>\n",
       "      <td>03 !</td>\n",
       "      <td>POINT (2.28556 48.89194)</td>\n",
       "    </tr>\n",
       "  </tbody>\n",
       "</table>\n",
       "</div>"
      ],
      "text/plain": [
       "               nom ligne                  geometry\n",
       "0         Abbesses  12 !  POINT (2.33861 48.88444)\n",
       "1           Alésia  04 !  POINT (2.32667 48.82833)\n",
       "2  Alexandre Dumas  02 !  POINT (2.39500 48.85611)\n",
       "3   Alma - Marceau  09 !  POINT (2.30028 48.86500)\n",
       "4   Anatole France  03 !  POINT (2.28556 48.89194)"
      ]
     },
     "execution_count": 45,
     "metadata": {},
     "output_type": "execute_result"
    }
   ],
   "source": [
    "stations.head(5)"
   ]
  },
  {
   "cell_type": "markdown",
   "metadata": {},
   "source": [
    "On récupère ensuite une base de données de la mairie de Paris contenant la liste de ses quartiers administratifs et leur représentation graphique :"
   ]
  },
  {
   "cell_type": "code",
   "execution_count": 46,
   "metadata": {},
   "outputs": [],
   "source": [
    "quartiers_bruts = gpd.read_file('https://parisdata.opendatasoft.com/explore/dataset/quartier_paris/download/?format=geojson&timezone=Europe/Berlin&lang=fr')\n",
    "quartiers = quartiers_bruts[['l_qu','c_qu','geometry']]"
   ]
  },
  {
   "cell_type": "code",
   "execution_count": 47,
   "metadata": {},
   "outputs": [
    {
     "data": {
      "text/html": [
       "<div>\n",
       "<style scoped>\n",
       "    .dataframe tbody tr th:only-of-type {\n",
       "        vertical-align: middle;\n",
       "    }\n",
       "\n",
       "    .dataframe tbody tr th {\n",
       "        vertical-align: top;\n",
       "    }\n",
       "\n",
       "    .dataframe thead th {\n",
       "        text-align: right;\n",
       "    }\n",
       "</style>\n",
       "<table border=\"1\" class=\"dataframe\">\n",
       "  <thead>\n",
       "    <tr style=\"text-align: right;\">\n",
       "      <th></th>\n",
       "      <th>l_qu</th>\n",
       "      <th>c_qu</th>\n",
       "      <th>geometry</th>\n",
       "    </tr>\n",
       "  </thead>\n",
       "  <tbody>\n",
       "    <tr>\n",
       "      <th>0</th>\n",
       "      <td>Sainte-Avoie</td>\n",
       "      <td>12</td>\n",
       "      <td>POLYGON ((2.35822 48.86122, 2.35690 48.86007, ...</td>\n",
       "    </tr>\n",
       "    <tr>\n",
       "      <th>1</th>\n",
       "      <td>Hôpital-Saint-Louis</td>\n",
       "      <td>40</td>\n",
       "      <td>POLYGON ((2.37243 48.87611, 2.37359 48.87509, ...</td>\n",
       "    </tr>\n",
       "    <tr>\n",
       "      <th>2</th>\n",
       "      <td>Belleville</td>\n",
       "      <td>77</td>\n",
       "      <td>POLYGON ((2.38323 48.86710, 2.38314 48.86708, ...</td>\n",
       "    </tr>\n",
       "    <tr>\n",
       "      <th>3</th>\n",
       "      <td>Ternes</td>\n",
       "      <td>65</td>\n",
       "      <td>POLYGON ((2.29504 48.87378, 2.29504 48.87378, ...</td>\n",
       "    </tr>\n",
       "    <tr>\n",
       "      <th>4</th>\n",
       "      <td>Monnaie</td>\n",
       "      <td>21</td>\n",
       "      <td>POLYGON ((2.34317 48.85139, 2.34268 48.85036, ...</td>\n",
       "    </tr>\n",
       "  </tbody>\n",
       "</table>\n",
       "</div>"
      ],
      "text/plain": [
       "                  l_qu  c_qu  \\\n",
       "0         Sainte-Avoie    12   \n",
       "1  Hôpital-Saint-Louis    40   \n",
       "2           Belleville    77   \n",
       "3               Ternes    65   \n",
       "4              Monnaie    21   \n",
       "\n",
       "                                            geometry  \n",
       "0  POLYGON ((2.35822 48.86122, 2.35690 48.86007, ...  \n",
       "1  POLYGON ((2.37243 48.87611, 2.37359 48.87509, ...  \n",
       "2  POLYGON ((2.38323 48.86710, 2.38314 48.86708, ...  \n",
       "3  POLYGON ((2.29504 48.87378, 2.29504 48.87378, ...  \n",
       "4  POLYGON ((2.34317 48.85139, 2.34268 48.85036, ...  "
      ]
     },
     "execution_count": 47,
     "metadata": {},
     "output_type": "execute_result"
    }
   ],
   "source": [
    "quartiers.head(5)"
   ]
  },
  {
   "cell_type": "markdown",
   "metadata": {},
   "source": [
    "On associe ensuite à chaque station le quartier auquel elle appartient :"
   ]
  },
  {
   "cell_type": "code",
   "execution_count": 80,
   "metadata": {},
   "outputs": [
    {
     "name": "stderr",
     "output_type": "stream",
     "text": [
      "C:\\Users\\blasc\\Anaconda3\\lib\\site-packages\\geopandas\\tools\\sjoin.py:58: UserWarning: CRS of frames being joined does not match!(None != {'init': 'epsg:4326'})\n",
      "  warn(\n"
     ]
    }
   ],
   "source": [
    "stations_quartiers = gpd.sjoin(stations, quartiers, op='intersects')\n"
   ]
  },
  {
   "cell_type": "code",
   "execution_count": 81,
   "metadata": {},
   "outputs": [
    {
     "data": {
      "text/html": [
       "<div>\n",
       "<style scoped>\n",
       "    .dataframe tbody tr th:only-of-type {\n",
       "        vertical-align: middle;\n",
       "    }\n",
       "\n",
       "    .dataframe tbody tr th {\n",
       "        vertical-align: top;\n",
       "    }\n",
       "\n",
       "    .dataframe thead th {\n",
       "        text-align: right;\n",
       "    }\n",
       "</style>\n",
       "<table border=\"1\" class=\"dataframe\">\n",
       "  <thead>\n",
       "    <tr style=\"text-align: right;\">\n",
       "      <th></th>\n",
       "      <th>nom</th>\n",
       "      <th>ligne</th>\n",
       "      <th>geometry</th>\n",
       "      <th>index_right</th>\n",
       "      <th>l_qu</th>\n",
       "      <th>c_qu</th>\n",
       "    </tr>\n",
       "  </thead>\n",
       "  <tbody>\n",
       "    <tr>\n",
       "      <th>0</th>\n",
       "      <td>Abbesses</td>\n",
       "      <td>12 !</td>\n",
       "      <td>POINT (2.33861 48.88444)</td>\n",
       "      <td>48</td>\n",
       "      <td>Clignancourt</td>\n",
       "      <td>70</td>\n",
       "    </tr>\n",
       "    <tr>\n",
       "      <th>5</th>\n",
       "      <td>Anvers</td>\n",
       "      <td>02 !</td>\n",
       "      <td>POINT (2.34472 48.88306)</td>\n",
       "      <td>48</td>\n",
       "      <td>Clignancourt</td>\n",
       "      <td>70</td>\n",
       "    </tr>\n",
       "    <tr>\n",
       "      <th>63</th>\n",
       "      <td>Château Rouge</td>\n",
       "      <td>04 !</td>\n",
       "      <td>POINT (2.34944 48.88667)</td>\n",
       "      <td>48</td>\n",
       "      <td>Clignancourt</td>\n",
       "      <td>70</td>\n",
       "    </tr>\n",
       "    <tr>\n",
       "      <th>155</th>\n",
       "      <td>Jules Joffrin</td>\n",
       "      <td>12 !</td>\n",
       "      <td>POINT (2.34472 48.89250)</td>\n",
       "      <td>48</td>\n",
       "      <td>Clignancourt</td>\n",
       "      <td>70</td>\n",
       "    </tr>\n",
       "    <tr>\n",
       "      <th>203</th>\n",
       "      <td>Marcadet - Poissonniers</td>\n",
       "      <td>04 !</td>\n",
       "      <td>POINT (2.35000 48.89028)</td>\n",
       "      <td>48</td>\n",
       "      <td>Clignancourt</td>\n",
       "      <td>70</td>\n",
       "    </tr>\n",
       "  </tbody>\n",
       "</table>\n",
       "</div>"
      ],
      "text/plain": [
       "                         nom ligne                  geometry  index_right  \\\n",
       "0                   Abbesses  12 !  POINT (2.33861 48.88444)           48   \n",
       "5                     Anvers  02 !  POINT (2.34472 48.88306)           48   \n",
       "63             Château Rouge  04 !  POINT (2.34944 48.88667)           48   \n",
       "155            Jules Joffrin  12 !  POINT (2.34472 48.89250)           48   \n",
       "203  Marcadet - Poissonniers  04 !  POINT (2.35000 48.89028)           48   \n",
       "\n",
       "             l_qu  c_qu  \n",
       "0    Clignancourt    70  \n",
       "5    Clignancourt    70  \n",
       "63   Clignancourt    70  \n",
       "155  Clignancourt    70  \n",
       "203  Clignancourt    70  "
      ]
     },
     "execution_count": 81,
     "metadata": {},
     "output_type": "execute_result"
    }
   ],
   "source": [
    "stations_quartiers.head(5)"
   ]
  },
  {
   "cell_type": "code",
   "execution_count": 87,
   "metadata": {},
   "outputs": [
    {
     "data": {
      "text/plain": [
       "<AxesSubplot:>"
      ]
     },
     "execution_count": 87,
     "metadata": {},
     "output_type": "execute_result"
    },
    {
     "data": {
      "image/png": "[encoded data removed]",
      "text/plain": [
       "<Figure size 720x720 with 1 Axes>"
      ]
     },
     "metadata": {
      "needs_background": "light"
     },
     "output_type": "display_data"
    }
   ],
   "source": [
    "axi = stations_quartiers.plot(figsize = (10,10), color = 'red', alpha = 0.4, zorder=2)\n",
    "quartiers.plot(ax = axi, zorder=1, edgecolor = \"black\", facecolor=\"none\",\n",
    "                                                           color = None)"
   ]
  },
  {
   "cell_type": "markdown",
   "metadata": {},
   "source": [
    "Il ne reste plus qu'à supprimer les doublons pour savoir quelles lignes de métro ou rer passent dans chaque quartier de Paris. "
   ]
  },
  {
   "cell_type": "code",
   "execution_count": 102,
   "metadata": {},
   "outputs": [],
   "source": [
    "lignes_quartiers = stations_quartiers[['c_qu','ligne']].drop_duplicates()"
   ]
  },
  {
   "cell_type": "code",
   "execution_count": 118,
   "metadata": {},
   "outputs": [
    {
     "data": {
      "text/html": [
       "<div>\n",
       "<style scoped>\n",
       "    .dataframe tbody tr th:only-of-type {\n",
       "        vertical-align: middle;\n",
       "    }\n",
       "\n",
       "    .dataframe tbody tr th {\n",
       "        vertical-align: top;\n",
       "    }\n",
       "\n",
       "    .dataframe thead th {\n",
       "        text-align: right;\n",
       "    }\n",
       "</style>\n",
       "<table border=\"1\" class=\"dataframe\">\n",
       "  <thead>\n",
       "    <tr style=\"text-align: right;\">\n",
       "      <th></th>\n",
       "      <th>c_qu</th>\n",
       "      <th>ligne</th>\n",
       "    </tr>\n",
       "  </thead>\n",
       "  <tbody>\n",
       "    <tr>\n",
       "      <th>346</th>\n",
       "      <td>11</td>\n",
       "      <td>08 !</td>\n",
       "    </tr>\n",
       "    <tr>\n",
       "      <th>349</th>\n",
       "      <td>7</td>\n",
       "      <td>03 !</td>\n",
       "    </tr>\n",
       "    <tr>\n",
       "      <th>361</th>\n",
       "      <td>15</td>\n",
       "      <td>07 !</td>\n",
       "    </tr>\n",
       "    <tr>\n",
       "      <th>369</th>\n",
       "      <td>4</td>\n",
       "      <td>01 !</td>\n",
       "    </tr>\n",
       "    <tr>\n",
       "      <th>453</th>\n",
       "      <td>19</td>\n",
       "      <td>B !</td>\n",
       "    </tr>\n",
       "  </tbody>\n",
       "</table>\n",
       "</div>"
      ],
      "text/plain": [
       "     c_qu ligne\n",
       "346    11  08 !\n",
       "349     7  03 !\n",
       "361    15  07 !\n",
       "369     4  01 !\n",
       "453    19   B !"
      ]
     },
     "execution_count": 118,
     "metadata": {},
     "output_type": "execute_result"
    }
   ],
   "source": [
    "lignes_quartiers.tail(5)"
   ]
  },
  {
   "cell_type": "markdown",
   "metadata": {},
   "source": [
    "Ensuite, on réalise un nouveau web scraping sur Wikipédia pour attribuer un score à chaque ligne : on va lister chaque ligne et sa fréquentation annuelle, divisée par la fréquentation annuelle la plus élevée."
   ]
  },
  {
   "cell_type": "code",
   "execution_count": 132,
   "metadata": {},
   "outputs": [],
   "source": [
    "#Pour le rer, il faut aller sur chaque page Wikipédia de la ligne. Pour aller plus vite, on le fait manuellement (il n'y a que 5 lignes) :\n",
    "\n",
    "lignes = ['A !','B !','C !','D !','E !']\n",
    "frequentation = [309.36,165.5,140,145,60] \n",
    "\n",
    "\n",
    "#Pour le métro, il existe directement un classement sur Wikipédia :\n",
    "\n",
    "sock = urllib.request.urlopen(\"https://fr.wikipedia.org/wiki/Liste_des_lignes_de_m%C3%A9tro_parisiennes_par_fr%C3%A9quentation\").read() \n",
    "page=bs4.BeautifulSoup(sock)\n",
    "\n",
    "liste_lignes = page.find('table').findAll('tr')\n",
    "\n",
    "for ligne in liste_lignes[1:] :\n",
    "    \n",
    "    freq = ligne.find('bdi')\n",
    "    \n",
    "    for sous_ligne in ligne.findAll('span') :\n",
    "        lignes.append(sous_ligne.get('data-sort-value'))\n",
    "        frequentation.append(float(freq.text.replace(',','.')))\n",
    "        \n",
    "lignes_freq = pd.DataFrame({'ligne' : lignes,'fréquentation' : frequentation})"
   ]
  },
  {
   "cell_type": "code",
   "execution_count": 133,
   "metadata": {},
   "outputs": [
    {
     "data": {
      "text/html": [
       "<div>\n",
       "<style scoped>\n",
       "    .dataframe tbody tr th:only-of-type {\n",
       "        vertical-align: middle;\n",
       "    }\n",
       "\n",
       "    .dataframe tbody tr th {\n",
       "        vertical-align: top;\n",
       "    }\n",
       "\n",
       "    .dataframe thead th {\n",
       "        text-align: right;\n",
       "    }\n",
       "</style>\n",
       "<table border=\"1\" class=\"dataframe\">\n",
       "  <thead>\n",
       "    <tr style=\"text-align: right;\">\n",
       "      <th></th>\n",
       "      <th>ligne</th>\n",
       "      <th>fréquentation</th>\n",
       "    </tr>\n",
       "  </thead>\n",
       "  <tbody>\n",
       "    <tr>\n",
       "      <th>0</th>\n",
       "      <td>A !</td>\n",
       "      <td>309.36</td>\n",
       "    </tr>\n",
       "    <tr>\n",
       "      <th>1</th>\n",
       "      <td>B !</td>\n",
       "      <td>165.50</td>\n",
       "    </tr>\n",
       "  </tbody>\n",
       "</table>\n",
       "</div>"
      ],
      "text/plain": [
       "  ligne  fréquentation\n",
       "0   A !         309.36\n",
       "1   B !         165.50"
      ]
     },
     "execution_count": 133,
     "metadata": {},
     "output_type": "execute_result"
    }
   ],
   "source": [
    "lignes_freq.head(2)"
   ]
  },
  {
   "cell_type": "code",
   "execution_count": 135,
   "metadata": {},
   "outputs": [],
   "source": [
    "lignes_quartiers_freq = lignes_quartiers.merge(lignes_freq, on='ligne')"
   ]
  },
  {
   "cell_type": "code",
   "execution_count": 164,
   "metadata": {
    "scrolled": true
   },
   "outputs": [],
   "source": [
    "quartiers_freq = lignes_quartiers_freq[['c_qu','fréquentation']].groupby('c_qu').sum()\n",
    "\n",
    "m = max(quartiers_freq['fréquentation'])\n",
    "\n",
    "quartiers_freq['fréquentation'] = quartiers_freq['fréquentation']/m"
   ]
  },
  {
   "cell_type": "markdown",
   "metadata": {},
   "source": [
    "Pour finir, on ajoute le score obtenu à notre base de données :"
   ]
  },
  {
   "cell_type": "code",
   "execution_count": 166,
   "metadata": {},
   "outputs": [],
   "source": [
    "donnees_augmentees = donnees.join(quartiers_freq, on='id_quartier')\n",
    "donnees_augmentees.rename(columns={'fréquentation': 'score_metro'}, inplace=True)"
   ]
  },
  {
   "cell_type": "code",
   "execution_count": 167,
   "metadata": {},
   "outputs": [
    {
     "data": {
      "text/html": [
       "<div>\n",
       "<style scoped>\n",
       "    .dataframe tbody tr th:only-of-type {\n",
       "        vertical-align: middle;\n",
       "    }\n",
       "\n",
       "    .dataframe tbody tr th {\n",
       "        vertical-align: top;\n",
       "    }\n",
       "\n",
       "    .dataframe thead th {\n",
       "        text-align: right;\n",
       "    }\n",
       "</style>\n",
       "<table border=\"1\" class=\"dataframe\">\n",
       "  <thead>\n",
       "    <tr style=\"text-align: right;\">\n",
       "      <th></th>\n",
       "      <th>nom_quartier</th>\n",
       "      <th>id_quartier</th>\n",
       "      <th>ref</th>\n",
       "      <th>min</th>\n",
       "      <th>max</th>\n",
       "      <th>epoque</th>\n",
       "      <th>meuble_txt</th>\n",
       "      <th>piece</th>\n",
       "      <th>geometry</th>\n",
       "      <th>superficie_quartier</th>\n",
       "      <th>score_metro</th>\n",
       "    </tr>\n",
       "  </thead>\n",
       "  <tbody>\n",
       "    <tr>\n",
       "      <th>0</th>\n",
       "      <td>Plaisance</td>\n",
       "      <td>56</td>\n",
       "      <td>22.5</td>\n",
       "      <td>15.75</td>\n",
       "      <td>27.00</td>\n",
       "      <td>Avant 1946</td>\n",
       "      <td>meublé</td>\n",
       "      <td>4</td>\n",
       "      <td>POLYGON ((2.32113 48.83990, 2.32137 48.83978, ...</td>\n",
       "      <td>0.000219</td>\n",
       "      <td>0.127798</td>\n",
       "    </tr>\n",
       "    <tr>\n",
       "      <th>1</th>\n",
       "      <td>Parc-de-Montsouris</td>\n",
       "      <td>54</td>\n",
       "      <td>21.4</td>\n",
       "      <td>14.98</td>\n",
       "      <td>25.68</td>\n",
       "      <td>1946-1970</td>\n",
       "      <td>meublé</td>\n",
       "      <td>3</td>\n",
       "      <td>POLYGON ((2.34400 48.81613, 2.34397 48.81577, ...</td>\n",
       "      <td>0.000166</td>\n",
       "      <td>0.269551</td>\n",
       "    </tr>\n",
       "    <tr>\n",
       "      <th>2</th>\n",
       "      <td>Saint-Lambert</td>\n",
       "      <td>57</td>\n",
       "      <td>26.6</td>\n",
       "      <td>18.62</td>\n",
       "      <td>31.92</td>\n",
       "      <td>Apres 1990</td>\n",
       "      <td>meublé</td>\n",
       "      <td>3</td>\n",
       "      <td>POLYGON ((2.30425 48.84041, 2.30497 48.84061, ...</td>\n",
       "      <td>0.000347</td>\n",
       "      <td>0.080614</td>\n",
       "    </tr>\n",
       "    <tr>\n",
       "      <th>3</th>\n",
       "      <td>Grenelle</td>\n",
       "      <td>59</td>\n",
       "      <td>24.1</td>\n",
       "      <td>16.87</td>\n",
       "      <td>28.92</td>\n",
       "      <td>Avant 1946</td>\n",
       "      <td>non meublé</td>\n",
       "      <td>2</td>\n",
       "      <td>POLYGON ((2.30088 48.85118, 2.30088 48.85118, ...</td>\n",
       "      <td>0.000181</td>\n",
       "      <td>0.390121</td>\n",
       "    </tr>\n",
       "    <tr>\n",
       "      <th>4</th>\n",
       "      <td>Auteuil</td>\n",
       "      <td>61</td>\n",
       "      <td>27.8</td>\n",
       "      <td>19.46</td>\n",
       "      <td>33.36</td>\n",
       "      <td>Apres 1990</td>\n",
       "      <td>meublé</td>\n",
       "      <td>3</td>\n",
       "      <td>POLYGON ((2.24922 48.85783, 2.24959 48.85782, ...</td>\n",
       "      <td>0.000782</td>\n",
       "      <td>0.181809</td>\n",
       "    </tr>\n",
       "  </tbody>\n",
       "</table>\n",
       "</div>"
      ],
      "text/plain": [
       "         nom_quartier  id_quartier   ref    min    max      epoque  \\\n",
       "0           Plaisance           56  22.5  15.75  27.00  Avant 1946   \n",
       "1  Parc-de-Montsouris           54  21.4  14.98  25.68   1946-1970   \n",
       "2       Saint-Lambert           57  26.6  18.62  31.92  Apres 1990   \n",
       "3            Grenelle           59  24.1  16.87  28.92  Avant 1946   \n",
       "4             Auteuil           61  27.8  19.46  33.36  Apres 1990   \n",
       "\n",
       "   meuble_txt  piece                                           geometry  \\\n",
       "0      meublé      4  POLYGON ((2.32113 48.83990, 2.32137 48.83978, ...   \n",
       "1      meublé      3  POLYGON ((2.34400 48.81613, 2.34397 48.81577, ...   \n",
       "2      meublé      3  POLYGON ((2.30425 48.84041, 2.30497 48.84061, ...   \n",
       "3  non meublé      2  POLYGON ((2.30088 48.85118, 2.30088 48.85118, ...   \n",
       "4      meublé      3  POLYGON ((2.24922 48.85783, 2.24959 48.85782, ...   \n",
       "\n",
       "   superficie_quartier  score_metro  \n",
       "0             0.000219     0.127798  \n",
       "1             0.000166     0.269551  \n",
       "2             0.000347     0.080614  \n",
       "3             0.000181     0.390121  \n",
       "4             0.000782     0.181809  "
      ]
     },
     "execution_count": 167,
     "metadata": {},
     "output_type": "execute_result"
    }
   ],
   "source": [
    "donnees_augmentees.head(5)"
   ]
  },
  {
   "cell_type": "code",
   "execution_count": null,
   "metadata": {},
   "outputs": [],
   "source": []
  }
 ],
 "metadata": {
  "kernelspec": {
   "display_name": "Python 3",
   "language": "python",
   "name": "python3"
  },
  "language_info": {
   "codemirror_mode": {
    "name": "ipython",
    "version": 3
   },
   "file_extension": ".py",
   "mimetype": "text/x-python",
   "name": "python",
   "nbconvert_exporter": "python",
   "pygments_lexer": "ipython3",
   "version": "3.8.3"
  }
 },
 "nbformat": 4,
 "nbformat_minor": 4
}
